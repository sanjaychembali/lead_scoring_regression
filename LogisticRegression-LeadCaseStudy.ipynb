{
 "cells": [
  {
   "cell_type": "code",
   "execution_count": 258,
   "metadata": {},
   "outputs": [],
   "source": [
    "#import pckages used\n",
    "\n",
    "import warnings\n",
    "warnings.filterwarnings('ignore')\n",
    "\n",
    "import numpy as np\n",
    "import pandas as pd\n",
    "import matplotlib.pyplot as plt\n",
    "import seaborn as sns\n",
    "import datetime as dt\n",
    "\n",
    "#Logistic Regression\n",
    "from sklearn.model_selection import train_test_split\n",
    "from sklearn.preprocessing import StandardScaler\n",
    "from sklearn.linear_model import LogisticRegression\n",
    "from sklearn.feature_selection import RFE\n",
    "from sklearn import metrics\n",
    "\n",
    "#Statsmodel,VIF\n",
    "from statsmodels.stats.outliers_influence import variance_inflation_factor\n",
    "import statsmodels.api as sm "
   ]
  },
  {
   "cell_type": "code",
   "execution_count": 259,
   "metadata": {},
   "outputs": [
    {
     "data": {
      "text/html": [
       "<div>\n",
       "<style scoped>\n",
       "    .dataframe tbody tr th:only-of-type {\n",
       "        vertical-align: middle;\n",
       "    }\n",
       "\n",
       "    .dataframe tbody tr th {\n",
       "        vertical-align: top;\n",
       "    }\n",
       "\n",
       "    .dataframe thead th {\n",
       "        text-align: right;\n",
       "    }\n",
       "</style>\n",
       "<table border=\"1\" class=\"dataframe\">\n",
       "  <thead>\n",
       "    <tr style=\"text-align: right;\">\n",
       "      <th></th>\n",
       "      <th>Prospect ID</th>\n",
       "      <th>Lead Number</th>\n",
       "      <th>Lead Origin</th>\n",
       "      <th>Lead Source</th>\n",
       "      <th>Do Not Email</th>\n",
       "      <th>Do Not Call</th>\n",
       "      <th>Converted</th>\n",
       "      <th>TotalVisits</th>\n",
       "      <th>Total Time Spent on Website</th>\n",
       "      <th>Page Views Per Visit</th>\n",
       "      <th>...</th>\n",
       "      <th>Get updates on DM Content</th>\n",
       "      <th>Lead Profile</th>\n",
       "      <th>City</th>\n",
       "      <th>Asymmetrique Activity Index</th>\n",
       "      <th>Asymmetrique Profile Index</th>\n",
       "      <th>Asymmetrique Activity Score</th>\n",
       "      <th>Asymmetrique Profile Score</th>\n",
       "      <th>I agree to pay the amount through cheque</th>\n",
       "      <th>A free copy of Mastering The Interview</th>\n",
       "      <th>Last Notable Activity</th>\n",
       "    </tr>\n",
       "  </thead>\n",
       "  <tbody>\n",
       "    <tr>\n",
       "      <th>0</th>\n",
       "      <td>7927b2df-8bba-4d29-b9a2-b6e0beafe620</td>\n",
       "      <td>660737</td>\n",
       "      <td>API</td>\n",
       "      <td>Olark Chat</td>\n",
       "      <td>No</td>\n",
       "      <td>No</td>\n",
       "      <td>0</td>\n",
       "      <td>0.0</td>\n",
       "      <td>0</td>\n",
       "      <td>0.0</td>\n",
       "      <td>...</td>\n",
       "      <td>No</td>\n",
       "      <td>Select</td>\n",
       "      <td>Select</td>\n",
       "      <td>02.Medium</td>\n",
       "      <td>02.Medium</td>\n",
       "      <td>15.0</td>\n",
       "      <td>15.0</td>\n",
       "      <td>No</td>\n",
       "      <td>No</td>\n",
       "      <td>Modified</td>\n",
       "    </tr>\n",
       "    <tr>\n",
       "      <th>1</th>\n",
       "      <td>2a272436-5132-4136-86fa-dcc88c88f482</td>\n",
       "      <td>660728</td>\n",
       "      <td>API</td>\n",
       "      <td>Organic Search</td>\n",
       "      <td>No</td>\n",
       "      <td>No</td>\n",
       "      <td>0</td>\n",
       "      <td>5.0</td>\n",
       "      <td>674</td>\n",
       "      <td>2.5</td>\n",
       "      <td>...</td>\n",
       "      <td>No</td>\n",
       "      <td>Select</td>\n",
       "      <td>Select</td>\n",
       "      <td>02.Medium</td>\n",
       "      <td>02.Medium</td>\n",
       "      <td>15.0</td>\n",
       "      <td>15.0</td>\n",
       "      <td>No</td>\n",
       "      <td>No</td>\n",
       "      <td>Email Opened</td>\n",
       "    </tr>\n",
       "    <tr>\n",
       "      <th>2</th>\n",
       "      <td>8cc8c611-a219-4f35-ad23-fdfd2656bd8a</td>\n",
       "      <td>660727</td>\n",
       "      <td>Landing Page Submission</td>\n",
       "      <td>Direct Traffic</td>\n",
       "      <td>No</td>\n",
       "      <td>No</td>\n",
       "      <td>1</td>\n",
       "      <td>2.0</td>\n",
       "      <td>1532</td>\n",
       "      <td>2.0</td>\n",
       "      <td>...</td>\n",
       "      <td>No</td>\n",
       "      <td>Potential Lead</td>\n",
       "      <td>Mumbai</td>\n",
       "      <td>02.Medium</td>\n",
       "      <td>01.High</td>\n",
       "      <td>14.0</td>\n",
       "      <td>20.0</td>\n",
       "      <td>No</td>\n",
       "      <td>Yes</td>\n",
       "      <td>Email Opened</td>\n",
       "    </tr>\n",
       "    <tr>\n",
       "      <th>3</th>\n",
       "      <td>0cc2df48-7cf4-4e39-9de9-19797f9b38cc</td>\n",
       "      <td>660719</td>\n",
       "      <td>Landing Page Submission</td>\n",
       "      <td>Direct Traffic</td>\n",
       "      <td>No</td>\n",
       "      <td>No</td>\n",
       "      <td>0</td>\n",
       "      <td>1.0</td>\n",
       "      <td>305</td>\n",
       "      <td>1.0</td>\n",
       "      <td>...</td>\n",
       "      <td>No</td>\n",
       "      <td>Select</td>\n",
       "      <td>Mumbai</td>\n",
       "      <td>02.Medium</td>\n",
       "      <td>01.High</td>\n",
       "      <td>13.0</td>\n",
       "      <td>17.0</td>\n",
       "      <td>No</td>\n",
       "      <td>No</td>\n",
       "      <td>Modified</td>\n",
       "    </tr>\n",
       "    <tr>\n",
       "      <th>4</th>\n",
       "      <td>3256f628-e534-4826-9d63-4a8b88782852</td>\n",
       "      <td>660681</td>\n",
       "      <td>Landing Page Submission</td>\n",
       "      <td>Google</td>\n",
       "      <td>No</td>\n",
       "      <td>No</td>\n",
       "      <td>1</td>\n",
       "      <td>2.0</td>\n",
       "      <td>1428</td>\n",
       "      <td>1.0</td>\n",
       "      <td>...</td>\n",
       "      <td>No</td>\n",
       "      <td>Select</td>\n",
       "      <td>Mumbai</td>\n",
       "      <td>02.Medium</td>\n",
       "      <td>01.High</td>\n",
       "      <td>15.0</td>\n",
       "      <td>18.0</td>\n",
       "      <td>No</td>\n",
       "      <td>No</td>\n",
       "      <td>Modified</td>\n",
       "    </tr>\n",
       "  </tbody>\n",
       "</table>\n",
       "<p>5 rows × 37 columns</p>\n",
       "</div>"
      ],
      "text/plain": [
       "                            Prospect ID  Lead Number              Lead Origin  \\\n",
       "0  7927b2df-8bba-4d29-b9a2-b6e0beafe620       660737                      API   \n",
       "1  2a272436-5132-4136-86fa-dcc88c88f482       660728                      API   \n",
       "2  8cc8c611-a219-4f35-ad23-fdfd2656bd8a       660727  Landing Page Submission   \n",
       "3  0cc2df48-7cf4-4e39-9de9-19797f9b38cc       660719  Landing Page Submission   \n",
       "4  3256f628-e534-4826-9d63-4a8b88782852       660681  Landing Page Submission   \n",
       "\n",
       "      Lead Source Do Not Email Do Not Call  Converted  TotalVisits  \\\n",
       "0      Olark Chat           No          No          0          0.0   \n",
       "1  Organic Search           No          No          0          5.0   \n",
       "2  Direct Traffic           No          No          1          2.0   \n",
       "3  Direct Traffic           No          No          0          1.0   \n",
       "4          Google           No          No          1          2.0   \n",
       "\n",
       "   Total Time Spent on Website  Page Views Per Visit  ...  \\\n",
       "0                            0                   0.0  ...   \n",
       "1                          674                   2.5  ...   \n",
       "2                         1532                   2.0  ...   \n",
       "3                          305                   1.0  ...   \n",
       "4                         1428                   1.0  ...   \n",
       "\n",
       "  Get updates on DM Content    Lead Profile    City  \\\n",
       "0                        No          Select  Select   \n",
       "1                        No          Select  Select   \n",
       "2                        No  Potential Lead  Mumbai   \n",
       "3                        No          Select  Mumbai   \n",
       "4                        No          Select  Mumbai   \n",
       "\n",
       "  Asymmetrique Activity Index Asymmetrique Profile Index  \\\n",
       "0                   02.Medium                  02.Medium   \n",
       "1                   02.Medium                  02.Medium   \n",
       "2                   02.Medium                    01.High   \n",
       "3                   02.Medium                    01.High   \n",
       "4                   02.Medium                    01.High   \n",
       "\n",
       "  Asymmetrique Activity Score Asymmetrique Profile Score  \\\n",
       "0                        15.0                       15.0   \n",
       "1                        15.0                       15.0   \n",
       "2                        14.0                       20.0   \n",
       "3                        13.0                       17.0   \n",
       "4                        15.0                       18.0   \n",
       "\n",
       "  I agree to pay the amount through cheque  \\\n",
       "0                                       No   \n",
       "1                                       No   \n",
       "2                                       No   \n",
       "3                                       No   \n",
       "4                                       No   \n",
       "\n",
       "  A free copy of Mastering The Interview Last Notable Activity  \n",
       "0                                     No              Modified  \n",
       "1                                     No          Email Opened  \n",
       "2                                    Yes          Email Opened  \n",
       "3                                     No              Modified  \n",
       "4                                     No              Modified  \n",
       "\n",
       "[5 rows x 37 columns]"
      ]
     },
     "execution_count": 259,
     "metadata": {},
     "output_type": "execute_result"
    }
   ],
   "source": [
    "# Read Data\n",
    "LeadData=pd.read_csv('Leads.csv')\n",
    "LeadData.head()"
   ]
  },
  {
   "cell_type": "markdown",
   "metadata": {},
   "source": [
    "## Data Cleaning:"
   ]
  },
  {
   "cell_type": "code",
   "execution_count": 260,
   "metadata": {},
   "outputs": [
    {
     "name": "stdout",
     "output_type": "stream",
     "text": [
      "<class 'pandas.core.frame.DataFrame'>\n",
      "RangeIndex: 9240 entries, 0 to 9239\n",
      "Data columns (total 37 columns):\n",
      "Prospect ID                                      9240 non-null object\n",
      "Lead Number                                      9240 non-null int64\n",
      "Lead Origin                                      9240 non-null object\n",
      "Lead Source                                      9204 non-null object\n",
      "Do Not Email                                     9240 non-null object\n",
      "Do Not Call                                      9240 non-null object\n",
      "Converted                                        9240 non-null int64\n",
      "TotalVisits                                      9103 non-null float64\n",
      "Total Time Spent on Website                      9240 non-null int64\n",
      "Page Views Per Visit                             9103 non-null float64\n",
      "Last Activity                                    9137 non-null object\n",
      "Country                                          6779 non-null object\n",
      "Specialization                                   7802 non-null object\n",
      "How did you hear about X Education               7033 non-null object\n",
      "What is your current occupation                  6550 non-null object\n",
      "What matters most to you in choosing a course    6531 non-null object\n",
      "Search                                           9240 non-null object\n",
      "Magazine                                         9240 non-null object\n",
      "Newspaper Article                                9240 non-null object\n",
      "X Education Forums                               9240 non-null object\n",
      "Newspaper                                        9240 non-null object\n",
      "Digital Advertisement                            9240 non-null object\n",
      "Through Recommendations                          9240 non-null object\n",
      "Receive More Updates About Our Courses           9240 non-null object\n",
      "Tags                                             5887 non-null object\n",
      "Lead Quality                                     4473 non-null object\n",
      "Update me on Supply Chain Content                9240 non-null object\n",
      "Get updates on DM Content                        9240 non-null object\n",
      "Lead Profile                                     6531 non-null object\n",
      "City                                             7820 non-null object\n",
      "Asymmetrique Activity Index                      5022 non-null object\n",
      "Asymmetrique Profile Index                       5022 non-null object\n",
      "Asymmetrique Activity Score                      5022 non-null float64\n",
      "Asymmetrique Profile Score                       5022 non-null float64\n",
      "I agree to pay the amount through cheque         9240 non-null object\n",
      "A free copy of Mastering The Interview           9240 non-null object\n",
      "Last Notable Activity                            9240 non-null object\n",
      "dtypes: float64(4), int64(3), object(30)\n",
      "memory usage: 1.6+ MB\n"
     ]
    }
   ],
   "source": [
    "# Get Info about data\n",
    "LeadData.info()"
   ]
  },
  {
   "cell_type": "code",
   "execution_count": 261,
   "metadata": {},
   "outputs": [
    {
     "data": {
      "text/plain": [
       "Prospect ID                                       0.00\n",
       "Lead Number                                       0.00\n",
       "Lead Origin                                       0.00\n",
       "Lead Source                                       0.39\n",
       "Do Not Email                                      0.00\n",
       "Do Not Call                                       0.00\n",
       "Converted                                         0.00\n",
       "TotalVisits                                       1.48\n",
       "Total Time Spent on Website                       0.00\n",
       "Page Views Per Visit                              1.48\n",
       "Last Activity                                     1.11\n",
       "Country                                          26.63\n",
       "Specialization                                   36.58\n",
       "How did you hear about X Education               78.46\n",
       "What is your current occupation                  29.11\n",
       "What matters most to you in choosing a course    29.32\n",
       "Search                                            0.00\n",
       "Magazine                                          0.00\n",
       "Newspaper Article                                 0.00\n",
       "X Education Forums                                0.00\n",
       "Newspaper                                         0.00\n",
       "Digital Advertisement                             0.00\n",
       "Through Recommendations                           0.00\n",
       "Receive More Updates About Our Courses            0.00\n",
       "Tags                                             36.29\n",
       "Lead Quality                                     51.59\n",
       "Update me on Supply Chain Content                 0.00\n",
       "Get updates on DM Content                         0.00\n",
       "Lead Profile                                     74.19\n",
       "City                                             39.71\n",
       "Asymmetrique Activity Index                      45.65\n",
       "Asymmetrique Profile Index                       45.65\n",
       "Asymmetrique Activity Score                      45.65\n",
       "Asymmetrique Profile Score                       45.65\n",
       "I agree to pay the amount through cheque          0.00\n",
       "A free copy of Mastering The Interview            0.00\n",
       "Last Notable Activity                             0.00\n",
       "dtype: float64"
      ]
     },
     "execution_count": 261,
     "metadata": {},
     "output_type": "execute_result"
    }
   ],
   "source": [
    "# info shows many columns have null values ; lets Treat the null values\n",
    "\n",
    "# Get % null values and 'Select' for each column\n",
    "round(100*((LeadData.isnull() | LeadData.isin(['Select'])).sum())/len(LeadData.index),2)"
   ]
  },
  {
   "cell_type": "code",
   "execution_count": 262,
   "metadata": {},
   "outputs": [],
   "source": [
    "#Function to get DataFrame for column value counts , its %, and converted sum for Non Null values \n",
    "#For NaNs it will show converted as 0 and can be ignored\n",
    "\n",
    "def getColValCount(ColName):\n",
    "    ColVals=[[],[],[],[]]\n",
    "    ColVals[0]=LeadData[ColName].value_counts(dropna=False).index\n",
    "    ColVals[1]=LeadData[ColName].value_counts(dropna=False).values\n",
    "    ColVals[2]=(LeadData[ColName].value_counts(dropna=False).values/92.4).round(0)\n",
    "    ColVals[3]=list(map(lambda x:LeadData.loc[LeadData[ColName]==x].Converted.sum(),ColVals[0]))\n",
    "    ColVals=pd.DataFrame(ColVals).T\n",
    "    ColVals.columns=['ColVals','Freq','%','Converted']\n",
    "    return ColVals"
   ]
  },
  {
   "cell_type": "code",
   "execution_count": 263,
   "metadata": {},
   "outputs": [
    {
     "data": {
      "text/html": [
       "<div>\n",
       "<style scoped>\n",
       "    .dataframe tbody tr th:only-of-type {\n",
       "        vertical-align: middle;\n",
       "    }\n",
       "\n",
       "    .dataframe tbody tr th {\n",
       "        vertical-align: top;\n",
       "    }\n",
       "\n",
       "    .dataframe thead th {\n",
       "        text-align: right;\n",
       "    }\n",
       "</style>\n",
       "<table border=\"1\" class=\"dataframe\">\n",
       "  <thead>\n",
       "    <tr style=\"text-align: right;\">\n",
       "      <th></th>\n",
       "      <th>ColVals</th>\n",
       "      <th>Freq</th>\n",
       "      <th>%</th>\n",
       "      <th>Converted</th>\n",
       "    </tr>\n",
       "  </thead>\n",
       "  <tbody>\n",
       "    <tr>\n",
       "      <th>0</th>\n",
       "      <td>Google</td>\n",
       "      <td>2873</td>\n",
       "      <td>31</td>\n",
       "      <td>1147</td>\n",
       "    </tr>\n",
       "    <tr>\n",
       "      <th>1</th>\n",
       "      <td>Direct Traffic</td>\n",
       "      <td>2543</td>\n",
       "      <td>28</td>\n",
       "      <td>818</td>\n",
       "    </tr>\n",
       "    <tr>\n",
       "      <th>2</th>\n",
       "      <td>Olark Chat</td>\n",
       "      <td>1755</td>\n",
       "      <td>19</td>\n",
       "      <td>448</td>\n",
       "    </tr>\n",
       "    <tr>\n",
       "      <th>3</th>\n",
       "      <td>Organic Search</td>\n",
       "      <td>1154</td>\n",
       "      <td>12</td>\n",
       "      <td>436</td>\n",
       "    </tr>\n",
       "    <tr>\n",
       "      <th>4</th>\n",
       "      <td>Reference</td>\n",
       "      <td>534</td>\n",
       "      <td>6</td>\n",
       "      <td>490</td>\n",
       "    </tr>\n",
       "    <tr>\n",
       "      <th>5</th>\n",
       "      <td>Welingak Website</td>\n",
       "      <td>142</td>\n",
       "      <td>2</td>\n",
       "      <td>140</td>\n",
       "    </tr>\n",
       "    <tr>\n",
       "      <th>6</th>\n",
       "      <td>Referral Sites</td>\n",
       "      <td>125</td>\n",
       "      <td>1</td>\n",
       "      <td>31</td>\n",
       "    </tr>\n",
       "    <tr>\n",
       "      <th>7</th>\n",
       "      <td>Facebook</td>\n",
       "      <td>55</td>\n",
       "      <td>1</td>\n",
       "      <td>13</td>\n",
       "    </tr>\n",
       "    <tr>\n",
       "      <th>8</th>\n",
       "      <td>bing</td>\n",
       "      <td>6</td>\n",
       "      <td>0</td>\n",
       "      <td>1</td>\n",
       "    </tr>\n",
       "    <tr>\n",
       "      <th>9</th>\n",
       "      <td>Click2call</td>\n",
       "      <td>4</td>\n",
       "      <td>0</td>\n",
       "      <td>3</td>\n",
       "    </tr>\n",
       "    <tr>\n",
       "      <th>10</th>\n",
       "      <td>Social Media</td>\n",
       "      <td>2</td>\n",
       "      <td>0</td>\n",
       "      <td>1</td>\n",
       "    </tr>\n",
       "    <tr>\n",
       "      <th>11</th>\n",
       "      <td>Live Chat</td>\n",
       "      <td>2</td>\n",
       "      <td>0</td>\n",
       "      <td>2</td>\n",
       "    </tr>\n",
       "    <tr>\n",
       "      <th>12</th>\n",
       "      <td>Press_Release</td>\n",
       "      <td>2</td>\n",
       "      <td>0</td>\n",
       "      <td>0</td>\n",
       "    </tr>\n",
       "    <tr>\n",
       "      <th>13</th>\n",
       "      <td>welearnblog_Home</td>\n",
       "      <td>1</td>\n",
       "      <td>0</td>\n",
       "      <td>0</td>\n",
       "    </tr>\n",
       "    <tr>\n",
       "      <th>14</th>\n",
       "      <td>blog</td>\n",
       "      <td>1</td>\n",
       "      <td>0</td>\n",
       "      <td>0</td>\n",
       "    </tr>\n",
       "    <tr>\n",
       "      <th>15</th>\n",
       "      <td>testone</td>\n",
       "      <td>1</td>\n",
       "      <td>0</td>\n",
       "      <td>0</td>\n",
       "    </tr>\n",
       "    <tr>\n",
       "      <th>16</th>\n",
       "      <td>Pay per Click Ads</td>\n",
       "      <td>1</td>\n",
       "      <td>0</td>\n",
       "      <td>0</td>\n",
       "    </tr>\n",
       "    <tr>\n",
       "      <th>17</th>\n",
       "      <td>youtubechannel</td>\n",
       "      <td>1</td>\n",
       "      <td>0</td>\n",
       "      <td>0</td>\n",
       "    </tr>\n",
       "    <tr>\n",
       "      <th>18</th>\n",
       "      <td>WeLearn</td>\n",
       "      <td>1</td>\n",
       "      <td>0</td>\n",
       "      <td>1</td>\n",
       "    </tr>\n",
       "    <tr>\n",
       "      <th>19</th>\n",
       "      <td>NC_EDM</td>\n",
       "      <td>1</td>\n",
       "      <td>0</td>\n",
       "      <td>1</td>\n",
       "    </tr>\n",
       "  </tbody>\n",
       "</table>\n",
       "</div>"
      ],
      "text/plain": [
       "              ColVals  Freq   % Converted\n",
       "0              Google  2873  31      1147\n",
       "1      Direct Traffic  2543  28       818\n",
       "2          Olark Chat  1755  19       448\n",
       "3      Organic Search  1154  12       436\n",
       "4           Reference   534   6       490\n",
       "5    Welingak Website   142   2       140\n",
       "6      Referral Sites   125   1        31\n",
       "7            Facebook    55   1        13\n",
       "8                bing     6   0         1\n",
       "9          Click2call     4   0         3\n",
       "10       Social Media     2   0         1\n",
       "11          Live Chat     2   0         2\n",
       "12      Press_Release     2   0         0\n",
       "13   welearnblog_Home     1   0         0\n",
       "14               blog     1   0         0\n",
       "15            testone     1   0         0\n",
       "16  Pay per Click Ads     1   0         0\n",
       "17     youtubechannel     1   0         0\n",
       "18            WeLearn     1   0         1\n",
       "19             NC_EDM     1   0         1"
      ]
     },
     "execution_count": 263,
     "metadata": {},
     "output_type": "execute_result"
    }
   ],
   "source": [
    "### Analyse NULL and other values in 'Lead Source' column\n",
    "\n",
    "#1) Google and google are two same values in different letter case. Change 'google' to 'Google'.\n",
    "LeadData['Lead Source'].replace('google','Google',inplace=True)\n",
    "\n",
    "#2) NaN values total =36 only 0.39% , hence remove rows with NULL\n",
    "LeadData=LeadData.loc[~LeadData['Lead Source'].isnull()]\n",
    "\n",
    "getColValCount('Lead Source')"
   ]
  },
  {
   "cell_type": "code",
   "execution_count": 264,
   "metadata": {},
   "outputs": [],
   "source": [
    "# Columns TotalVisits, Page Views Per Visit, Last Activity have very little NULL values . \n",
    "# Hence deleting null rows in these columns.\n",
    "LeadData=LeadData.loc[~LeadData['TotalVisits'].isnull()]\n",
    "LeadData=LeadData.loc[~LeadData['Page Views Per Visit'].isnull()]\n",
    "LeadData=LeadData.loc[~LeadData['Last Activity'].isnull()]"
   ]
  },
  {
   "cell_type": "code",
   "execution_count": 265,
   "metadata": {},
   "outputs": [
    {
     "data": {
      "text/plain": [
       "Prospect ID                                       0.00\n",
       "Lead Number                                       0.00\n",
       "Lead Origin                                       0.00\n",
       "Lead Source                                       0.00\n",
       "Do Not Email                                      0.00\n",
       "Do Not Call                                       0.00\n",
       "Converted                                         0.00\n",
       "TotalVisits                                       0.00\n",
       "Total Time Spent on Website                       0.00\n",
       "Page Views Per Visit                              0.00\n",
       "Last Activity                                     0.00\n",
       "Country                                          25.30\n",
       "Specialization                                   36.17\n",
       "How did you hear about X Education               78.09\n",
       "What is your current occupation                  29.57\n",
       "What matters most to you in choosing a course    29.78\n",
       "Search                                            0.00\n",
       "Magazine                                          0.00\n",
       "Newspaper Article                                 0.00\n",
       "X Education Forums                                0.00\n",
       "Newspaper                                         0.00\n",
       "Digital Advertisement                             0.00\n",
       "Through Recommendations                           0.00\n",
       "Receive More Updates About Our Courses            0.00\n",
       "Tags                                             36.67\n",
       "Lead Quality                                     52.02\n",
       "Update me on Supply Chain Content                 0.00\n",
       "Get updates on DM Content                         0.00\n",
       "Lead Profile                                     74.47\n",
       "City                                             39.40\n",
       "Asymmetrique Activity Index                      45.77\n",
       "Asymmetrique Profile Index                       45.77\n",
       "Asymmetrique Activity Score                      45.77\n",
       "Asymmetrique Profile Score                       45.77\n",
       "I agree to pay the amount through cheque          0.00\n",
       "A free copy of Mastering The Interview            0.00\n",
       "Last Notable Activity                             0.00\n",
       "dtype: float64"
      ]
     },
     "execution_count": 265,
     "metadata": {},
     "output_type": "execute_result"
    }
   ],
   "source": [
    "# Get % null values and 'Select' for each column\n",
    "round(100*((LeadData.isnull() | LeadData.isin(['Select'])).sum())/len(LeadData.index),2)"
   ]
  },
  {
   "cell_type": "markdown",
   "metadata": {},
   "source": [
    "### There are few column which have very little significance wrt to our problem , like Location (= Country,City). We drop these columns.\n",
    "\n",
    "### There are few columns which have too much of missing values (NULL,Select) like 'Lead Profile' ,'How did you hear about X Education'."
   ]
  },
  {
   "cell_type": "code",
   "execution_count": 266,
   "metadata": {},
   "outputs": [
    {
     "data": {
      "text/plain": [
       "(9074, 33)"
      ]
     },
     "execution_count": 266,
     "metadata": {},
     "output_type": "execute_result"
    }
   ],
   "source": [
    "# Drop the columns discussed above\n",
    "LeadData.drop(columns=['Country','City','Lead Profile','How did you hear about X Education'],inplace=True)\n",
    "LeadData.shape"
   ]
  },
  {
   "cell_type": "code",
   "execution_count": 267,
   "metadata": {},
   "outputs": [
    {
     "data": {
      "text/html": [
       "<div>\n",
       "<style scoped>\n",
       "    .dataframe tbody tr th:only-of-type {\n",
       "        vertical-align: middle;\n",
       "    }\n",
       "\n",
       "    .dataframe tbody tr th {\n",
       "        vertical-align: top;\n",
       "    }\n",
       "\n",
       "    .dataframe thead th {\n",
       "        text-align: right;\n",
       "    }\n",
       "</style>\n",
       "<table border=\"1\" class=\"dataframe\">\n",
       "  <thead>\n",
       "    <tr style=\"text-align: right;\">\n",
       "      <th></th>\n",
       "      <th>ColVals</th>\n",
       "      <th>Freq</th>\n",
       "      <th>%</th>\n",
       "      <th>Converted</th>\n",
       "    </tr>\n",
       "  </thead>\n",
       "  <tbody>\n",
       "    <tr>\n",
       "      <th>0</th>\n",
       "      <td>NaN</td>\n",
       "      <td>3327</td>\n",
       "      <td>36</td>\n",
       "      <td>0</td>\n",
       "    </tr>\n",
       "    <tr>\n",
       "      <th>1</th>\n",
       "      <td>Will revert after reading the email</td>\n",
       "      <td>2016</td>\n",
       "      <td>22</td>\n",
       "      <td>1957</td>\n",
       "    </tr>\n",
       "    <tr>\n",
       "      <th>2</th>\n",
       "      <td>Ringing</td>\n",
       "      <td>1187</td>\n",
       "      <td>13</td>\n",
       "      <td>34</td>\n",
       "    </tr>\n",
       "    <tr>\n",
       "      <th>3</th>\n",
       "      <td>Interested in other courses</td>\n",
       "      <td>509</td>\n",
       "      <td>6</td>\n",
       "      <td>13</td>\n",
       "    </tr>\n",
       "    <tr>\n",
       "      <th>4</th>\n",
       "      <td>Already a student</td>\n",
       "      <td>465</td>\n",
       "      <td>5</td>\n",
       "      <td>3</td>\n",
       "    </tr>\n",
       "    <tr>\n",
       "      <th>5</th>\n",
       "      <td>Closed by Horizzon</td>\n",
       "      <td>301</td>\n",
       "      <td>3</td>\n",
       "      <td>299</td>\n",
       "    </tr>\n",
       "    <tr>\n",
       "      <th>6</th>\n",
       "      <td>switched off</td>\n",
       "      <td>240</td>\n",
       "      <td>3</td>\n",
       "      <td>4</td>\n",
       "    </tr>\n",
       "    <tr>\n",
       "      <th>7</th>\n",
       "      <td>Busy</td>\n",
       "      <td>185</td>\n",
       "      <td>2</td>\n",
       "      <td>105</td>\n",
       "    </tr>\n",
       "    <tr>\n",
       "      <th>8</th>\n",
       "      <td>Lost to EINS</td>\n",
       "      <td>172</td>\n",
       "      <td>2</td>\n",
       "      <td>168</td>\n",
       "    </tr>\n",
       "    <tr>\n",
       "      <th>9</th>\n",
       "      <td>Not doing further education</td>\n",
       "      <td>145</td>\n",
       "      <td>2</td>\n",
       "      <td>1</td>\n",
       "    </tr>\n",
       "    <tr>\n",
       "      <th>10</th>\n",
       "      <td>Interested  in full time MBA</td>\n",
       "      <td>116</td>\n",
       "      <td>1</td>\n",
       "      <td>3</td>\n",
       "    </tr>\n",
       "    <tr>\n",
       "      <th>11</th>\n",
       "      <td>Graduation in progress</td>\n",
       "      <td>111</td>\n",
       "      <td>1</td>\n",
       "      <td>7</td>\n",
       "    </tr>\n",
       "    <tr>\n",
       "      <th>12</th>\n",
       "      <td>invalid number</td>\n",
       "      <td>83</td>\n",
       "      <td>1</td>\n",
       "      <td>1</td>\n",
       "    </tr>\n",
       "    <tr>\n",
       "      <th>13</th>\n",
       "      <td>Diploma holder (Not Eligible)</td>\n",
       "      <td>63</td>\n",
       "      <td>1</td>\n",
       "      <td>1</td>\n",
       "    </tr>\n",
       "    <tr>\n",
       "      <th>14</th>\n",
       "      <td>wrong number given</td>\n",
       "      <td>47</td>\n",
       "      <td>1</td>\n",
       "      <td>0</td>\n",
       "    </tr>\n",
       "    <tr>\n",
       "      <th>15</th>\n",
       "      <td>opp hangup</td>\n",
       "      <td>33</td>\n",
       "      <td>0</td>\n",
       "      <td>3</td>\n",
       "    </tr>\n",
       "    <tr>\n",
       "      <th>16</th>\n",
       "      <td>number not provided</td>\n",
       "      <td>25</td>\n",
       "      <td>0</td>\n",
       "      <td>0</td>\n",
       "    </tr>\n",
       "    <tr>\n",
       "      <th>17</th>\n",
       "      <td>in touch with EINS</td>\n",
       "      <td>12</td>\n",
       "      <td>0</td>\n",
       "      <td>3</td>\n",
       "    </tr>\n",
       "    <tr>\n",
       "      <th>18</th>\n",
       "      <td>Lost to Others</td>\n",
       "      <td>7</td>\n",
       "      <td>0</td>\n",
       "      <td>0</td>\n",
       "    </tr>\n",
       "    <tr>\n",
       "      <th>19</th>\n",
       "      <td>Want to take admission but has financial problems</td>\n",
       "      <td>6</td>\n",
       "      <td>0</td>\n",
       "      <td>2</td>\n",
       "    </tr>\n",
       "    <tr>\n",
       "      <th>20</th>\n",
       "      <td>Still Thinking</td>\n",
       "      <td>6</td>\n",
       "      <td>0</td>\n",
       "      <td>1</td>\n",
       "    </tr>\n",
       "    <tr>\n",
       "      <th>21</th>\n",
       "      <td>Interested in Next batch</td>\n",
       "      <td>5</td>\n",
       "      <td>0</td>\n",
       "      <td>5</td>\n",
       "    </tr>\n",
       "    <tr>\n",
       "      <th>22</th>\n",
       "      <td>In confusion whether part time or DLP</td>\n",
       "      <td>5</td>\n",
       "      <td>0</td>\n",
       "      <td>1</td>\n",
       "    </tr>\n",
       "    <tr>\n",
       "      <th>23</th>\n",
       "      <td>Lateral student</td>\n",
       "      <td>3</td>\n",
       "      <td>0</td>\n",
       "      <td>3</td>\n",
       "    </tr>\n",
       "    <tr>\n",
       "      <th>24</th>\n",
       "      <td>Shall take in the next coming month</td>\n",
       "      <td>2</td>\n",
       "      <td>0</td>\n",
       "      <td>1</td>\n",
       "    </tr>\n",
       "    <tr>\n",
       "      <th>25</th>\n",
       "      <td>University not recognized</td>\n",
       "      <td>2</td>\n",
       "      <td>0</td>\n",
       "      <td>0</td>\n",
       "    </tr>\n",
       "    <tr>\n",
       "      <th>26</th>\n",
       "      <td>Recognition issue (DEC approval)</td>\n",
       "      <td>1</td>\n",
       "      <td>0</td>\n",
       "      <td>0</td>\n",
       "    </tr>\n",
       "  </tbody>\n",
       "</table>\n",
       "</div>"
      ],
      "text/plain": [
       "                                              ColVals  Freq   % Converted\n",
       "0                                                 NaN  3327  36         0\n",
       "1                 Will revert after reading the email  2016  22      1957\n",
       "2                                             Ringing  1187  13        34\n",
       "3                         Interested in other courses   509   6        13\n",
       "4                                   Already a student   465   5         3\n",
       "5                                  Closed by Horizzon   301   3       299\n",
       "6                                        switched off   240   3         4\n",
       "7                                                Busy   185   2       105\n",
       "8                                        Lost to EINS   172   2       168\n",
       "9                         Not doing further education   145   2         1\n",
       "10                       Interested  in full time MBA   116   1         3\n",
       "11                             Graduation in progress   111   1         7\n",
       "12                                     invalid number    83   1         1\n",
       "13                      Diploma holder (Not Eligible)    63   1         1\n",
       "14                                 wrong number given    47   1         0\n",
       "15                                         opp hangup    33   0         3\n",
       "16                                number not provided    25   0         0\n",
       "17                                 in touch with EINS    12   0         3\n",
       "18                                     Lost to Others     7   0         0\n",
       "19  Want to take admission but has financial problems     6   0         2\n",
       "20                                     Still Thinking     6   0         1\n",
       "21                           Interested in Next batch     5   0         5\n",
       "22              In confusion whether part time or DLP     5   0         1\n",
       "23                                    Lateral student     3   0         3\n",
       "24                Shall take in the next coming month     2   0         1\n",
       "25                          University not recognized     2   0         0\n",
       "26                   Recognition issue (DEC approval)     1   0         0"
      ]
     },
     "execution_count": 267,
     "metadata": {},
     "output_type": "execute_result"
    }
   ],
   "source": [
    "# Lets check Tags columns\n",
    "getColValCount('Tags')"
   ]
  },
  {
   "cell_type": "markdown",
   "metadata": {},
   "source": [
    "### Tags is also not adding much information for our problem and as such 36% are NULL values. Categories are arbitrary not giving exact indication of conversion. Deleteing this column."
   ]
  },
  {
   "cell_type": "code",
   "execution_count": 268,
   "metadata": {},
   "outputs": [
    {
     "data": {
      "text/plain": [
       "(9074, 32)"
      ]
     },
     "execution_count": 268,
     "metadata": {},
     "output_type": "execute_result"
    }
   ],
   "source": [
    "#Delete Tags column\n",
    "LeadData.drop(columns=['Tags'],inplace=True)\n",
    "LeadData.shape"
   ]
  },
  {
   "cell_type": "code",
   "execution_count": 269,
   "metadata": {},
   "outputs": [
    {
     "data": {
      "text/html": [
       "<div>\n",
       "<style scoped>\n",
       "    .dataframe tbody tr th:only-of-type {\n",
       "        vertical-align: middle;\n",
       "    }\n",
       "\n",
       "    .dataframe tbody tr th {\n",
       "        vertical-align: top;\n",
       "    }\n",
       "\n",
       "    .dataframe thead th {\n",
       "        text-align: right;\n",
       "    }\n",
       "</style>\n",
       "<table border=\"1\" class=\"dataframe\">\n",
       "  <thead>\n",
       "    <tr style=\"text-align: right;\">\n",
       "      <th></th>\n",
       "      <th>ColVals</th>\n",
       "      <th>Freq</th>\n",
       "      <th>%</th>\n",
       "      <th>Converted</th>\n",
       "    </tr>\n",
       "  </thead>\n",
       "  <tbody>\n",
       "    <tr>\n",
       "      <th>0</th>\n",
       "      <td>NaN</td>\n",
       "      <td>4720</td>\n",
       "      <td>51</td>\n",
       "      <td>0</td>\n",
       "    </tr>\n",
       "    <tr>\n",
       "      <th>1</th>\n",
       "      <td>Might be</td>\n",
       "      <td>1519</td>\n",
       "      <td>16</td>\n",
       "      <td>1150</td>\n",
       "    </tr>\n",
       "    <tr>\n",
       "      <th>2</th>\n",
       "      <td>Not Sure</td>\n",
       "      <td>1086</td>\n",
       "      <td>12</td>\n",
       "      <td>266</td>\n",
       "    </tr>\n",
       "    <tr>\n",
       "      <th>3</th>\n",
       "      <td>Worst</td>\n",
       "      <td>601</td>\n",
       "      <td>7</td>\n",
       "      <td>12</td>\n",
       "    </tr>\n",
       "    <tr>\n",
       "      <th>4</th>\n",
       "      <td>High in Relevance</td>\n",
       "      <td>592</td>\n",
       "      <td>6</td>\n",
       "      <td>558</td>\n",
       "    </tr>\n",
       "    <tr>\n",
       "      <th>5</th>\n",
       "      <td>Low in Relevance</td>\n",
       "      <td>556</td>\n",
       "      <td>6</td>\n",
       "      <td>455</td>\n",
       "    </tr>\n",
       "  </tbody>\n",
       "</table>\n",
       "</div>"
      ],
      "text/plain": [
       "             ColVals  Freq   % Converted\n",
       "0                NaN  4720  51         0\n",
       "1           Might be  1519  16      1150\n",
       "2           Not Sure  1086  12       266\n",
       "3              Worst   601   7        12\n",
       "4  High in Relevance   592   6       558\n",
       "5   Low in Relevance   556   6       455"
      ]
     },
     "execution_count": 269,
     "metadata": {},
     "output_type": "execute_result"
    }
   ],
   "source": [
    "# Study column 'Lead Quality'\n",
    "getColValCount('Lead Quality')"
   ]
  },
  {
   "cell_type": "markdown",
   "metadata": {},
   "source": [
    "### For column 'Lead Quality' , NULLs is 51% while other values do not get good or expected indicators of conversions Eg: conversions for 'High in Relevance' should have been much more than 'Might be' , similarly conversions of 'Low in Relevance' is almost similar to 'High in Relevance'.\n",
    "### Hence deleting the column."
   ]
  },
  {
   "cell_type": "code",
   "execution_count": 270,
   "metadata": {},
   "outputs": [
    {
     "data": {
      "text/plain": [
       "(9074, 31)"
      ]
     },
     "execution_count": 270,
     "metadata": {},
     "output_type": "execute_result"
    }
   ],
   "source": [
    "# Delete column 'Lead Quality'\n",
    "LeadData.drop(columns=['Lead Quality'],inplace=True)\n",
    "LeadData.shape"
   ]
  },
  {
   "cell_type": "code",
   "execution_count": 271,
   "metadata": {},
   "outputs": [
    {
     "data": {
      "text/plain": [
       "Prospect ID                                       0.00\n",
       "Lead Number                                       0.00\n",
       "Lead Origin                                       0.00\n",
       "Lead Source                                       0.00\n",
       "Do Not Email                                      0.00\n",
       "Do Not Call                                       0.00\n",
       "Converted                                         0.00\n",
       "TotalVisits                                       0.00\n",
       "Total Time Spent on Website                       0.00\n",
       "Page Views Per Visit                              0.00\n",
       "Last Activity                                     0.00\n",
       "Specialization                                   36.17\n",
       "What is your current occupation                  29.57\n",
       "What matters most to you in choosing a course    29.78\n",
       "Search                                            0.00\n",
       "Magazine                                          0.00\n",
       "Newspaper Article                                 0.00\n",
       "X Education Forums                                0.00\n",
       "Newspaper                                         0.00\n",
       "Digital Advertisement                             0.00\n",
       "Through Recommendations                           0.00\n",
       "Receive More Updates About Our Courses            0.00\n",
       "Update me on Supply Chain Content                 0.00\n",
       "Get updates on DM Content                         0.00\n",
       "Asymmetrique Activity Index                      45.77\n",
       "Asymmetrique Profile Index                       45.77\n",
       "Asymmetrique Activity Score                      45.77\n",
       "Asymmetrique Profile Score                       45.77\n",
       "I agree to pay the amount through cheque          0.00\n",
       "A free copy of Mastering The Interview            0.00\n",
       "Last Notable Activity                             0.00\n",
       "dtype: float64"
      ]
     },
     "execution_count": 271,
     "metadata": {},
     "output_type": "execute_result"
    }
   ],
   "source": [
    "# Lets check again: Get % null values and 'Select' for each column\n",
    "round(100*((LeadData.isnull() | LeadData.isin(['Select'])).sum())/len(LeadData.index),2)"
   ]
  },
  {
   "cell_type": "code",
   "execution_count": 272,
   "metadata": {},
   "outputs": [
    {
     "name": "stdout",
     "output_type": "stream",
     "text": [
      "    ColVals    Freq     %  Converted\n",
      "0       NaN  4153.0  45.0        0.0\n",
      "1      14.0  1704.0  18.0      650.0\n",
      "2      15.0  1284.0  14.0      815.0\n",
      "3      13.0   751.0   8.0       98.0\n",
      "4      16.0   467.0   5.0      228.0\n",
      "5      17.0   348.0   4.0       17.0\n",
      "6      12.0   196.0   2.0       23.0\n",
      "7      11.0    95.0   1.0        7.0\n",
      "8      10.0    57.0   1.0        3.0\n",
      "9       9.0     9.0   0.0        0.0\n",
      "10     18.0     5.0   0.0        0.0\n",
      "11      8.0     4.0   0.0        0.0\n",
      "12      7.0     1.0   0.0        0.0\n",
      "    ColVals    Freq     %  Converted\n",
      "0       NaN  4153.0  45.0        0.0\n",
      "1      15.0  1735.0  19.0      489.0\n",
      "2      18.0  1066.0  12.0      379.0\n",
      "3      16.0   583.0   6.0      231.0\n",
      "4      17.0   566.0   6.0      249.0\n",
      "5      20.0   298.0   3.0      209.0\n",
      "6      19.0   224.0   2.0      166.0\n",
      "7      14.0   220.0   2.0       57.0\n",
      "8      13.0   198.0   2.0       46.0\n",
      "9      12.0    22.0   0.0       10.0\n",
      "10     11.0     9.0   0.0        5.0\n"
     ]
    }
   ],
   "source": [
    "# Lets check Asymmetrique columns\n",
    "a1=getColValCount('Asymmetrique Activity Score')\n",
    "a2=getColValCount('Asymmetrique Profile Score')\n",
    "\n",
    "print(a1)\n",
    "print(a2)"
   ]
  },
  {
   "cell_type": "markdown",
   "metadata": {},
   "source": [
    "### Asymmetrique scores columns have 45% NULL values and also the categories are very diverse with very distributed conversion rates. Cannot find a logical imputation way for the score columns. With many doubts and NULLs , dropping these columns."
   ]
  },
  {
   "cell_type": "code",
   "execution_count": 273,
   "metadata": {},
   "outputs": [
    {
     "data": {
      "text/plain": [
       "(9074, 29)"
      ]
     },
     "execution_count": 273,
     "metadata": {},
     "output_type": "execute_result"
    }
   ],
   "source": [
    "# Delete Asymmetrique Score columns\n",
    "LeadData.drop(columns=['Asymmetrique Activity Score','Asymmetrique Profile Score'],inplace=True)\n",
    "LeadData.shape"
   ]
  },
  {
   "cell_type": "markdown",
   "metadata": {},
   "source": [
    "### Asymmetrique Index columns have clear defined categories and high conversion rates as well for few categories. The columns look important , so we need to impute the NULL values."
   ]
  },
  {
   "cell_type": "code",
   "execution_count": 274,
   "metadata": {},
   "outputs": [
    {
     "name": "stdout",
     "output_type": "stream",
     "text": [
      "     ColVals  Freq   % Converted\n",
      "0        NaN  4153  45         0\n",
      "1  02.Medium  3739  40      1563\n",
      "2    01.High   820   9       245\n",
      "3     03.Low   362   4        33\n",
      "\n",
      "     ColVals  Freq   % Converted\n",
      "0        NaN  4153  45         0\n",
      "1  02.Medium  2736  30       823\n",
      "2    01.High  2154  23      1003\n",
      "3     03.Low    31   0        15\n"
     ]
    }
   ],
   "source": [
    "# Get Frequency and conversion information for two Asymmetrique Index columns\n",
    "a3=getColValCount('Asymmetrique Activity Index')\n",
    "a4=getColValCount('Asymmetrique Profile Index')\n",
    "print(a3)\n",
    "print()\n",
    "print(a4)"
   ]
  },
  {
   "cell_type": "markdown",
   "metadata": {},
   "source": [
    "### Deleting column Asymmetrique Profile Index as it shows comparable conversion rate for almost comparable frequency distribution between Medium and High.\n",
    "### Imputing null values in Asymmetrique Activity Index with highest frequency or Mode value as Mode(Highest frequency) is way too high compared to next highest frequency"
   ]
  },
  {
   "cell_type": "code",
   "execution_count": 275,
   "metadata": {},
   "outputs": [
    {
     "data": {
      "text/plain": [
       "(9074, 28)"
      ]
     },
     "execution_count": 275,
     "metadata": {},
     "output_type": "execute_result"
    }
   ],
   "source": [
    "# Delete Asymmetrique Profile Index\n",
    "LeadData.drop(columns=['Asymmetrique Profile Index'],inplace=True)\n",
    "LeadData.shape"
   ]
  },
  {
   "cell_type": "code",
   "execution_count": 276,
   "metadata": {},
   "outputs": [
    {
     "data": {
      "text/plain": [
       "Medium    7892\n",
       "High       820\n",
       "Low        362\n",
       "Name: Asymmetrique Activity Index, dtype: int64"
      ]
     },
     "execution_count": 276,
     "metadata": {},
     "output_type": "execute_result"
    }
   ],
   "source": [
    "# Impute NULL values with Mode in Asymmetrique Activity Index\n",
    "IndexMode=LeadData['Asymmetrique Activity Index'].mode() # Select Mode\n",
    "LeadData['Asymmetrique Activity Index'].fillna(IndexMode[0],inplace=True)\n",
    "\n",
    "# Remove the prefixes 01.,02.,03. from the values\n",
    "LeadData['Asymmetrique Activity Index']=LeadData['Asymmetrique Activity Index'].apply(lambda x:x[3:])\n",
    "\n",
    "#Check frequency and NULLs\n",
    "LeadData['Asymmetrique Activity Index'].value_counts(dropna=False)\n"
   ]
  },
  {
   "cell_type": "code",
   "execution_count": 277,
   "metadata": {},
   "outputs": [
    {
     "data": {
      "text/plain": [
       "Specialization                                   36.17\n",
       "What matters most to you in choosing a course    29.78\n",
       "What is your current occupation                  29.57\n",
       "A free copy of Mastering The Interview            0.00\n",
       "Lead Number                                       0.00\n",
       "Lead Origin                                       0.00\n",
       "Lead Source                                       0.00\n",
       "Do Not Email                                      0.00\n",
       "Do Not Call                                       0.00\n",
       "Converted                                         0.00\n",
       "TotalVisits                                       0.00\n",
       "Total Time Spent on Website                       0.00\n",
       "Page Views Per Visit                              0.00\n",
       "Last Activity                                     0.00\n",
       "Last Notable Activity                             0.00\n",
       "Search                                            0.00\n",
       "Magazine                                          0.00\n",
       "Newspaper Article                                 0.00\n",
       "X Education Forums                                0.00\n",
       "Newspaper                                         0.00\n",
       "Digital Advertisement                             0.00\n",
       "Through Recommendations                           0.00\n",
       "Receive More Updates About Our Courses            0.00\n",
       "Update me on Supply Chain Content                 0.00\n",
       "Get updates on DM Content                         0.00\n",
       "Asymmetrique Activity Index                       0.00\n",
       "I agree to pay the amount through cheque          0.00\n",
       "Prospect ID                                       0.00\n",
       "dtype: float64"
      ]
     },
     "execution_count": 277,
     "metadata": {},
     "output_type": "execute_result"
    }
   ],
   "source": [
    "# Lets check again: Get % null values and 'Select' for each column\n",
    "round(100*((LeadData.isnull() | LeadData.isin(['Select'])).sum().sort_values(ascending=False))/len(LeadData.index),2)"
   ]
  },
  {
   "cell_type": "code",
   "execution_count": 278,
   "metadata": {},
   "outputs": [
    {
     "data": {
      "text/html": [
       "<div>\n",
       "<style scoped>\n",
       "    .dataframe tbody tr th:only-of-type {\n",
       "        vertical-align: middle;\n",
       "    }\n",
       "\n",
       "    .dataframe tbody tr th {\n",
       "        vertical-align: top;\n",
       "    }\n",
       "\n",
       "    .dataframe thead th {\n",
       "        text-align: right;\n",
       "    }\n",
       "</style>\n",
       "<table border=\"1\" class=\"dataframe\">\n",
       "  <thead>\n",
       "    <tr style=\"text-align: right;\">\n",
       "      <th></th>\n",
       "      <th>ColVals</th>\n",
       "      <th>Freq</th>\n",
       "      <th>%</th>\n",
       "      <th>Converted</th>\n",
       "    </tr>\n",
       "  </thead>\n",
       "  <tbody>\n",
       "    <tr>\n",
       "      <th>0</th>\n",
       "      <td>Select</td>\n",
       "      <td>1851</td>\n",
       "      <td>20</td>\n",
       "      <td>750</td>\n",
       "    </tr>\n",
       "    <tr>\n",
       "      <th>1</th>\n",
       "      <td>NaN</td>\n",
       "      <td>1431</td>\n",
       "      <td>15</td>\n",
       "      <td>0</td>\n",
       "    </tr>\n",
       "    <tr>\n",
       "      <th>2</th>\n",
       "      <td>Finance Management</td>\n",
       "      <td>959</td>\n",
       "      <td>10</td>\n",
       "      <td>422</td>\n",
       "    </tr>\n",
       "    <tr>\n",
       "      <th>3</th>\n",
       "      <td>Human Resource Management</td>\n",
       "      <td>837</td>\n",
       "      <td>9</td>\n",
       "      <td>380</td>\n",
       "    </tr>\n",
       "    <tr>\n",
       "      <th>4</th>\n",
       "      <td>Marketing Management</td>\n",
       "      <td>823</td>\n",
       "      <td>9</td>\n",
       "      <td>397</td>\n",
       "    </tr>\n",
       "    <tr>\n",
       "      <th>5</th>\n",
       "      <td>Operations Management</td>\n",
       "      <td>499</td>\n",
       "      <td>5</td>\n",
       "      <td>234</td>\n",
       "    </tr>\n",
       "    <tr>\n",
       "      <th>6</th>\n",
       "      <td>Business Administration</td>\n",
       "      <td>399</td>\n",
       "      <td>4</td>\n",
       "      <td>175</td>\n",
       "    </tr>\n",
       "    <tr>\n",
       "      <th>7</th>\n",
       "      <td>IT Projects Management</td>\n",
       "      <td>366</td>\n",
       "      <td>4</td>\n",
       "      <td>140</td>\n",
       "    </tr>\n",
       "    <tr>\n",
       "      <th>8</th>\n",
       "      <td>Supply Chain Management</td>\n",
       "      <td>346</td>\n",
       "      <td>4</td>\n",
       "      <td>148</td>\n",
       "    </tr>\n",
       "    <tr>\n",
       "      <th>9</th>\n",
       "      <td>Banking, Investment And Insurance</td>\n",
       "      <td>335</td>\n",
       "      <td>4</td>\n",
       "      <td>164</td>\n",
       "    </tr>\n",
       "    <tr>\n",
       "      <th>10</th>\n",
       "      <td>Travel and Tourism</td>\n",
       "      <td>202</td>\n",
       "      <td>2</td>\n",
       "      <td>71</td>\n",
       "    </tr>\n",
       "    <tr>\n",
       "      <th>11</th>\n",
       "      <td>Media and Advertising</td>\n",
       "      <td>202</td>\n",
       "      <td>2</td>\n",
       "      <td>84</td>\n",
       "    </tr>\n",
       "    <tr>\n",
       "      <th>12</th>\n",
       "      <td>International Business</td>\n",
       "      <td>176</td>\n",
       "      <td>2</td>\n",
       "      <td>62</td>\n",
       "    </tr>\n",
       "    <tr>\n",
       "      <th>13</th>\n",
       "      <td>Healthcare Management</td>\n",
       "      <td>156</td>\n",
       "      <td>2</td>\n",
       "      <td>76</td>\n",
       "    </tr>\n",
       "    <tr>\n",
       "      <th>14</th>\n",
       "      <td>E-COMMERCE</td>\n",
       "      <td>111</td>\n",
       "      <td>1</td>\n",
       "      <td>39</td>\n",
       "    </tr>\n",
       "    <tr>\n",
       "      <th>15</th>\n",
       "      <td>Hospitality Management</td>\n",
       "      <td>111</td>\n",
       "      <td>1</td>\n",
       "      <td>45</td>\n",
       "    </tr>\n",
       "    <tr>\n",
       "      <th>16</th>\n",
       "      <td>Retail Management</td>\n",
       "      <td>100</td>\n",
       "      <td>1</td>\n",
       "      <td>34</td>\n",
       "    </tr>\n",
       "    <tr>\n",
       "      <th>17</th>\n",
       "      <td>Rural and Agribusiness</td>\n",
       "      <td>73</td>\n",
       "      <td>1</td>\n",
       "      <td>31</td>\n",
       "    </tr>\n",
       "    <tr>\n",
       "      <th>18</th>\n",
       "      <td>E-Business</td>\n",
       "      <td>57</td>\n",
       "      <td>1</td>\n",
       "      <td>21</td>\n",
       "    </tr>\n",
       "    <tr>\n",
       "      <th>19</th>\n",
       "      <td>Services Excellence</td>\n",
       "      <td>40</td>\n",
       "      <td>0</td>\n",
       "      <td>11</td>\n",
       "    </tr>\n",
       "  </tbody>\n",
       "</table>\n",
       "</div>"
      ],
      "text/plain": [
       "                              ColVals  Freq   % Converted\n",
       "0                              Select  1851  20       750\n",
       "1                                 NaN  1431  15         0\n",
       "2                  Finance Management   959  10       422\n",
       "3           Human Resource Management   837   9       380\n",
       "4                Marketing Management   823   9       397\n",
       "5               Operations Management   499   5       234\n",
       "6             Business Administration   399   4       175\n",
       "7              IT Projects Management   366   4       140\n",
       "8             Supply Chain Management   346   4       148\n",
       "9   Banking, Investment And Insurance   335   4       164\n",
       "10                 Travel and Tourism   202   2        71\n",
       "11              Media and Advertising   202   2        84\n",
       "12             International Business   176   2        62\n",
       "13              Healthcare Management   156   2        76\n",
       "14                         E-COMMERCE   111   1        39\n",
       "15             Hospitality Management   111   1        45\n",
       "16                  Retail Management   100   1        34\n",
       "17             Rural and Agribusiness    73   1        31\n",
       "18                         E-Business    57   1        21\n",
       "19                Services Excellence    40   0        11"
      ]
     },
     "execution_count": 278,
     "metadata": {},
     "output_type": "execute_result"
    }
   ],
   "source": [
    "# Get information abount Specialization column\n",
    "getColValCount('Specialization')\n"
   ]
  },
  {
   "cell_type": "markdown",
   "metadata": {},
   "source": [
    "### The specialisation has too many categories and also NaNs are 35% (NaN+Select).Cannot impute NULLs with mode as other categories are also have comparable frequency. Hence deleting this column."
   ]
  },
  {
   "cell_type": "code",
   "execution_count": 279,
   "metadata": {},
   "outputs": [
    {
     "data": {
      "text/plain": [
       "(9074, 27)"
      ]
     },
     "execution_count": 279,
     "metadata": {},
     "output_type": "execute_result"
    }
   ],
   "source": [
    "# Delete Specialization column\n",
    "LeadData.drop(columns=['Specialization'],inplace=True)\n",
    "LeadData.shape"
   ]
  },
  {
   "cell_type": "code",
   "execution_count": 280,
   "metadata": {},
   "outputs": [
    {
     "data": {
      "text/html": [
       "<div>\n",
       "<style scoped>\n",
       "    .dataframe tbody tr th:only-of-type {\n",
       "        vertical-align: middle;\n",
       "    }\n",
       "\n",
       "    .dataframe tbody tr th {\n",
       "        vertical-align: top;\n",
       "    }\n",
       "\n",
       "    .dataframe thead th {\n",
       "        text-align: right;\n",
       "    }\n",
       "</style>\n",
       "<table border=\"1\" class=\"dataframe\">\n",
       "  <thead>\n",
       "    <tr style=\"text-align: right;\">\n",
       "      <th></th>\n",
       "      <th>ColVals</th>\n",
       "      <th>Freq</th>\n",
       "      <th>%</th>\n",
       "      <th>Converted</th>\n",
       "    </tr>\n",
       "  </thead>\n",
       "  <tbody>\n",
       "    <tr>\n",
       "      <th>0</th>\n",
       "      <td>Better Career Prospects</td>\n",
       "      <td>6370</td>\n",
       "      <td>69</td>\n",
       "      <td>3064</td>\n",
       "    </tr>\n",
       "    <tr>\n",
       "      <th>1</th>\n",
       "      <td>NaN</td>\n",
       "      <td>2702</td>\n",
       "      <td>29</td>\n",
       "      <td>0</td>\n",
       "    </tr>\n",
       "    <tr>\n",
       "      <th>2</th>\n",
       "      <td>Other</td>\n",
       "      <td>1</td>\n",
       "      <td>0</td>\n",
       "      <td>0</td>\n",
       "    </tr>\n",
       "    <tr>\n",
       "      <th>3</th>\n",
       "      <td>Flexibility &amp; Convenience</td>\n",
       "      <td>1</td>\n",
       "      <td>0</td>\n",
       "      <td>1</td>\n",
       "    </tr>\n",
       "  </tbody>\n",
       "</table>\n",
       "</div>"
      ],
      "text/plain": [
       "                     ColVals  Freq   % Converted\n",
       "0    Better Career Prospects  6370  69      3064\n",
       "1                        NaN  2702  29         0\n",
       "2                      Other     1   0         0\n",
       "3  Flexibility & Convenience     1   0         1"
      ]
     },
     "execution_count": 280,
     "metadata": {},
     "output_type": "execute_result"
    }
   ],
   "source": [
    "#get info for column 'What matters most to you in choosing a course'\n",
    "getColValCount('What matters most to you in choosing a course')"
   ]
  },
  {
   "cell_type": "markdown",
   "metadata": {},
   "source": [
    "### There is >29% Null and also almost No Variance in data.One category explains all conversions. Hence no use of this column and deleting it."
   ]
  },
  {
   "cell_type": "code",
   "execution_count": 281,
   "metadata": {},
   "outputs": [
    {
     "data": {
      "text/plain": [
       "(9074, 26)"
      ]
     },
     "execution_count": 281,
     "metadata": {},
     "output_type": "execute_result"
    }
   ],
   "source": [
    "# Delete 'What matters most to you in choosing a course' column\n",
    "LeadData.drop(columns=['What matters most to you in choosing a course'],inplace=True)\n",
    "LeadData.shape"
   ]
  },
  {
   "cell_type": "code",
   "execution_count": 282,
   "metadata": {},
   "outputs": [
    {
     "data": {
      "text/html": [
       "<div>\n",
       "<style scoped>\n",
       "    .dataframe tbody tr th:only-of-type {\n",
       "        vertical-align: middle;\n",
       "    }\n",
       "\n",
       "    .dataframe tbody tr th {\n",
       "        vertical-align: top;\n",
       "    }\n",
       "\n",
       "    .dataframe thead th {\n",
       "        text-align: right;\n",
       "    }\n",
       "</style>\n",
       "<table border=\"1\" class=\"dataframe\">\n",
       "  <thead>\n",
       "    <tr style=\"text-align: right;\">\n",
       "      <th></th>\n",
       "      <th>ColVals</th>\n",
       "      <th>Freq</th>\n",
       "      <th>%</th>\n",
       "      <th>Converted</th>\n",
       "    </tr>\n",
       "  </thead>\n",
       "  <tbody>\n",
       "    <tr>\n",
       "      <th>0</th>\n",
       "      <td>Unemployed</td>\n",
       "      <td>5476</td>\n",
       "      <td>59</td>\n",
       "      <td>2346</td>\n",
       "    </tr>\n",
       "    <tr>\n",
       "      <th>1</th>\n",
       "      <td>NaN</td>\n",
       "      <td>2683</td>\n",
       "      <td>29</td>\n",
       "      <td>0</td>\n",
       "    </tr>\n",
       "    <tr>\n",
       "      <th>2</th>\n",
       "      <td>Working Professional</td>\n",
       "      <td>677</td>\n",
       "      <td>7</td>\n",
       "      <td>622</td>\n",
       "    </tr>\n",
       "    <tr>\n",
       "      <th>3</th>\n",
       "      <td>Student</td>\n",
       "      <td>206</td>\n",
       "      <td>2</td>\n",
       "      <td>74</td>\n",
       "    </tr>\n",
       "    <tr>\n",
       "      <th>4</th>\n",
       "      <td>Other</td>\n",
       "      <td>15</td>\n",
       "      <td>0</td>\n",
       "      <td>9</td>\n",
       "    </tr>\n",
       "    <tr>\n",
       "      <th>5</th>\n",
       "      <td>Housewife</td>\n",
       "      <td>9</td>\n",
       "      <td>0</td>\n",
       "      <td>9</td>\n",
       "    </tr>\n",
       "    <tr>\n",
       "      <th>6</th>\n",
       "      <td>Businessman</td>\n",
       "      <td>8</td>\n",
       "      <td>0</td>\n",
       "      <td>5</td>\n",
       "    </tr>\n",
       "  </tbody>\n",
       "</table>\n",
       "</div>"
      ],
      "text/plain": [
       "                ColVals  Freq   % Converted\n",
       "0            Unemployed  5476  59      2346\n",
       "1                   NaN  2683  29         0\n",
       "2  Working Professional   677   7       622\n",
       "3               Student   206   2        74\n",
       "4                 Other    15   0         9\n",
       "5             Housewife     9   0         9\n",
       "6           Businessman     8   0         5"
      ]
     },
     "execution_count": 282,
     "metadata": {},
     "output_type": "execute_result"
    }
   ],
   "source": [
    "# get info for column 'What is your current occupation'\n",
    "getColValCount('What is your current occupation')"
   ]
  },
  {
   "cell_type": "markdown",
   "metadata": {},
   "source": [
    "### There is >29% Null and also almost No Variance in data.The two categories expectedly explains whole population and all conversions while other categories solve no purpose.Imputing by mode may make  data very biased for unemployed. Hence dropping this column."
   ]
  },
  {
   "cell_type": "code",
   "execution_count": 283,
   "metadata": {},
   "outputs": [
    {
     "data": {
      "text/plain": [
       "(9074, 25)"
      ]
     },
     "execution_count": 283,
     "metadata": {},
     "output_type": "execute_result"
    }
   ],
   "source": [
    "# Delete 'What is your current occupation' column\n",
    "LeadData.drop(columns=['What is your current occupation'],inplace=True)\n",
    "LeadData.shape"
   ]
  },
  {
   "cell_type": "code",
   "execution_count": 284,
   "metadata": {},
   "outputs": [
    {
     "data": {
      "text/plain": [
       "(9074, 23)"
      ]
     },
     "execution_count": 284,
     "metadata": {},
     "output_type": "execute_result"
    }
   ],
   "source": [
    "# Columns Prospect ID and Lead Number do not add any value for modelling. Hence deleting these columns\n",
    "LeadData.drop(columns=['Prospect ID','Lead Number'],inplace=True)\n",
    "LeadData.shape"
   ]
  },
  {
   "cell_type": "code",
   "execution_count": 285,
   "metadata": {},
   "outputs": [
    {
     "data": {
      "text/plain": [
       "Index(['Lead Origin', 'Lead Source', 'Do Not Email', 'Do Not Call',\n",
       "       'Converted', 'TotalVisits', 'TimeOnWebsite', 'PVPV', 'Last Activity',\n",
       "       'Search', 'Magazine', 'Newspaper Article', 'X Education Forums',\n",
       "       'Newspaper', 'Digital Advertisement', 'Through Recommendations',\n",
       "       'GetMoreUpdates', 'GetSCContent', 'GetDMContent',\n",
       "       'Asymmetrique Activity Index', 'ChequePayment', 'InterviewFreeCopy',\n",
       "       'Last Notable Activity'],\n",
       "      dtype='object')"
      ]
     },
     "execution_count": 285,
     "metadata": {},
     "output_type": "execute_result"
    }
   ],
   "source": [
    "# Renaming column having long names for easy recognition in further analysis.\n",
    "LeadData.rename(columns={\"Total Time Spent on Website\":\"TimeOnWebsite\",\"Page Views Per Visit\":\"PVPV\",\"A free copy of Mastering The Interview\":\"InterviewFreeCopy\",\"Receive More Updates About Our Courses\":\"GetMoreUpdates\",\"Update me on Supply Chain Content\":\"GetSCContent\",\"Get updates on DM Content\":\"GetDMContent\",\"I agree to pay the amount through cheque\":\"ChequePayment\"},inplace=True)\n",
    "LeadData.columns"
   ]
  },
  {
   "cell_type": "code",
   "execution_count": 286,
   "metadata": {},
   "outputs": [
    {
     "data": {
      "text/plain": [
       "Last Notable Activity          0.0\n",
       "Magazine                       0.0\n",
       "Lead Source                    0.0\n",
       "Do Not Email                   0.0\n",
       "Do Not Call                    0.0\n",
       "Converted                      0.0\n",
       "TotalVisits                    0.0\n",
       "TimeOnWebsite                  0.0\n",
       "PVPV                           0.0\n",
       "Last Activity                  0.0\n",
       "Search                         0.0\n",
       "Newspaper Article              0.0\n",
       "InterviewFreeCopy              0.0\n",
       "X Education Forums             0.0\n",
       "Newspaper                      0.0\n",
       "Digital Advertisement          0.0\n",
       "Through Recommendations        0.0\n",
       "GetMoreUpdates                 0.0\n",
       "GetSCContent                   0.0\n",
       "GetDMContent                   0.0\n",
       "Asymmetrique Activity Index    0.0\n",
       "ChequePayment                  0.0\n",
       "Lead Origin                    0.0\n",
       "dtype: float64"
      ]
     },
     "execution_count": 286,
     "metadata": {},
     "output_type": "execute_result"
    }
   ],
   "source": [
    "# Lets check again: Get % null values and 'Select' for each column\n",
    "round(100*((LeadData.isnull() | LeadData.isin(['Select'])).sum().sort_values(ascending=False))/len(LeadData.index),2)"
   ]
  },
  {
   "cell_type": "markdown",
   "metadata": {},
   "source": [
    "### Lets reveiw all other categorical variables for suitability to include in modelling."
   ]
  },
  {
   "cell_type": "code",
   "execution_count": 287,
   "metadata": {},
   "outputs": [
    {
     "name": "stdout",
     "output_type": "stream",
     "text": [
      "  ColVals  Freq   % Converted\n",
      "0      No  8358  90      3331\n",
      "1     Yes   716   8       104\n",
      "  ColVals  Freq   % Converted\n",
      "0      No  9072  98      3433\n",
      "1     Yes     2   0         2\n",
      "  ColVals  Freq   % Converted\n",
      "0      No  9074  98      3435\n",
      "  ColVals  Freq   % Converted\n",
      "0      No  9060  98      3430\n",
      "1     Yes    14   0         5\n",
      "  ColVals  Freq   % Converted\n",
      "0      No  9072  98      3434\n",
      "1     Yes     2   0         1\n",
      "  ColVals  Freq   % Converted\n",
      "0      No  9073  98      3435\n",
      "1     Yes     1   0         0\n",
      "  ColVals  Freq   % Converted\n",
      "0      No  9073  98      3435\n",
      "1     Yes     1   0         0\n",
      "  ColVals  Freq   % Converted\n",
      "0      No  9070  98      3434\n",
      "1     Yes     4   0         1\n",
      "  ColVals  Freq   % Converted\n",
      "0      No  9067  98      3430\n",
      "1     Yes     7   0         5\n",
      "  ColVals  Freq   % Converted\n",
      "0      No  9074  98      3435\n",
      "  ColVals  Freq   % Converted\n",
      "0      No  9074  98      3435\n",
      "  ColVals  Freq   % Converted\n",
      "0      No  9074  98      3435\n",
      "  ColVals  Freq   % Converted\n",
      "0      No  9074  98      3435\n"
     ]
    },
    {
     "data": {
      "text/plain": [
       "(9074, 11)"
      ]
     },
     "execution_count": 287,
     "metadata": {},
     "output_type": "execute_result"
    }
   ],
   "source": [
    "print(getColValCount('Do Not Email'))\n",
    "# This column can be kept as 'Yes' yeilds good % results though frequency is low.\n",
    "\n",
    "print(getColValCount('Do Not Call'))\n",
    "#This column can be deleted , as almost all responses are 'no'. No value addition. \n",
    "\n",
    "print(getColValCount('Magazine'))\n",
    "print(getColValCount('Search'))\n",
    "print(getColValCount('Newspaper Article'))\n",
    "print(getColValCount('X Education Forums'))\n",
    "print(getColValCount('Newspaper'))\n",
    "print(getColValCount('Digital Advertisement'))\n",
    "print(getColValCount('Through Recommendations'))\n",
    "# All above columns have more than 98% responses as 'No' and hence do not yield any value.Deleteing these columns.\n",
    "\n",
    "print(getColValCount('GetMoreUpdates'))\n",
    "print(getColValCount('GetSCContent'))\n",
    "print(getColValCount('GetDMContent'))\n",
    "print(getColValCount('ChequePayment'))\n",
    "#All above columns have only response as 'No' and hence do not yield any value.Deleteing these columns.\n",
    "\n",
    "#Delete above mentioned columns\n",
    "LeadData.drop(columns=['Do Not Call','Magazine','Search','Newspaper Article','X Education Forums','Newspaper','Digital Advertisement','Through Recommendations','GetMoreUpdates','GetSCContent','GetDMContent','ChequePayment'],inplace=True)\n",
    "LeadData.shape"
   ]
  },
  {
   "cell_type": "code",
   "execution_count": 288,
   "metadata": {
    "scrolled": false
   },
   "outputs": [
    {
     "name": "stdout",
     "output_type": "stream",
     "text": [
      "                         ColVals  Freq   % Converted\n",
      "0                       Modified  3267  35       680\n",
      "1                   Email Opened  2823  31      1042\n",
      "2                       SMS Sent  2152  23      1489\n",
      "3        Page Visited on Website   318   3        93\n",
      "4        Olark Chat Conversation   183   2        25\n",
      "5             Email Link Clicked   173   2        45\n",
      "6                  Email Bounced    60   1         9\n",
      "7                   Unsubscribed    45   0        12\n",
      "8                    Unreachable    32   0        22\n",
      "9       Had a Phone Conversation    14   0        13\n",
      "10             Email Marked Spam     2   0         2\n",
      "11     Form Submitted on Website     1   0         0\n",
      "12                Email Received     1   0         1\n",
      "13            Approached upfront     1   0         1\n",
      "14  View in browser link Clicked     1   0         0\n",
      "15        Resubscribed to emails     1   0         1\n"
     ]
    }
   ],
   "source": [
    "# column 'Last Notable Activity' looks fine an I leave it as is\n",
    "\n",
    "print(getColValCount('Last Notable Activity'))\n"
   ]
  },
  {
   "cell_type": "code",
   "execution_count": 289,
   "metadata": {},
   "outputs": [
    {
     "data": {
      "text/plain": [
       "(9074, 10)"
      ]
     },
     "execution_count": 289,
     "metadata": {},
     "output_type": "execute_result"
    }
   ],
   "source": [
    "# Also this column looks almost same as 'Last Activity' and hence one of them should be dropped to avoid confusion.\n",
    "#Dropping column 'Last Activity'\n",
    "LeadData.drop(columns=['Last Activity'],inplace=True)\n",
    "LeadData.shape"
   ]
  },
  {
   "cell_type": "markdown",
   "metadata": {},
   "source": [
    "### There are many categorical values . For Logistic Regression these need to be converted to continuous numerical variables using dummy variables."
   ]
  },
  {
   "cell_type": "code",
   "execution_count": 290,
   "metadata": {},
   "outputs": [
    {
     "data": {
      "text/plain": [
       "Index(['Lead Origin', 'Lead Source', 'Do Not Email', 'Converted',\n",
       "       'TotalVisits', 'TimeOnWebsite', 'PVPV', 'Asymmetrique Activity Index',\n",
       "       'InterviewFreeCopy', 'Last Notable Activity'],\n",
       "      dtype='object')"
      ]
     },
     "execution_count": 290,
     "metadata": {},
     "output_type": "execute_result"
    }
   ],
   "source": [
    "#Get final original columns retained in data set\n",
    "LeadData.columns"
   ]
  },
  {
   "cell_type": "code",
   "execution_count": 291,
   "metadata": {},
   "outputs": [
    {
     "data": {
      "text/html": [
       "<div>\n",
       "<style scoped>\n",
       "    .dataframe tbody tr th:only-of-type {\n",
       "        vertical-align: middle;\n",
       "    }\n",
       "\n",
       "    .dataframe tbody tr th {\n",
       "        vertical-align: top;\n",
       "    }\n",
       "\n",
       "    .dataframe thead th {\n",
       "        text-align: right;\n",
       "    }\n",
       "</style>\n",
       "<table border=\"1\" class=\"dataframe\">\n",
       "  <thead>\n",
       "    <tr style=\"text-align: right;\">\n",
       "      <th></th>\n",
       "      <th>ColVals</th>\n",
       "      <th>Freq</th>\n",
       "      <th>%</th>\n",
       "      <th>Converted</th>\n",
       "    </tr>\n",
       "  </thead>\n",
       "  <tbody>\n",
       "    <tr>\n",
       "      <th>0</th>\n",
       "      <td>No</td>\n",
       "      <td>6186</td>\n",
       "      <td>67</td>\n",
       "      <td>2405</td>\n",
       "    </tr>\n",
       "    <tr>\n",
       "      <th>1</th>\n",
       "      <td>Yes</td>\n",
       "      <td>2888</td>\n",
       "      <td>31</td>\n",
       "      <td>1030</td>\n",
       "    </tr>\n",
       "  </tbody>\n",
       "</table>\n",
       "</div>"
      ],
      "text/plain": [
       "  ColVals  Freq   % Converted\n",
       "0      No  6186  67      2405\n",
       "1     Yes  2888  31      1030"
      ]
     },
     "execution_count": 291,
     "metadata": {},
     "output_type": "execute_result"
    }
   ],
   "source": [
    "# Lets also evaluate 'InterviewFreeCopy'\n",
    "getColValCount('InterviewFreeCopy')\n",
    "\n",
    "#This column looks fine and can be retained."
   ]
  },
  {
   "cell_type": "code",
   "execution_count": 292,
   "metadata": {},
   "outputs": [
    {
     "data": {
      "text/plain": [
       "Index(['Lead Origin_API', 'Lead Origin_Landing Page Submission',\n",
       "       'Lead Origin_Lead Add Form', 'Lead Origin_Lead Import',\n",
       "       'Lead Source_Click2call', 'Lead Source_Direct Traffic',\n",
       "       'Lead Source_Facebook', 'Lead Source_Google', 'Lead Source_Live Chat',\n",
       "       'Lead Source_NC_EDM', 'Lead Source_Olark Chat',\n",
       "       'Lead Source_Organic Search', 'Lead Source_Pay per Click Ads',\n",
       "       'Lead Source_Press_Release', 'Lead Source_Reference',\n",
       "       'Lead Source_Referral Sites', 'Lead Source_Social Media',\n",
       "       'Lead Source_WeLearn', 'Lead Source_Welingak Website',\n",
       "       'Lead Source_bing', 'Lead Source_blog', 'Lead Source_testone',\n",
       "       'Lead Source_welearnblog_Home', 'Lead Source_youtubechannel',\n",
       "       'Do Not Email_No', 'Do Not Email_Yes',\n",
       "       'Asymmetrique Activity Index_High', 'Asymmetrique Activity Index_Low',\n",
       "       'Asymmetrique Activity Index_Medium', 'InterviewFreeCopy_No',\n",
       "       'InterviewFreeCopy_Yes', 'Last Notable Activity_Approached upfront',\n",
       "       'Last Notable Activity_Email Bounced',\n",
       "       'Last Notable Activity_Email Link Clicked',\n",
       "       'Last Notable Activity_Email Marked Spam',\n",
       "       'Last Notable Activity_Email Opened',\n",
       "       'Last Notable Activity_Email Received',\n",
       "       'Last Notable Activity_Form Submitted on Website',\n",
       "       'Last Notable Activity_Had a Phone Conversation',\n",
       "       'Last Notable Activity_Modified',\n",
       "       'Last Notable Activity_Olark Chat Conversation',\n",
       "       'Last Notable Activity_Page Visited on Website',\n",
       "       'Last Notable Activity_Resubscribed to emails',\n",
       "       'Last Notable Activity_SMS Sent', 'Last Notable Activity_Unreachable',\n",
       "       'Last Notable Activity_Unsubscribed',\n",
       "       'Last Notable Activity_View in browser link Clicked'],\n",
       "      dtype='object')"
      ]
     },
     "execution_count": 292,
     "metadata": {},
     "output_type": "execute_result"
    }
   ],
   "source": [
    "# Creating a dummy variable for some of the categorical variables and dropping the first one.\n",
    "DummyVars = pd.get_dummies(LeadData[['Lead Origin','Lead Source','Do Not Email','Asymmetrique Activity Index','InterviewFreeCopy','Last Notable Activity']], drop_first=False)\n",
    "DummyVars.columns\n"
   ]
  },
  {
   "cell_type": "code",
   "execution_count": 293,
   "metadata": {
    "scrolled": false
   },
   "outputs": [
    {
     "data": {
      "text/plain": [
       "Index(['Lead Origin_API', 'Lead Origin_Landing Page Submission',\n",
       "       'Lead Origin_Lead Add Form', 'Lead Source_Click2call',\n",
       "       'Lead Source_Direct Traffic', 'Lead Source_Facebook',\n",
       "       'Lead Source_Google', 'Lead Source_Live Chat', 'Lead Source_Olark Chat',\n",
       "       'Lead Source_Organic Search', 'Lead Source_Pay per Click Ads',\n",
       "       'Lead Source_Press_Release', 'Lead Source_Reference',\n",
       "       'Lead Source_Referral Sites', 'Lead Source_Social Media',\n",
       "       'Lead Source_WeLearn', 'Lead Source_Welingak Website',\n",
       "       'Lead Source_bing', 'Lead Source_blog', 'Lead Source_testone',\n",
       "       'Lead Source_welearnblog_Home', 'Lead Source_youtubechannel',\n",
       "       'Do Not Email_No', 'Asymmetrique Activity Index_High',\n",
       "       'Asymmetrique Activity Index_Medium', 'InterviewFreeCopy_No',\n",
       "       'Last Notable Activity_Approached upfront',\n",
       "       'Last Notable Activity_Email Bounced',\n",
       "       'Last Notable Activity_Email Link Clicked',\n",
       "       'Last Notable Activity_Email Marked Spam',\n",
       "       'Last Notable Activity_Email Opened',\n",
       "       'Last Notable Activity_Email Received',\n",
       "       'Last Notable Activity_Form Submitted on Website',\n",
       "       'Last Notable Activity_Had a Phone Conversation',\n",
       "       'Last Notable Activity_Modified',\n",
       "       'Last Notable Activity_Olark Chat Conversation',\n",
       "       'Last Notable Activity_Page Visited on Website',\n",
       "       'Last Notable Activity_Resubscribed to emails',\n",
       "       'Last Notable Activity_SMS Sent', 'Last Notable Activity_Unreachable',\n",
       "       'Last Notable Activity_Unsubscribed'],\n",
       "      dtype='object')"
      ]
     },
     "execution_count": 293,
     "metadata": {},
     "output_type": "execute_result"
    }
   ],
   "source": [
    "#Dropping columns with least frequency,as we need one less dummy column than number of categories for each original column\n",
    "DummyVars.drop(columns=['Lead Origin_Lead Import','Lead Source_NC_EDM','Do Not Email_Yes','Asymmetrique Activity Index_Low','InterviewFreeCopy_Yes','Last Notable Activity_View in browser link Clicked'],inplace=True)\n",
    "DummyVars.columns"
   ]
  },
  {
   "cell_type": "code",
   "execution_count": 294,
   "metadata": {},
   "outputs": [
    {
     "name": "stdout",
     "output_type": "stream",
     "text": [
      "(9074, 45)\n",
      "Index(['Converted', 'TotalVisits', 'TimeOnWebsite', 'PVPV', 'Lead Origin_API',\n",
      "       'Lead Origin_Landing Page Submission', 'Lead Origin_Lead Add Form',\n",
      "       'Lead Source_Click2call', 'Lead Source_Direct Traffic',\n",
      "       'Lead Source_Facebook', 'Lead Source_Google', 'Lead Source_Live Chat',\n",
      "       'Lead Source_Olark Chat', 'Lead Source_Organic Search',\n",
      "       'Lead Source_Pay per Click Ads', 'Lead Source_Press_Release',\n",
      "       'Lead Source_Reference', 'Lead Source_Referral Sites',\n",
      "       'Lead Source_Social Media', 'Lead Source_WeLearn',\n",
      "       'Lead Source_Welingak Website', 'Lead Source_bing', 'Lead Source_blog',\n",
      "       'Lead Source_testone', 'Lead Source_welearnblog_Home',\n",
      "       'Lead Source_youtubechannel', 'Do Not Email_No',\n",
      "       'Asymmetrique Activity Index_High',\n",
      "       'Asymmetrique Activity Index_Medium', 'InterviewFreeCopy_No',\n",
      "       'Last Notable Activity_Approached upfront',\n",
      "       'Last Notable Activity_Email Bounced',\n",
      "       'Last Notable Activity_Email Link Clicked',\n",
      "       'Last Notable Activity_Email Marked Spam',\n",
      "       'Last Notable Activity_Email Opened',\n",
      "       'Last Notable Activity_Email Received',\n",
      "       'Last Notable Activity_Form Submitted on Website',\n",
      "       'Last Notable Activity_Had a Phone Conversation',\n",
      "       'Last Notable Activity_Modified',\n",
      "       'Last Notable Activity_Olark Chat Conversation',\n",
      "       'Last Notable Activity_Page Visited on Website',\n",
      "       'Last Notable Activity_Resubscribed to emails',\n",
      "       'Last Notable Activity_SMS Sent', 'Last Notable Activity_Unreachable',\n",
      "       'Last Notable Activity_Unsubscribed'],\n",
      "      dtype='object')\n"
     ]
    }
   ],
   "source": [
    "# Concatenate DummyVars with main dataframe LeadData, and drop categorocal variables\n",
    "\n",
    "#Concatenate Data Frames\n",
    "LeadDataDummy=pd.concat([LeadData,DummyVars],axis=1)\n",
    "\n",
    "#Drop categorical variables/columns\n",
    "LeadDataDummy.drop(columns=['Lead Origin','Lead Source','Do Not Email','Asymmetrique Activity Index','InterviewFreeCopy','Last Notable Activity'],inplace=True)\n",
    "print(LeadDataDummy.shape)\n",
    "print(LeadDataDummy.columns)"
   ]
  },
  {
   "cell_type": "markdown",
   "metadata": {},
   "source": [
    "### Check outliers for 3 original columns 'TotalVisits', 'TimeOnWebsite', 'PVPV'"
   ]
  },
  {
   "cell_type": "code",
   "execution_count": 295,
   "metadata": {},
   "outputs": [
    {
     "data": {
      "image/png": "[encoded data removed]",
      "text/plain": [
       "<Figure size 936x360 with 2 Axes>"
      ]
     },
     "metadata": {
      "needs_background": "light"
     },
     "output_type": "display_data"
    }
   ],
   "source": [
    "# Check outliers for column TotalVisits\n",
    "plt.figure(figsize=(13,5))\n",
    "plt.subplot(121)\n",
    "sns.boxplot(y='TotalVisits',data=LeadDataDummy[['TotalVisits','Converted']])\n",
    "plt.subplot(122)\n",
    "sns.distplot(LeadDataDummy[['TotalVisits']])\n",
    "plt.show()"
   ]
  },
  {
   "cell_type": "code",
   "execution_count": 296,
   "metadata": {},
   "outputs": [
    {
     "data": {
      "text/html": [
       "<div>\n",
       "<style scoped>\n",
       "    .dataframe tbody tr th:only-of-type {\n",
       "        vertical-align: middle;\n",
       "    }\n",
       "\n",
       "    .dataframe tbody tr th {\n",
       "        vertical-align: top;\n",
       "    }\n",
       "\n",
       "    .dataframe thead th {\n",
       "        text-align: right;\n",
       "    }\n",
       "</style>\n",
       "<table border=\"1\" class=\"dataframe\">\n",
       "  <thead>\n",
       "    <tr style=\"text-align: right;\">\n",
       "      <th></th>\n",
       "      <th>TotalVisits</th>\n",
       "    </tr>\n",
       "  </thead>\n",
       "  <tbody>\n",
       "    <tr>\n",
       "      <th>count</th>\n",
       "      <td>9074.000000</td>\n",
       "    </tr>\n",
       "    <tr>\n",
       "      <th>mean</th>\n",
       "      <td>3.456028</td>\n",
       "    </tr>\n",
       "    <tr>\n",
       "      <th>std</th>\n",
       "      <td>4.858802</td>\n",
       "    </tr>\n",
       "    <tr>\n",
       "      <th>min</th>\n",
       "      <td>0.000000</td>\n",
       "    </tr>\n",
       "    <tr>\n",
       "      <th>50%</th>\n",
       "      <td>3.000000</td>\n",
       "    </tr>\n",
       "    <tr>\n",
       "      <th>90%</th>\n",
       "      <td>7.000000</td>\n",
       "    </tr>\n",
       "    <tr>\n",
       "      <th>95%</th>\n",
       "      <td>10.000000</td>\n",
       "    </tr>\n",
       "    <tr>\n",
       "      <th>max</th>\n",
       "      <td>251.000000</td>\n",
       "    </tr>\n",
       "  </tbody>\n",
       "</table>\n",
       "</div>"
      ],
      "text/plain": [
       "       TotalVisits\n",
       "count  9074.000000\n",
       "mean      3.456028\n",
       "std       4.858802\n",
       "min       0.000000\n",
       "50%       3.000000\n",
       "90%       7.000000\n",
       "95%      10.000000\n",
       "max     251.000000"
      ]
     },
     "execution_count": 296,
     "metadata": {},
     "output_type": "execute_result"
    }
   ],
   "source": [
    "#Check the description with percentiles.\n",
    "LeadDataDummy[['TotalVisits']].describe(percentiles =[0.9,0.95])"
   ]
  },
  {
   "cell_type": "code",
   "execution_count": 297,
   "metadata": {
    "scrolled": false
   },
   "outputs": [
    {
     "name": "stdout",
     "output_type": "stream",
     "text": [
      "(9074, 2)\n"
     ]
    },
    {
     "data": {
      "image/png": "[encoded data removed]",
      "text/plain": [
       "<Figure size 432x288 with 1 Axes>"
      ]
     },
     "metadata": {
      "needs_background": "light"
     },
     "output_type": "display_data"
    }
   ],
   "source": [
    "# Try capping with few percentiles in 95% to 99% , quantile=95% looks to be a good value to CAP \n",
    "q=LeadDataDummy['TotalVisits'].quantile(0.95)\n",
    "TV=LeadDataDummy.loc[:,['TotalVisits','Converted']]\n",
    "\n",
    "# Cap at 95%\n",
    "TV['TotalVisits']=TV['TotalVisits'].apply(lambda x:x if x<q else q)\n",
    "sns.boxplot(y='TotalVisits',data=TV)\n",
    "print(TV.shape)"
   ]
  },
  {
   "cell_type": "code",
   "execution_count": 298,
   "metadata": {},
   "outputs": [
    {
     "data": {
      "image/png": "[encoded data removed]",
      "text/plain": [
       "<Figure size 432x288 with 1 Axes>"
      ]
     },
     "metadata": {
      "needs_background": "light"
     },
     "output_type": "display_data"
    },
    {
     "name": "stdout",
     "output_type": "stream",
     "text": [
      "(9074, 45)\n"
     ]
    }
   ],
   "source": [
    "#cap original variable at 95%\n",
    "LeadDataDummy['TotalVisits']=LeadDataDummy['TotalVisits'].apply(lambda x:x if x<q else q)\n",
    "sns.boxplot(y='TotalVisits',data=LeadDataDummy)\n",
    "plt.show()\n",
    "print(LeadDataDummy.shape)"
   ]
  },
  {
   "cell_type": "markdown",
   "metadata": {},
   "source": [
    "### The outliers are now handled for TotalVisits with 95% data retained. Trying CAPping first"
   ]
  },
  {
   "cell_type": "code",
   "execution_count": 299,
   "metadata": {},
   "outputs": [
    {
     "data": {
      "image/png": "[encoded data removed]",
      "text/plain": [
       "<Figure size 936x360 with 2 Axes>"
      ]
     },
     "metadata": {
      "needs_background": "light"
     },
     "output_type": "display_data"
    }
   ],
   "source": [
    "# Check outliers for column 'TimeOnWebsite'. There is no outlier.\n",
    "plt.figure(figsize=(13,5))\n",
    "plt.subplot(121)\n",
    "sns.boxplot(y='TimeOnWebsite',data=LeadDataDummy[['TimeOnWebsite','Converted']])\n",
    "plt.subplot(122)\n",
    "sns.distplot(LeadDataDummy[['TimeOnWebsite']])\n",
    "plt.show()\n"
   ]
  },
  {
   "cell_type": "code",
   "execution_count": 300,
   "metadata": {},
   "outputs": [
    {
     "data": {
      "text/plain": [
       "(9074, 45)"
      ]
     },
     "execution_count": 300,
     "metadata": {},
     "output_type": "execute_result"
    }
   ],
   "source": [
    "# Check for data shape as review\n",
    "LeadDataDummy.shape"
   ]
  },
  {
   "cell_type": "code",
   "execution_count": 301,
   "metadata": {},
   "outputs": [
    {
     "data": {
      "text/html": [
       "<div>\n",
       "<style scoped>\n",
       "    .dataframe tbody tr th:only-of-type {\n",
       "        vertical-align: middle;\n",
       "    }\n",
       "\n",
       "    .dataframe tbody tr th {\n",
       "        vertical-align: top;\n",
       "    }\n",
       "\n",
       "    .dataframe thead th {\n",
       "        text-align: right;\n",
       "    }\n",
       "</style>\n",
       "<table border=\"1\" class=\"dataframe\">\n",
       "  <thead>\n",
       "    <tr style=\"text-align: right;\">\n",
       "      <th></th>\n",
       "      <th>TimeOnWebsite</th>\n",
       "    </tr>\n",
       "  </thead>\n",
       "  <tbody>\n",
       "    <tr>\n",
       "      <th>count</th>\n",
       "      <td>9074.000000</td>\n",
       "    </tr>\n",
       "    <tr>\n",
       "      <th>mean</th>\n",
       "      <td>482.887481</td>\n",
       "    </tr>\n",
       "    <tr>\n",
       "      <th>std</th>\n",
       "      <td>545.256560</td>\n",
       "    </tr>\n",
       "    <tr>\n",
       "      <th>min</th>\n",
       "      <td>0.000000</td>\n",
       "    </tr>\n",
       "    <tr>\n",
       "      <th>50%</th>\n",
       "      <td>246.000000</td>\n",
       "    </tr>\n",
       "    <tr>\n",
       "      <th>90%</th>\n",
       "      <td>1373.000000</td>\n",
       "    </tr>\n",
       "    <tr>\n",
       "      <th>97%</th>\n",
       "      <td>1655.000000</td>\n",
       "    </tr>\n",
       "    <tr>\n",
       "      <th>99%</th>\n",
       "      <td>1839.000000</td>\n",
       "    </tr>\n",
       "    <tr>\n",
       "      <th>max</th>\n",
       "      <td>2272.000000</td>\n",
       "    </tr>\n",
       "  </tbody>\n",
       "</table>\n",
       "</div>"
      ],
      "text/plain": [
       "       TimeOnWebsite\n",
       "count    9074.000000\n",
       "mean      482.887481\n",
       "std       545.256560\n",
       "min         0.000000\n",
       "50%       246.000000\n",
       "90%      1373.000000\n",
       "97%      1655.000000\n",
       "99%      1839.000000\n",
       "max      2272.000000"
      ]
     },
     "execution_count": 301,
     "metadata": {},
     "output_type": "execute_result"
    }
   ],
   "source": [
    "#Check the description with percentiles.\n",
    "LeadDataDummy[['TimeOnWebsite']].describe(percentiles =[0.9,0.97,0.99])"
   ]
  },
  {
   "cell_type": "markdown",
   "metadata": {},
   "source": [
    "### Outliers removed for column 'TimeOnWebsite'. No treatment required for now."
   ]
  },
  {
   "cell_type": "code",
   "execution_count": 302,
   "metadata": {},
   "outputs": [
    {
     "data": {
      "image/png": "[encoded data removed]",
      "text/plain": [
       "<Figure size 936x360 with 2 Axes>"
      ]
     },
     "metadata": {
      "needs_background": "light"
     },
     "output_type": "display_data"
    }
   ],
   "source": [
    "# Check outliers for column 'PVPV'\n",
    "plt.figure(figsize=(13,5))\n",
    "plt.subplot(121)\n",
    "sns.boxplot(y='PVPV',data=LeadDataDummy[['PVPV','Converted']])\n",
    "plt.subplot(122)\n",
    "sns.distplot(LeadDataDummy[['PVPV']])\n",
    "plt.show()\n"
   ]
  },
  {
   "cell_type": "code",
   "execution_count": 303,
   "metadata": {},
   "outputs": [
    {
     "data": {
      "text/html": [
       "<div>\n",
       "<style scoped>\n",
       "    .dataframe tbody tr th:only-of-type {\n",
       "        vertical-align: middle;\n",
       "    }\n",
       "\n",
       "    .dataframe tbody tr th {\n",
       "        vertical-align: top;\n",
       "    }\n",
       "\n",
       "    .dataframe thead th {\n",
       "        text-align: right;\n",
       "    }\n",
       "</style>\n",
       "<table border=\"1\" class=\"dataframe\">\n",
       "  <thead>\n",
       "    <tr style=\"text-align: right;\">\n",
       "      <th></th>\n",
       "      <th>PVPV</th>\n",
       "    </tr>\n",
       "  </thead>\n",
       "  <tbody>\n",
       "    <tr>\n",
       "      <th>count</th>\n",
       "      <td>9074.000000</td>\n",
       "    </tr>\n",
       "    <tr>\n",
       "      <th>mean</th>\n",
       "      <td>2.370151</td>\n",
       "    </tr>\n",
       "    <tr>\n",
       "      <th>std</th>\n",
       "      <td>2.160871</td>\n",
       "    </tr>\n",
       "    <tr>\n",
       "      <th>min</th>\n",
       "      <td>0.000000</td>\n",
       "    </tr>\n",
       "    <tr>\n",
       "      <th>50%</th>\n",
       "      <td>2.000000</td>\n",
       "    </tr>\n",
       "    <tr>\n",
       "      <th>90%</th>\n",
       "      <td>5.000000</td>\n",
       "    </tr>\n",
       "    <tr>\n",
       "      <th>97%</th>\n",
       "      <td>7.000000</td>\n",
       "    </tr>\n",
       "    <tr>\n",
       "      <th>99%</th>\n",
       "      <td>9.000000</td>\n",
       "    </tr>\n",
       "    <tr>\n",
       "      <th>max</th>\n",
       "      <td>55.000000</td>\n",
       "    </tr>\n",
       "  </tbody>\n",
       "</table>\n",
       "</div>"
      ],
      "text/plain": [
       "              PVPV\n",
       "count  9074.000000\n",
       "mean      2.370151\n",
       "std       2.160871\n",
       "min       0.000000\n",
       "50%       2.000000\n",
       "90%       5.000000\n",
       "97%       7.000000\n",
       "99%       9.000000\n",
       "max      55.000000"
      ]
     },
     "execution_count": 303,
     "metadata": {},
     "output_type": "execute_result"
    }
   ],
   "source": [
    "#Check the description with percentiles.\n",
    "LeadDataDummy[['PVPV']].describe(percentiles =[0.9,0.97,0.99])"
   ]
  },
  {
   "cell_type": "code",
   "execution_count": 304,
   "metadata": {},
   "outputs": [
    {
     "name": "stdout",
     "output_type": "stream",
     "text": [
      "6.0\n"
     ]
    }
   ],
   "source": [
    "# Cap at quantile=96%\n",
    "q=LeadDataDummy['PVPV'].quantile(0.96)\n",
    "print(q)"
   ]
  },
  {
   "cell_type": "code",
   "execution_count": 305,
   "metadata": {},
   "outputs": [
    {
     "data": {
      "image/png": "[encoded data removed]",
      "text/plain": [
       "<Figure size 432x288 with 1 Axes>"
      ]
     },
     "metadata": {
      "needs_background": "light"
     },
     "output_type": "display_data"
    }
   ],
   "source": [
    "#Capping at 96%\n",
    "LeadDataDummy['PVPV']=LeadDataDummy['PVPV'].apply(lambda x:x if x<q else q)\n",
    "sns.boxplot(y='PVPV',data=LeadDataDummy)\n",
    "plt.show()"
   ]
  },
  {
   "cell_type": "code",
   "execution_count": 306,
   "metadata": {},
   "outputs": [
    {
     "data": {
      "text/plain": [
       "(9074, 45)"
      ]
     },
     "execution_count": 306,
     "metadata": {},
     "output_type": "execute_result"
    }
   ],
   "source": [
    "LeadDataDummy.shape"
   ]
  },
  {
   "cell_type": "markdown",
   "metadata": {},
   "source": [
    "### Outliers are treated with capping. \n",
    "### Lets us look at highly correlated columns and see if they can be removed."
   ]
  },
  {
   "cell_type": "code",
   "execution_count": 307,
   "metadata": {
    "scrolled": false
   },
   "outputs": [
    {
     "data": {
      "image/png": "[encoded data removed]",
      "text/plain": [
       "<Figure size 1440x1440 with 2 Axes>"
      ]
     },
     "metadata": {
      "needs_background": "light"
     },
     "output_type": "display_data"
    },
    {
     "data": {
      "image/png": "[encoded data removed]",
      "text/plain": [
       "<Figure size 1440x1440 with 2 Axes>"
      ]
     },
     "metadata": {
      "needs_background": "light"
     },
     "output_type": "display_data"
    },
    {
     "data": {
      "image/png": "[encoded data removed]",
      "text/plain": [
       "<Figure size 1440x1440 with 2 Axes>"
      ]
     },
     "metadata": {
      "needs_background": "light"
     },
     "output_type": "display_data"
    }
   ],
   "source": [
    "# Check the correlation matrix or heatmap . Dividing 45 variables in 3 sets of 15 variables for better visuals.\n",
    "plt.figure(figsize = (20,20))\n",
    "CorrDF=LeadDataDummy.iloc[:,0:15]\n",
    "sns.heatmap(CorrDF.corr(),annot = True)\n",
    "plt.show()\n",
    "\n",
    "plt.figure(figsize = (20,20))\n",
    "CorrDF=LeadDataDummy.iloc[:,15:30]\n",
    "sns.heatmap(CorrDF.corr(),annot = True)\n",
    "plt.show()\n",
    "\n",
    "plt.figure(figsize = (20,20))\n",
    "CorrDF=LeadDataDummy.iloc[:,30:45]\n",
    "sns.heatmap(CorrDF.corr(),annot = True)\n",
    "plt.show()"
   ]
  },
  {
   "cell_type": "markdown",
   "metadata": {},
   "source": [
    "### Will drop one column for each highly correlated pair ( with correlation > 0.8)\n",
    "### Pairs with correlation > 0.8 are :\n",
    "    Asymmetrique Activity Index_Medium : Asymmetrique Activity Index_High\n",
    "    Lead Origin_API : Lead Origin_Landing Page Submission \n",
    "    "
   ]
  },
  {
   "cell_type": "code",
   "execution_count": 308,
   "metadata": {},
   "outputs": [
    {
     "data": {
      "text/plain": [
       "Index(['Converted', 'TotalVisits', 'TimeOnWebsite', 'PVPV', 'Lead Origin_API',\n",
       "       'Lead Origin_Lead Add Form', 'Lead Source_Click2call',\n",
       "       'Lead Source_Direct Traffic', 'Lead Source_Facebook',\n",
       "       'Lead Source_Google', 'Lead Source_Live Chat', 'Lead Source_Olark Chat',\n",
       "       'Lead Source_Organic Search', 'Lead Source_Pay per Click Ads',\n",
       "       'Lead Source_Press_Release', 'Lead Source_Reference',\n",
       "       'Lead Source_Referral Sites', 'Lead Source_Social Media',\n",
       "       'Lead Source_WeLearn', 'Lead Source_Welingak Website',\n",
       "       'Lead Source_bing', 'Lead Source_blog', 'Lead Source_testone',\n",
       "       'Lead Source_welearnblog_Home', 'Lead Source_youtubechannel',\n",
       "       'Do Not Email_No', 'Asymmetrique Activity Index_Medium',\n",
       "       'InterviewFreeCopy_No', 'Last Notable Activity_Approached upfront',\n",
       "       'Last Notable Activity_Email Bounced',\n",
       "       'Last Notable Activity_Email Link Clicked',\n",
       "       'Last Notable Activity_Email Marked Spam',\n",
       "       'Last Notable Activity_Email Opened',\n",
       "       'Last Notable Activity_Email Received',\n",
       "       'Last Notable Activity_Form Submitted on Website',\n",
       "       'Last Notable Activity_Had a Phone Conversation',\n",
       "       'Last Notable Activity_Modified',\n",
       "       'Last Notable Activity_Olark Chat Conversation',\n",
       "       'Last Notable Activity_Page Visited on Website',\n",
       "       'Last Notable Activity_Resubscribed to emails',\n",
       "       'Last Notable Activity_SMS Sent', 'Last Notable Activity_Unreachable',\n",
       "       'Last Notable Activity_Unsubscribed'],\n",
       "      dtype='object')"
      ]
     },
     "execution_count": 308,
     "metadata": {},
     "output_type": "execute_result"
    }
   ],
   "source": [
    "# Drop columns 'Asymmetrique Activity Index_High' and 'Lead Origin_Landing Page Submission'\n",
    "LeadDataDummy.drop(columns=['Asymmetrique Activity Index_High','Lead Origin_Landing Page Submission'],inplace=True)\n",
    "LeadDataDummy.columns"
   ]
  },
  {
   "cell_type": "markdown",
   "metadata": {},
   "source": [
    "### Test - Train split"
   ]
  },
  {
   "cell_type": "code",
   "execution_count": 309,
   "metadata": {},
   "outputs": [
    {
     "name": "stdout",
     "output_type": "stream",
     "text": [
      "(6351, 42) (2723, 42)\n"
     ]
    }
   ],
   "source": [
    "# Splitting the data into train and test\n",
    "X=LeadDataDummy.drop(['Converted'],axis=1)\n",
    "y=LeadDataDummy['Converted']\n",
    "X_train, X_test, y_train, y_test = train_test_split(X,y,train_size=0.7, test_size=0.3, random_state=100)\n",
    "print(X_train.shape , X_test.shape)"
   ]
  },
  {
   "cell_type": "markdown",
   "metadata": {},
   "source": [
    "### Scale the Data :"
   ]
  },
  {
   "cell_type": "code",
   "execution_count": 310,
   "metadata": {},
   "outputs": [
    {
     "data": {
      "text/html": [
       "<div>\n",
       "<style scoped>\n",
       "    .dataframe tbody tr th:only-of-type {\n",
       "        vertical-align: middle;\n",
       "    }\n",
       "\n",
       "    .dataframe tbody tr th {\n",
       "        vertical-align: top;\n",
       "    }\n",
       "\n",
       "    .dataframe thead th {\n",
       "        text-align: right;\n",
       "    }\n",
       "</style>\n",
       "<table border=\"1\" class=\"dataframe\">\n",
       "  <thead>\n",
       "    <tr style=\"text-align: right;\">\n",
       "      <th></th>\n",
       "      <th>TotalVisits</th>\n",
       "      <th>TimeOnWebsite</th>\n",
       "      <th>PVPV</th>\n",
       "      <th>Lead Origin_API</th>\n",
       "      <th>Lead Origin_Lead Add Form</th>\n",
       "      <th>Lead Source_Click2call</th>\n",
       "      <th>Lead Source_Direct Traffic</th>\n",
       "      <th>Lead Source_Facebook</th>\n",
       "      <th>Lead Source_Google</th>\n",
       "      <th>Lead Source_Live Chat</th>\n",
       "      <th>...</th>\n",
       "      <th>Last Notable Activity_Email Received</th>\n",
       "      <th>Last Notable Activity_Form Submitted on Website</th>\n",
       "      <th>Last Notable Activity_Had a Phone Conversation</th>\n",
       "      <th>Last Notable Activity_Modified</th>\n",
       "      <th>Last Notable Activity_Olark Chat Conversation</th>\n",
       "      <th>Last Notable Activity_Page Visited on Website</th>\n",
       "      <th>Last Notable Activity_Resubscribed to emails</th>\n",
       "      <th>Last Notable Activity_SMS Sent</th>\n",
       "      <th>Last Notable Activity_Unreachable</th>\n",
       "      <th>Last Notable Activity_Unsubscribed</th>\n",
       "    </tr>\n",
       "  </thead>\n",
       "  <tbody>\n",
       "    <tr>\n",
       "      <th>3009</th>\n",
       "      <td>-0.432779</td>\n",
       "      <td>-0.160255</td>\n",
       "      <td>-0.155018</td>\n",
       "      <td>0</td>\n",
       "      <td>0</td>\n",
       "      <td>0</td>\n",
       "      <td>1</td>\n",
       "      <td>0</td>\n",
       "      <td>0</td>\n",
       "      <td>0</td>\n",
       "      <td>...</td>\n",
       "      <td>0</td>\n",
       "      <td>0</td>\n",
       "      <td>0</td>\n",
       "      <td>0</td>\n",
       "      <td>0</td>\n",
       "      <td>0</td>\n",
       "      <td>0</td>\n",
       "      <td>0</td>\n",
       "      <td>0</td>\n",
       "      <td>0</td>\n",
       "    </tr>\n",
       "    <tr>\n",
       "      <th>1012</th>\n",
       "      <td>-0.432779</td>\n",
       "      <td>-0.540048</td>\n",
       "      <td>-0.155018</td>\n",
       "      <td>0</td>\n",
       "      <td>0</td>\n",
       "      <td>0</td>\n",
       "      <td>1</td>\n",
       "      <td>0</td>\n",
       "      <td>0</td>\n",
       "      <td>0</td>\n",
       "      <td>...</td>\n",
       "      <td>0</td>\n",
       "      <td>0</td>\n",
       "      <td>0</td>\n",
       "      <td>0</td>\n",
       "      <td>0</td>\n",
       "      <td>0</td>\n",
       "      <td>0</td>\n",
       "      <td>0</td>\n",
       "      <td>0</td>\n",
       "      <td>0</td>\n",
       "    </tr>\n",
       "    <tr>\n",
       "      <th>9226</th>\n",
       "      <td>-1.150329</td>\n",
       "      <td>-0.888650</td>\n",
       "      <td>-1.265540</td>\n",
       "      <td>1</td>\n",
       "      <td>0</td>\n",
       "      <td>0</td>\n",
       "      <td>0</td>\n",
       "      <td>0</td>\n",
       "      <td>0</td>\n",
       "      <td>0</td>\n",
       "      <td>...</td>\n",
       "      <td>0</td>\n",
       "      <td>0</td>\n",
       "      <td>0</td>\n",
       "      <td>1</td>\n",
       "      <td>0</td>\n",
       "      <td>0</td>\n",
       "      <td>0</td>\n",
       "      <td>0</td>\n",
       "      <td>0</td>\n",
       "      <td>0</td>\n",
       "    </tr>\n",
       "    <tr>\n",
       "      <th>4750</th>\n",
       "      <td>-0.432779</td>\n",
       "      <td>1.643304</td>\n",
       "      <td>-0.155018</td>\n",
       "      <td>0</td>\n",
       "      <td>0</td>\n",
       "      <td>0</td>\n",
       "      <td>1</td>\n",
       "      <td>0</td>\n",
       "      <td>0</td>\n",
       "      <td>0</td>\n",
       "      <td>...</td>\n",
       "      <td>0</td>\n",
       "      <td>0</td>\n",
       "      <td>0</td>\n",
       "      <td>0</td>\n",
       "      <td>0</td>\n",
       "      <td>0</td>\n",
       "      <td>0</td>\n",
       "      <td>1</td>\n",
       "      <td>0</td>\n",
       "      <td>0</td>\n",
       "    </tr>\n",
       "    <tr>\n",
       "      <th>7987</th>\n",
       "      <td>0.643547</td>\n",
       "      <td>2.017593</td>\n",
       "      <td>0.122613</td>\n",
       "      <td>0</td>\n",
       "      <td>0</td>\n",
       "      <td>0</td>\n",
       "      <td>1</td>\n",
       "      <td>0</td>\n",
       "      <td>0</td>\n",
       "      <td>0</td>\n",
       "      <td>...</td>\n",
       "      <td>0</td>\n",
       "      <td>0</td>\n",
       "      <td>0</td>\n",
       "      <td>1</td>\n",
       "      <td>0</td>\n",
       "      <td>0</td>\n",
       "      <td>0</td>\n",
       "      <td>0</td>\n",
       "      <td>0</td>\n",
       "      <td>0</td>\n",
       "    </tr>\n",
       "  </tbody>\n",
       "</table>\n",
       "<p>5 rows × 42 columns</p>\n",
       "</div>"
      ],
      "text/plain": [
       "      TotalVisits  TimeOnWebsite      PVPV  Lead Origin_API  \\\n",
       "3009    -0.432779      -0.160255 -0.155018                0   \n",
       "1012    -0.432779      -0.540048 -0.155018                0   \n",
       "9226    -1.150329      -0.888650 -1.265540                1   \n",
       "4750    -0.432779       1.643304 -0.155018                0   \n",
       "7987     0.643547       2.017593  0.122613                0   \n",
       "\n",
       "      Lead Origin_Lead Add Form  Lead Source_Click2call  \\\n",
       "3009                          0                       0   \n",
       "1012                          0                       0   \n",
       "9226                          0                       0   \n",
       "4750                          0                       0   \n",
       "7987                          0                       0   \n",
       "\n",
       "      Lead Source_Direct Traffic  Lead Source_Facebook  Lead Source_Google  \\\n",
       "3009                           1                     0                   0   \n",
       "1012                           1                     0                   0   \n",
       "9226                           0                     0                   0   \n",
       "4750                           1                     0                   0   \n",
       "7987                           1                     0                   0   \n",
       "\n",
       "      Lead Source_Live Chat  ...  Last Notable Activity_Email Received  \\\n",
       "3009                      0  ...                                     0   \n",
       "1012                      0  ...                                     0   \n",
       "9226                      0  ...                                     0   \n",
       "4750                      0  ...                                     0   \n",
       "7987                      0  ...                                     0   \n",
       "\n",
       "      Last Notable Activity_Form Submitted on Website  \\\n",
       "3009                                                0   \n",
       "1012                                                0   \n",
       "9226                                                0   \n",
       "4750                                                0   \n",
       "7987                                                0   \n",
       "\n",
       "      Last Notable Activity_Had a Phone Conversation  \\\n",
       "3009                                               0   \n",
       "1012                                               0   \n",
       "9226                                               0   \n",
       "4750                                               0   \n",
       "7987                                               0   \n",
       "\n",
       "      Last Notable Activity_Modified  \\\n",
       "3009                               0   \n",
       "1012                               0   \n",
       "9226                               1   \n",
       "4750                               0   \n",
       "7987                               1   \n",
       "\n",
       "      Last Notable Activity_Olark Chat Conversation  \\\n",
       "3009                                              0   \n",
       "1012                                              0   \n",
       "9226                                              0   \n",
       "4750                                              0   \n",
       "7987                                              0   \n",
       "\n",
       "      Last Notable Activity_Page Visited on Website  \\\n",
       "3009                                              0   \n",
       "1012                                              0   \n",
       "9226                                              0   \n",
       "4750                                              0   \n",
       "7987                                              0   \n",
       "\n",
       "      Last Notable Activity_Resubscribed to emails  \\\n",
       "3009                                             0   \n",
       "1012                                             0   \n",
       "9226                                             0   \n",
       "4750                                             0   \n",
       "7987                                             0   \n",
       "\n",
       "      Last Notable Activity_SMS Sent  Last Notable Activity_Unreachable  \\\n",
       "3009                               0                                  0   \n",
       "1012                               0                                  0   \n",
       "9226                               0                                  0   \n",
       "4750                               1                                  0   \n",
       "7987                               0                                  0   \n",
       "\n",
       "      Last Notable Activity_Unsubscribed  \n",
       "3009                                   0  \n",
       "1012                                   0  \n",
       "9226                                   0  \n",
       "4750                                   0  \n",
       "7987                                   0  \n",
       "\n",
       "[5 rows x 42 columns]"
      ]
     },
     "execution_count": 310,
     "metadata": {},
     "output_type": "execute_result"
    }
   ],
   "source": [
    "# Scale original variables TotalVisits, TimeOnWebSite , PVPV\n",
    "scaler=StandardScaler()\n",
    "X_train[['TotalVisits','TimeOnWebsite','PVPV']]=scaler.fit_transform(X_train[['TotalVisits','TimeOnWebsite','PVPV']])\n",
    "X_train.head()"
   ]
  },
  {
   "cell_type": "code",
   "execution_count": 311,
   "metadata": {},
   "outputs": [
    {
     "name": "stdout",
     "output_type": "stream",
     "text": [
      "Conversion rate is 37.86 %\n"
     ]
    }
   ],
   "source": [
    "# Check the conversion rate\n",
    "ConversionRate = (sum(LeadDataDummy['Converted'])/len(LeadDataDummy['Converted'].index))*100\n",
    "print('Conversion rate is {0} %'.format(round(ConversionRate,2)))"
   ]
  },
  {
   "cell_type": "markdown",
   "metadata": {},
   "source": [
    "### Start Model building"
   ]
  },
  {
   "cell_type": "code",
   "execution_count": 312,
   "metadata": {},
   "outputs": [
    {
     "data": {
      "text/html": [
       "<table class=\"simpletable\">\n",
       "<caption>Generalized Linear Model Regression Results</caption>\n",
       "<tr>\n",
       "  <th>Dep. Variable:</th>      <td>Converted</td>    <th>  No. Observations:  </th>  <td>  6351</td>  \n",
       "</tr>\n",
       "<tr>\n",
       "  <th>Model:</th>                 <td>GLM</td>       <th>  Df Residuals:      </th>  <td>  6309</td>  \n",
       "</tr>\n",
       "<tr>\n",
       "  <th>Model Family:</th>       <td>Binomial</td>     <th>  Df Model:          </th>  <td>    41</td>  \n",
       "</tr>\n",
       "<tr>\n",
       "  <th>Link Function:</th>        <td>logit</td>      <th>  Scale:             </th> <td>  1.0000</td> \n",
       "</tr>\n",
       "<tr>\n",
       "  <th>Method:</th>               <td>IRLS</td>       <th>  Log-Likelihood:    </th> <td> -2786.3</td> \n",
       "</tr>\n",
       "<tr>\n",
       "  <th>Date:</th>           <td>Mon, 06 Jan 2020</td> <th>  Deviance:          </th> <td>  5572.5</td> \n",
       "</tr>\n",
       "<tr>\n",
       "  <th>Time:</th>               <td>18:34:03</td>     <th>  Pearson chi2:      </th> <td>6.57e+03</td> \n",
       "</tr>\n",
       "<tr>\n",
       "  <th>No. Iterations:</th>        <td>25</td>        <th>  Covariance Type:   </th> <td>nonrobust</td>\n",
       "</tr>\n",
       "</table>\n",
       "<table class=\"simpletable\">\n",
       "<tr>\n",
       "                         <td></td>                            <th>coef</th>     <th>std err</th>      <th>z</th>      <th>P>|z|</th>  <th>[0.025</th>    <th>0.975]</th>  \n",
       "</tr>\n",
       "<tr>\n",
       "  <th>const</th>                                           <td>   -8.3675</td> <td> 3.57e+05</td> <td>-2.34e-05</td> <td> 1.000</td> <td>   -7e+05</td> <td>    7e+05</td>\n",
       "</tr>\n",
       "<tr>\n",
       "  <th>TotalVisits</th>                                     <td>    0.3542</td> <td>    0.054</td> <td>    6.579</td> <td> 0.000</td> <td>    0.249</td> <td>    0.460</td>\n",
       "</tr>\n",
       "<tr>\n",
       "  <th>TimeOnWebsite</th>                                   <td>    1.1501</td> <td>    0.040</td> <td>   28.884</td> <td> 0.000</td> <td>    1.072</td> <td>    1.228</td>\n",
       "</tr>\n",
       "<tr>\n",
       "  <th>PVPV</th>                                            <td>   -0.2441</td> <td>    0.060</td> <td>   -4.038</td> <td> 0.000</td> <td>   -0.363</td> <td>   -0.126</td>\n",
       "</tr>\n",
       "<tr>\n",
       "  <th>Lead Origin_API</th>                                 <td>    0.0989</td> <td>    0.103</td> <td>    0.961</td> <td> 0.337</td> <td>   -0.103</td> <td>    0.301</td>\n",
       "</tr>\n",
       "<tr>\n",
       "  <th>Lead Origin_Lead Add Form</th>                       <td>   -0.2379</td> <td>    1.730</td> <td>   -0.138</td> <td> 0.891</td> <td>   -3.629</td> <td>    3.153</td>\n",
       "</tr>\n",
       "<tr>\n",
       "  <th>Lead Source_Click2call</th>                          <td>  -17.1963</td> <td>  1.5e+04</td> <td>   -0.001</td> <td> 0.999</td> <td>-2.95e+04</td> <td> 2.95e+04</td>\n",
       "</tr>\n",
       "<tr>\n",
       "  <th>Lead Source_Direct Traffic</th>                      <td>  -20.3728</td> <td>  1.5e+04</td> <td>   -0.001</td> <td> 0.999</td> <td>-2.95e+04</td> <td> 2.95e+04</td>\n",
       "</tr>\n",
       "<tr>\n",
       "  <th>Lead Source_Facebook</th>                            <td>  -18.6223</td> <td>  1.5e+04</td> <td>   -0.001</td> <td> 0.999</td> <td>-2.95e+04</td> <td> 2.95e+04</td>\n",
       "</tr>\n",
       "<tr>\n",
       "  <th>Lead Source_Google</th>                              <td>  -20.0547</td> <td>  1.5e+04</td> <td>   -0.001</td> <td> 0.999</td> <td>-2.95e+04</td> <td> 2.95e+04</td>\n",
       "</tr>\n",
       "<tr>\n",
       "  <th>Lead Source_Live Chat</th>                           <td>    3.2277</td> <td> 3.25e+04</td> <td> 9.92e-05</td> <td> 1.000</td> <td>-6.37e+04</td> <td> 6.37e+04</td>\n",
       "</tr>\n",
       "<tr>\n",
       "  <th>Lead Source_Olark Chat</th>                          <td>  -19.1159</td> <td>  1.5e+04</td> <td>   -0.001</td> <td> 0.999</td> <td>-2.95e+04</td> <td> 2.95e+04</td>\n",
       "</tr>\n",
       "<tr>\n",
       "  <th>Lead Source_Organic Search</th>                      <td>  -20.3067</td> <td>  1.5e+04</td> <td>   -0.001</td> <td> 0.999</td> <td>-2.95e+04</td> <td> 2.95e+04</td>\n",
       "</tr>\n",
       "<tr>\n",
       "  <th>Lead Source_Pay per Click Ads</th>                   <td>  -40.7343</td> <td> 4.78e+04</td> <td>   -0.001</td> <td> 0.999</td> <td>-9.37e+04</td> <td> 9.36e+04</td>\n",
       "</tr>\n",
       "<tr>\n",
       "  <th>Lead Source_Press_Release</th>                       <td>  -41.6546</td> <td> 7.03e+04</td> <td>   -0.001</td> <td> 1.000</td> <td>-1.38e+05</td> <td> 1.38e+05</td>\n",
       "</tr>\n",
       "<tr>\n",
       "  <th>Lead Source_Reference</th>                           <td>  -15.4715</td> <td>  1.5e+04</td> <td>   -0.001</td> <td> 0.999</td> <td>-2.95e+04</td> <td> 2.95e+04</td>\n",
       "</tr>\n",
       "<tr>\n",
       "  <th>Lead Source_Referral Sites</th>                      <td>  -20.4726</td> <td>  1.5e+04</td> <td>   -0.001</td> <td> 0.999</td> <td>-2.95e+04</td> <td> 2.95e+04</td>\n",
       "</tr>\n",
       "<tr>\n",
       "  <th>Lead Source_Social Media</th>                        <td>  -18.5168</td> <td>  1.5e+04</td> <td>   -0.001</td> <td> 0.999</td> <td>-2.95e+04</td> <td> 2.95e+04</td>\n",
       "</tr>\n",
       "<tr>\n",
       "  <th>Lead Source_WeLearn</th>                             <td> 1.531e-09</td> <td> 2.68e-05</td> <td> 5.71e-05</td> <td> 1.000</td> <td>-5.25e-05</td> <td> 5.25e-05</td>\n",
       "</tr>\n",
       "<tr>\n",
       "  <th>Lead Source_Welingak Website</th>                    <td>  -13.8238</td> <td>  1.5e+04</td> <td>   -0.001</td> <td> 0.999</td> <td>-2.95e+04</td> <td> 2.95e+04</td>\n",
       "</tr>\n",
       "<tr>\n",
       "  <th>Lead Source_bing</th>                                <td>  -19.7349</td> <td>  1.5e+04</td> <td>   -0.001</td> <td> 0.999</td> <td>-2.95e+04</td> <td> 2.95e+04</td>\n",
       "</tr>\n",
       "<tr>\n",
       "  <th>Lead Source_blog</th>                                <td>  -46.6092</td> <td>  4.8e+05</td> <td>-9.71e-05</td> <td> 1.000</td> <td>-9.41e+05</td> <td> 9.41e+05</td>\n",
       "</tr>\n",
       "<tr>\n",
       "  <th>Lead Source_testone</th>                             <td>  -46.7390</td> <td> 8.74e+05</td> <td>-5.35e-05</td> <td> 1.000</td> <td>-1.71e+06</td> <td> 1.71e+06</td>\n",
       "</tr>\n",
       "<tr>\n",
       "  <th>Lead Source_welearnblog_Home</th>                    <td>  -45.6974</td> <td> 4.18e+05</td> <td>   -0.000</td> <td> 1.000</td> <td> -8.2e+05</td> <td>  8.2e+05</td>\n",
       "</tr>\n",
       "<tr>\n",
       "  <th>Lead Source_youtubechannel</th>                      <td>  -45.3727</td> <td> 2.82e+05</td> <td>   -0.000</td> <td> 1.000</td> <td>-5.52e+05</td> <td> 5.52e+05</td>\n",
       "</tr>\n",
       "<tr>\n",
       "  <th>Do Not Email_No</th>                                 <td>    1.5975</td> <td>    0.200</td> <td>    7.983</td> <td> 0.000</td> <td>    1.205</td> <td>    1.990</td>\n",
       "</tr>\n",
       "<tr>\n",
       "  <th>Asymmetrique Activity Index_Medium</th>              <td>    0.4309</td> <td>    0.112</td> <td>    3.831</td> <td> 0.000</td> <td>    0.210</td> <td>    0.651</td>\n",
       "</tr>\n",
       "<tr>\n",
       "  <th>InterviewFreeCopy_No</th>                            <td>    0.0256</td> <td>    0.104</td> <td>    0.247</td> <td> 0.805</td> <td>   -0.178</td> <td>    0.229</td>\n",
       "</tr>\n",
       "<tr>\n",
       "  <th>Last Notable Activity_Approached upfront</th>        <td>   51.1755</td> <td> 5.04e+05</td> <td>    0.000</td> <td> 1.000</td> <td>-9.87e+05</td> <td> 9.87e+05</td>\n",
       "</tr>\n",
       "<tr>\n",
       "  <th>Last Notable Activity_Email Bounced</th>             <td>   25.7580</td> <td> 3.57e+05</td> <td> 7.22e-05</td> <td> 1.000</td> <td>-6.99e+05</td> <td> 6.99e+05</td>\n",
       "</tr>\n",
       "<tr>\n",
       "  <th>Last Notable Activity_Email Link Clicked</th>        <td>   25.0511</td> <td> 3.57e+05</td> <td> 7.02e-05</td> <td> 1.000</td> <td>-6.99e+05</td> <td> 6.99e+05</td>\n",
       "</tr>\n",
       "<tr>\n",
       "  <th>Last Notable Activity_Email Marked Spam</th>         <td>   51.3488</td> <td> 4.35e+05</td> <td>    0.000</td> <td> 1.000</td> <td>-8.53e+05</td> <td> 8.54e+05</td>\n",
       "</tr>\n",
       "<tr>\n",
       "  <th>Last Notable Activity_Email Opened</th>              <td>   25.4860</td> <td> 3.57e+05</td> <td> 7.14e-05</td> <td> 1.000</td> <td>-6.99e+05</td> <td> 6.99e+05</td>\n",
       "</tr>\n",
       "<tr>\n",
       "  <th>Last Notable Activity_Email Received</th>            <td>   52.0914</td> <td> 5.04e+05</td> <td>    0.000</td> <td> 1.000</td> <td>-9.88e+05</td> <td> 9.88e+05</td>\n",
       "</tr>\n",
       "<tr>\n",
       "  <th>Last Notable Activity_Form Submitted on Website</th> <td>    0.6730</td> <td> 5.05e+05</td> <td> 1.33e-06</td> <td> 1.000</td> <td>-9.89e+05</td> <td> 9.89e+05</td>\n",
       "</tr>\n",
       "<tr>\n",
       "  <th>Last Notable Activity_Had a Phone Conversation</th>  <td>   28.7848</td> <td> 3.57e+05</td> <td> 8.07e-05</td> <td> 1.000</td> <td>-6.99e+05</td> <td> 6.99e+05</td>\n",
       "</tr>\n",
       "<tr>\n",
       "  <th>Last Notable Activity_Modified</th>                  <td>   24.7685</td> <td> 3.57e+05</td> <td> 6.94e-05</td> <td> 1.000</td> <td>-6.99e+05</td> <td> 6.99e+05</td>\n",
       "</tr>\n",
       "<tr>\n",
       "  <th>Last Notable Activity_Olark Chat Conversation</th>   <td>   23.9924</td> <td> 3.57e+05</td> <td> 6.72e-05</td> <td> 1.000</td> <td>-6.99e+05</td> <td> 6.99e+05</td>\n",
       "</tr>\n",
       "<tr>\n",
       "  <th>Last Notable Activity_Page Visited on Website</th>   <td>   24.8749</td> <td> 3.57e+05</td> <td> 6.97e-05</td> <td> 1.000</td> <td>-6.99e+05</td> <td> 6.99e+05</td>\n",
       "</tr>\n",
       "<tr>\n",
       "  <th>Last Notable Activity_Resubscribed to emails</th>    <td>   53.0173</td> <td> 5.04e+05</td> <td>    0.000</td> <td> 1.000</td> <td>-9.88e+05</td> <td> 9.88e+05</td>\n",
       "</tr>\n",
       "<tr>\n",
       "  <th>Last Notable Activity_SMS Sent</th>                  <td>   26.9145</td> <td> 3.57e+05</td> <td> 7.54e-05</td> <td> 1.000</td> <td>-6.99e+05</td> <td> 6.99e+05</td>\n",
       "</tr>\n",
       "<tr>\n",
       "  <th>Last Notable Activity_Unreachable</th>               <td>   27.1642</td> <td> 3.57e+05</td> <td> 7.61e-05</td> <td> 1.000</td> <td>-6.99e+05</td> <td> 6.99e+05</td>\n",
       "</tr>\n",
       "<tr>\n",
       "  <th>Last Notable Activity_Unsubscribed</th>              <td>   27.0453</td> <td> 3.57e+05</td> <td> 7.58e-05</td> <td> 1.000</td> <td>-6.99e+05</td> <td> 6.99e+05</td>\n",
       "</tr>\n",
       "</table>"
      ],
      "text/plain": [
       "<class 'statsmodels.iolib.summary.Summary'>\n",
       "\"\"\"\n",
       "                 Generalized Linear Model Regression Results                  \n",
       "==============================================================================\n",
       "Dep. Variable:              Converted   No. Observations:                 6351\n",
       "Model:                            GLM   Df Residuals:                     6309\n",
       "Model Family:                Binomial   Df Model:                           41\n",
       "Link Function:                  logit   Scale:                          1.0000\n",
       "Method:                          IRLS   Log-Likelihood:                -2786.3\n",
       "Date:                Mon, 06 Jan 2020   Deviance:                       5572.5\n",
       "Time:                        18:34:03   Pearson chi2:                 6.57e+03\n",
       "No. Iterations:                    25   Covariance Type:             nonrobust\n",
       "===================================================================================================================\n",
       "                                                      coef    std err          z      P>|z|      [0.025      0.975]\n",
       "-------------------------------------------------------------------------------------------------------------------\n",
       "const                                              -8.3675   3.57e+05  -2.34e-05      1.000      -7e+05       7e+05\n",
       "TotalVisits                                         0.3542      0.054      6.579      0.000       0.249       0.460\n",
       "TimeOnWebsite                                       1.1501      0.040     28.884      0.000       1.072       1.228\n",
       "PVPV                                               -0.2441      0.060     -4.038      0.000      -0.363      -0.126\n",
       "Lead Origin_API                                     0.0989      0.103      0.961      0.337      -0.103       0.301\n",
       "Lead Origin_Lead Add Form                          -0.2379      1.730     -0.138      0.891      -3.629       3.153\n",
       "Lead Source_Click2call                            -17.1963    1.5e+04     -0.001      0.999   -2.95e+04    2.95e+04\n",
       "Lead Source_Direct Traffic                        -20.3728    1.5e+04     -0.001      0.999   -2.95e+04    2.95e+04\n",
       "Lead Source_Facebook                              -18.6223    1.5e+04     -0.001      0.999   -2.95e+04    2.95e+04\n",
       "Lead Source_Google                                -20.0547    1.5e+04     -0.001      0.999   -2.95e+04    2.95e+04\n",
       "Lead Source_Live Chat                               3.2277   3.25e+04   9.92e-05      1.000   -6.37e+04    6.37e+04\n",
       "Lead Source_Olark Chat                            -19.1159    1.5e+04     -0.001      0.999   -2.95e+04    2.95e+04\n",
       "Lead Source_Organic Search                        -20.3067    1.5e+04     -0.001      0.999   -2.95e+04    2.95e+04\n",
       "Lead Source_Pay per Click Ads                     -40.7343   4.78e+04     -0.001      0.999   -9.37e+04    9.36e+04\n",
       "Lead Source_Press_Release                         -41.6546   7.03e+04     -0.001      1.000   -1.38e+05    1.38e+05\n",
       "Lead Source_Reference                             -15.4715    1.5e+04     -0.001      0.999   -2.95e+04    2.95e+04\n",
       "Lead Source_Referral Sites                        -20.4726    1.5e+04     -0.001      0.999   -2.95e+04    2.95e+04\n",
       "Lead Source_Social Media                          -18.5168    1.5e+04     -0.001      0.999   -2.95e+04    2.95e+04\n",
       "Lead Source_WeLearn                              1.531e-09   2.68e-05   5.71e-05      1.000   -5.25e-05    5.25e-05\n",
       "Lead Source_Welingak Website                      -13.8238    1.5e+04     -0.001      0.999   -2.95e+04    2.95e+04\n",
       "Lead Source_bing                                  -19.7349    1.5e+04     -0.001      0.999   -2.95e+04    2.95e+04\n",
       "Lead Source_blog                                  -46.6092    4.8e+05  -9.71e-05      1.000   -9.41e+05    9.41e+05\n",
       "Lead Source_testone                               -46.7390   8.74e+05  -5.35e-05      1.000   -1.71e+06    1.71e+06\n",
       "Lead Source_welearnblog_Home                      -45.6974   4.18e+05     -0.000      1.000    -8.2e+05     8.2e+05\n",
       "Lead Source_youtubechannel                        -45.3727   2.82e+05     -0.000      1.000   -5.52e+05    5.52e+05\n",
       "Do Not Email_No                                     1.5975      0.200      7.983      0.000       1.205       1.990\n",
       "Asymmetrique Activity Index_Medium                  0.4309      0.112      3.831      0.000       0.210       0.651\n",
       "InterviewFreeCopy_No                                0.0256      0.104      0.247      0.805      -0.178       0.229\n",
       "Last Notable Activity_Approached upfront           51.1755   5.04e+05      0.000      1.000   -9.87e+05    9.87e+05\n",
       "Last Notable Activity_Email Bounced                25.7580   3.57e+05   7.22e-05      1.000   -6.99e+05    6.99e+05\n",
       "Last Notable Activity_Email Link Clicked           25.0511   3.57e+05   7.02e-05      1.000   -6.99e+05    6.99e+05\n",
       "Last Notable Activity_Email Marked Spam            51.3488   4.35e+05      0.000      1.000   -8.53e+05    8.54e+05\n",
       "Last Notable Activity_Email Opened                 25.4860   3.57e+05   7.14e-05      1.000   -6.99e+05    6.99e+05\n",
       "Last Notable Activity_Email Received               52.0914   5.04e+05      0.000      1.000   -9.88e+05    9.88e+05\n",
       "Last Notable Activity_Form Submitted on Website     0.6730   5.05e+05   1.33e-06      1.000   -9.89e+05    9.89e+05\n",
       "Last Notable Activity_Had a Phone Conversation     28.7848   3.57e+05   8.07e-05      1.000   -6.99e+05    6.99e+05\n",
       "Last Notable Activity_Modified                     24.7685   3.57e+05   6.94e-05      1.000   -6.99e+05    6.99e+05\n",
       "Last Notable Activity_Olark Chat Conversation      23.9924   3.57e+05   6.72e-05      1.000   -6.99e+05    6.99e+05\n",
       "Last Notable Activity_Page Visited on Website      24.8749   3.57e+05   6.97e-05      1.000   -6.99e+05    6.99e+05\n",
       "Last Notable Activity_Resubscribed to emails       53.0173   5.04e+05      0.000      1.000   -9.88e+05    9.88e+05\n",
       "Last Notable Activity_SMS Sent                     26.9145   3.57e+05   7.54e-05      1.000   -6.99e+05    6.99e+05\n",
       "Last Notable Activity_Unreachable                  27.1642   3.57e+05   7.61e-05      1.000   -6.99e+05    6.99e+05\n",
       "Last Notable Activity_Unsubscribed                 27.0453   3.57e+05   7.58e-05      1.000   -6.99e+05    6.99e+05\n",
       "===================================================================================================================\n",
       "\"\"\""
      ]
     },
     "execution_count": 312,
     "metadata": {},
     "output_type": "execute_result"
    }
   ],
   "source": [
    "logm1=sm.GLM(y_train,sm.add_constant(X_train),family=sm.families.Binomial())\n",
    "logm1.fit().summary()"
   ]
  },
  {
   "cell_type": "markdown",
   "metadata": {},
   "source": [
    "### Lets use RFE to reduce the columns to 15 from 42"
   ]
  },
  {
   "cell_type": "code",
   "execution_count": 313,
   "metadata": {},
   "outputs": [
    {
     "data": {
      "text/plain": [
       "RFE(estimator=LogisticRegression(C=1.0, class_weight=None, dual=False, fit_intercept=True,\n",
       "          intercept_scaling=1, max_iter=100, multi_class='warn',\n",
       "          n_jobs=None, penalty='l2', random_state=None, solver='warn',\n",
       "          tol=0.0001, verbose=0, warm_start=False),\n",
       "  n_features_to_select=15, step=1, verbose=0)"
      ]
     },
     "execution_count": 313,
     "metadata": {},
     "output_type": "execute_result"
    }
   ],
   "source": [
    "#Selecting features from RFE\n",
    "logreg=LogisticRegression()  # LogisticRegression instance\n",
    "rfe=RFE(logreg,15)           # Select 15 columns using RFE\n",
    "rfe.fit(X_train,y_train)"
   ]
  },
  {
   "cell_type": "code",
   "execution_count": 314,
   "metadata": {},
   "outputs": [
    {
     "data": {
      "text/plain": [
       "Index(['TimeOnWebsite', 'Lead Origin_Lead Add Form',\n",
       "       'Lead Source_Direct Traffic', 'Lead Source_Google',\n",
       "       'Lead Source_Organic Search', 'Lead Source_Reference',\n",
       "       'Lead Source_Referral Sites', 'Lead Source_Welingak Website',\n",
       "       'Do Not Email_No', 'Last Notable Activity_Had a Phone Conversation',\n",
       "       'Last Notable Activity_Modified',\n",
       "       'Last Notable Activity_Olark Chat Conversation',\n",
       "       'Last Notable Activity_SMS Sent', 'Last Notable Activity_Unreachable',\n",
       "       'Last Notable Activity_Unsubscribed'],\n",
       "      dtype='object')"
      ]
     },
     "execution_count": 314,
     "metadata": {},
     "output_type": "execute_result"
    }
   ],
   "source": [
    "# Columns selected by RFE\n",
    "col = X_train.columns[rfe.support_]\n",
    "col"
   ]
  },
  {
   "cell_type": "code",
   "execution_count": 315,
   "metadata": {},
   "outputs": [
    {
     "data": {
      "text/plain": [
       "Index(['TotalVisits', 'PVPV', 'Lead Origin_API', 'Lead Source_Click2call',\n",
       "       'Lead Source_Facebook', 'Lead Source_Live Chat',\n",
       "       'Lead Source_Olark Chat', 'Lead Source_Pay per Click Ads',\n",
       "       'Lead Source_Press_Release', 'Lead Source_Social Media',\n",
       "       'Lead Source_WeLearn', 'Lead Source_bing', 'Lead Source_blog',\n",
       "       'Lead Source_testone', 'Lead Source_welearnblog_Home',\n",
       "       'Lead Source_youtubechannel', 'Asymmetrique Activity Index_Medium',\n",
       "       'InterviewFreeCopy_No', 'Last Notable Activity_Approached upfront',\n",
       "       'Last Notable Activity_Email Bounced',\n",
       "       'Last Notable Activity_Email Link Clicked',\n",
       "       'Last Notable Activity_Email Marked Spam',\n",
       "       'Last Notable Activity_Email Opened',\n",
       "       'Last Notable Activity_Email Received',\n",
       "       'Last Notable Activity_Form Submitted on Website',\n",
       "       'Last Notable Activity_Page Visited on Website',\n",
       "       'Last Notable Activity_Resubscribed to emails'],\n",
       "      dtype='object')"
      ]
     },
     "execution_count": 315,
     "metadata": {},
     "output_type": "execute_result"
    }
   ],
   "source": [
    "# Columns NOT selected by RFE\n",
    "X_train.columns[~rfe.support_]"
   ]
  },
  {
   "cell_type": "markdown",
   "metadata": {},
   "source": [
    "### Start building , evaluating , iterating till get optimal solution"
   ]
  },
  {
   "cell_type": "code",
   "execution_count": 316,
   "metadata": {},
   "outputs": [
    {
     "data": {
      "text/html": [
       "<table class=\"simpletable\">\n",
       "<caption>Generalized Linear Model Regression Results</caption>\n",
       "<tr>\n",
       "  <th>Dep. Variable:</th>      <td>Converted</td>    <th>  No. Observations:  </th>  <td>  6351</td>  \n",
       "</tr>\n",
       "<tr>\n",
       "  <th>Model:</th>                 <td>GLM</td>       <th>  Df Residuals:      </th>  <td>  6335</td>  \n",
       "</tr>\n",
       "<tr>\n",
       "  <th>Model Family:</th>       <td>Binomial</td>     <th>  Df Model:          </th>  <td>    15</td>  \n",
       "</tr>\n",
       "<tr>\n",
       "  <th>Link Function:</th>        <td>logit</td>      <th>  Scale:             </th> <td>  1.0000</td> \n",
       "</tr>\n",
       "<tr>\n",
       "  <th>Method:</th>               <td>IRLS</td>       <th>  Log-Likelihood:    </th> <td> -2826.4</td> \n",
       "</tr>\n",
       "<tr>\n",
       "  <th>Date:</th>           <td>Mon, 06 Jan 2020</td> <th>  Deviance:          </th> <td>  5652.8</td> \n",
       "</tr>\n",
       "<tr>\n",
       "  <th>Time:</th>               <td>18:34:10</td>     <th>  Pearson chi2:      </th> <td>6.61e+03</td> \n",
       "</tr>\n",
       "<tr>\n",
       "  <th>No. Iterations:</th>         <td>7</td>        <th>  Covariance Type:   </th> <td>nonrobust</td>\n",
       "</tr>\n",
       "</table>\n",
       "<table class=\"simpletable\">\n",
       "<tr>\n",
       "                         <td></td>                           <th>coef</th>     <th>std err</th>      <th>z</th>      <th>P>|z|</th>  <th>[0.025</th>    <th>0.975]</th>  \n",
       "</tr>\n",
       "<tr>\n",
       "  <th>const</th>                                          <td>   -1.6252</td> <td>    0.202</td> <td>   -8.032</td> <td> 0.000</td> <td>   -2.022</td> <td>   -1.229</td>\n",
       "</tr>\n",
       "<tr>\n",
       "  <th>TimeOnWebsite</th>                                  <td>    1.1542</td> <td>    0.039</td> <td>   29.284</td> <td> 0.000</td> <td>    1.077</td> <td>    1.231</td>\n",
       "</tr>\n",
       "<tr>\n",
       "  <th>Lead Origin_Lead Add Form</th>                      <td>    1.2683</td> <td>    0.939</td> <td>    1.351</td> <td> 0.177</td> <td>   -0.571</td> <td>    3.108</td>\n",
       "</tr>\n",
       "<tr>\n",
       "  <th>Lead Source_Direct Traffic</th>                     <td>   -1.2255</td> <td>    0.110</td> <td>  -11.178</td> <td> 0.000</td> <td>   -1.440</td> <td>   -1.011</td>\n",
       "</tr>\n",
       "<tr>\n",
       "  <th>Lead Source_Google</th>                             <td>   -0.8544</td> <td>    0.104</td> <td>   -8.250</td> <td> 0.000</td> <td>   -1.057</td> <td>   -0.651</td>\n",
       "</tr>\n",
       "<tr>\n",
       "  <th>Lead Source_Organic Search</th>                     <td>   -1.0500</td> <td>    0.128</td> <td>   -8.219</td> <td> 0.000</td> <td>   -1.300</td> <td>   -0.800</td>\n",
       "</tr>\n",
       "<tr>\n",
       "  <th>Lead Source_Reference</th>                          <td>    2.1225</td> <td>    0.960</td> <td>    2.210</td> <td> 0.027</td> <td>    0.240</td> <td>    4.005</td>\n",
       "</tr>\n",
       "<tr>\n",
       "  <th>Lead Source_Referral Sites</th>                     <td>   -1.2212</td> <td>    0.316</td> <td>   -3.866</td> <td> 0.000</td> <td>   -1.840</td> <td>   -0.602</td>\n",
       "</tr>\n",
       "<tr>\n",
       "  <th>Lead Source_Welingak Website</th>                   <td>    3.7091</td> <td>    1.186</td> <td>    3.127</td> <td> 0.002</td> <td>    1.384</td> <td>    6.034</td>\n",
       "</tr>\n",
       "<tr>\n",
       "  <th>Do Not Email_No</th>                                <td>    1.5963</td> <td>    0.182</td> <td>    8.750</td> <td> 0.000</td> <td>    1.239</td> <td>    1.954</td>\n",
       "</tr>\n",
       "<tr>\n",
       "  <th>Last Notable Activity_Had a Phone Conversation</th> <td>    3.2830</td> <td>    1.092</td> <td>    3.006</td> <td> 0.003</td> <td>    1.142</td> <td>    5.424</td>\n",
       "</tr>\n",
       "<tr>\n",
       "  <th>Last Notable Activity_Modified</th>                 <td>   -0.7337</td> <td>    0.080</td> <td>   -9.119</td> <td> 0.000</td> <td>   -0.891</td> <td>   -0.576</td>\n",
       "</tr>\n",
       "<tr>\n",
       "  <th>Last Notable Activity_Olark Chat Conversation</th>  <td>   -1.4590</td> <td>    0.313</td> <td>   -4.654</td> <td> 0.000</td> <td>   -2.073</td> <td>   -0.845</td>\n",
       "</tr>\n",
       "<tr>\n",
       "  <th>Last Notable Activity_SMS Sent</th>                 <td>    1.4374</td> <td>    0.083</td> <td>   17.227</td> <td> 0.000</td> <td>    1.274</td> <td>    1.601</td>\n",
       "</tr>\n",
       "<tr>\n",
       "  <th>Last Notable Activity_Unreachable</th>              <td>    1.6822</td> <td>    0.465</td> <td>    3.618</td> <td> 0.000</td> <td>    0.771</td> <td>    2.594</td>\n",
       "</tr>\n",
       "<tr>\n",
       "  <th>Last Notable Activity_Unsubscribed</th>             <td>    1.4452</td> <td>    0.491</td> <td>    2.941</td> <td> 0.003</td> <td>    0.482</td> <td>    2.408</td>\n",
       "</tr>\n",
       "</table>"
      ],
      "text/plain": [
       "<class 'statsmodels.iolib.summary.Summary'>\n",
       "\"\"\"\n",
       "                 Generalized Linear Model Regression Results                  \n",
       "==============================================================================\n",
       "Dep. Variable:              Converted   No. Observations:                 6351\n",
       "Model:                            GLM   Df Residuals:                     6335\n",
       "Model Family:                Binomial   Df Model:                           15\n",
       "Link Function:                  logit   Scale:                          1.0000\n",
       "Method:                          IRLS   Log-Likelihood:                -2826.4\n",
       "Date:                Mon, 06 Jan 2020   Deviance:                       5652.8\n",
       "Time:                        18:34:10   Pearson chi2:                 6.61e+03\n",
       "No. Iterations:                     7   Covariance Type:             nonrobust\n",
       "==================================================================================================================\n",
       "                                                     coef    std err          z      P>|z|      [0.025      0.975]\n",
       "------------------------------------------------------------------------------------------------------------------\n",
       "const                                             -1.6252      0.202     -8.032      0.000      -2.022      -1.229\n",
       "TimeOnWebsite                                      1.1542      0.039     29.284      0.000       1.077       1.231\n",
       "Lead Origin_Lead Add Form                          1.2683      0.939      1.351      0.177      -0.571       3.108\n",
       "Lead Source_Direct Traffic                        -1.2255      0.110    -11.178      0.000      -1.440      -1.011\n",
       "Lead Source_Google                                -0.8544      0.104     -8.250      0.000      -1.057      -0.651\n",
       "Lead Source_Organic Search                        -1.0500      0.128     -8.219      0.000      -1.300      -0.800\n",
       "Lead Source_Reference                              2.1225      0.960      2.210      0.027       0.240       4.005\n",
       "Lead Source_Referral Sites                        -1.2212      0.316     -3.866      0.000      -1.840      -0.602\n",
       "Lead Source_Welingak Website                       3.7091      1.186      3.127      0.002       1.384       6.034\n",
       "Do Not Email_No                                    1.5963      0.182      8.750      0.000       1.239       1.954\n",
       "Last Notable Activity_Had a Phone Conversation     3.2830      1.092      3.006      0.003       1.142       5.424\n",
       "Last Notable Activity_Modified                    -0.7337      0.080     -9.119      0.000      -0.891      -0.576\n",
       "Last Notable Activity_Olark Chat Conversation     -1.4590      0.313     -4.654      0.000      -2.073      -0.845\n",
       "Last Notable Activity_SMS Sent                     1.4374      0.083     17.227      0.000       1.274       1.601\n",
       "Last Notable Activity_Unreachable                  1.6822      0.465      3.618      0.000       0.771       2.594\n",
       "Last Notable Activity_Unsubscribed                 1.4452      0.491      2.941      0.003       0.482       2.408\n",
       "==================================================================================================================\n",
       "\"\"\""
      ]
     },
     "execution_count": 316,
     "metadata": {},
     "output_type": "execute_result"
    }
   ],
   "source": [
    "# Build model using RFE selected columns\n",
    "X_train_sm = sm.add_constant(X_train[col])\n",
    "logm2 = sm.GLM(y_train,X_train_sm, family = sm.families.Binomial())\n",
    "res = logm2.fit()\n",
    "res.summary()"
   ]
  },
  {
   "cell_type": "markdown",
   "metadata": {},
   "source": [
    "#### The p-value of column 'Lead Origin_Lead Add Form' is  large(>0.05)  and need to be dropped."
   ]
  },
  {
   "cell_type": "code",
   "execution_count": 317,
   "metadata": {},
   "outputs": [
    {
     "data": {
      "text/plain": [
       "Index(['TimeOnWebsite', 'Lead Source_Direct Traffic', 'Lead Source_Google',\n",
       "       'Lead Source_Organic Search', 'Lead Source_Reference',\n",
       "       'Lead Source_Referral Sites', 'Lead Source_Welingak Website',\n",
       "       'Do Not Email_No', 'Last Notable Activity_Had a Phone Conversation',\n",
       "       'Last Notable Activity_Modified',\n",
       "       'Last Notable Activity_Olark Chat Conversation',\n",
       "       'Last Notable Activity_SMS Sent', 'Last Notable Activity_Unreachable',\n",
       "       'Last Notable Activity_Unsubscribed'],\n",
       "      dtype='object')"
      ]
     },
     "execution_count": 317,
     "metadata": {},
     "output_type": "execute_result"
    }
   ],
   "source": [
    "# Drop the column 'Lead Origin_Lead Add Form'\n",
    "col=col.drop('Lead Origin_Lead Add Form',1)\n",
    "col"
   ]
  },
  {
   "cell_type": "markdown",
   "metadata": {},
   "source": [
    "#### Next Iteration"
   ]
  },
  {
   "cell_type": "code",
   "execution_count": 318,
   "metadata": {},
   "outputs": [
    {
     "data": {
      "text/html": [
       "<table class=\"simpletable\">\n",
       "<caption>Generalized Linear Model Regression Results</caption>\n",
       "<tr>\n",
       "  <th>Dep. Variable:</th>      <td>Converted</td>    <th>  No. Observations:  </th>  <td>  6351</td>  \n",
       "</tr>\n",
       "<tr>\n",
       "  <th>Model:</th>                 <td>GLM</td>       <th>  Df Residuals:      </th>  <td>  6336</td>  \n",
       "</tr>\n",
       "<tr>\n",
       "  <th>Model Family:</th>       <td>Binomial</td>     <th>  Df Model:          </th>  <td>    14</td>  \n",
       "</tr>\n",
       "<tr>\n",
       "  <th>Link Function:</th>        <td>logit</td>      <th>  Scale:             </th> <td>  1.0000</td> \n",
       "</tr>\n",
       "<tr>\n",
       "  <th>Method:</th>               <td>IRLS</td>       <th>  Log-Likelihood:    </th> <td> -2827.4</td> \n",
       "</tr>\n",
       "<tr>\n",
       "  <th>Date:</th>           <td>Mon, 06 Jan 2020</td> <th>  Deviance:          </th> <td>  5654.8</td> \n",
       "</tr>\n",
       "<tr>\n",
       "  <th>Time:</th>               <td>18:34:10</td>     <th>  Pearson chi2:      </th> <td>6.61e+03</td> \n",
       "</tr>\n",
       "<tr>\n",
       "  <th>No. Iterations:</th>         <td>7</td>        <th>  Covariance Type:   </th> <td>nonrobust</td>\n",
       "</tr>\n",
       "</table>\n",
       "<table class=\"simpletable\">\n",
       "<tr>\n",
       "                         <td></td>                           <th>coef</th>     <th>std err</th>      <th>z</th>      <th>P>|z|</th>  <th>[0.025</th>    <th>0.975]</th>  \n",
       "</tr>\n",
       "<tr>\n",
       "  <th>const</th>                                          <td>   -1.6166</td> <td>    0.202</td> <td>   -7.995</td> <td> 0.000</td> <td>   -2.013</td> <td>   -1.220</td>\n",
       "</tr>\n",
       "<tr>\n",
       "  <th>TimeOnWebsite</th>                                  <td>    1.1551</td> <td>    0.039</td> <td>   29.315</td> <td> 0.000</td> <td>    1.078</td> <td>    1.232</td>\n",
       "</tr>\n",
       "<tr>\n",
       "  <th>Lead Source_Direct Traffic</th>                     <td>   -1.2353</td> <td>    0.109</td> <td>  -11.298</td> <td> 0.000</td> <td>   -1.450</td> <td>   -1.021</td>\n",
       "</tr>\n",
       "<tr>\n",
       "  <th>Lead Source_Google</th>                             <td>   -0.8640</td> <td>    0.103</td> <td>   -8.368</td> <td> 0.000</td> <td>   -1.066</td> <td>   -0.662</td>\n",
       "</tr>\n",
       "<tr>\n",
       "  <th>Lead Source_Organic Search</th>                     <td>   -1.0598</td> <td>    0.128</td> <td>   -8.310</td> <td> 0.000</td> <td>   -1.310</td> <td>   -0.810</td>\n",
       "</tr>\n",
       "<tr>\n",
       "  <th>Lead Source_Reference</th>                          <td>    3.3825</td> <td>    0.227</td> <td>   14.875</td> <td> 0.000</td> <td>    2.937</td> <td>    3.828</td>\n",
       "</tr>\n",
       "<tr>\n",
       "  <th>Lead Source_Referral Sites</th>                     <td>   -1.2307</td> <td>    0.316</td> <td>   -3.897</td> <td> 0.000</td> <td>   -1.850</td> <td>   -0.612</td>\n",
       "</tr>\n",
       "<tr>\n",
       "  <th>Lead Source_Welingak Website</th>                   <td>    4.9695</td> <td>    0.732</td> <td>    6.786</td> <td> 0.000</td> <td>    3.534</td> <td>    6.405</td>\n",
       "</tr>\n",
       "<tr>\n",
       "  <th>Do Not Email_No</th>                                <td>    1.5974</td> <td>    0.182</td> <td>    8.756</td> <td> 0.000</td> <td>    1.240</td> <td>    1.955</td>\n",
       "</tr>\n",
       "<tr>\n",
       "  <th>Last Notable Activity_Had a Phone Conversation</th> <td>    3.2832</td> <td>    1.092</td> <td>    3.006</td> <td> 0.003</td> <td>    1.143</td> <td>    5.424</td>\n",
       "</tr>\n",
       "<tr>\n",
       "  <th>Last Notable Activity_Modified</th>                 <td>   -0.7350</td> <td>    0.080</td> <td>   -9.138</td> <td> 0.000</td> <td>   -0.893</td> <td>   -0.577</td>\n",
       "</tr>\n",
       "<tr>\n",
       "  <th>Last Notable Activity_Olark Chat Conversation</th>  <td>   -1.4650</td> <td>    0.313</td> <td>   -4.674</td> <td> 0.000</td> <td>   -2.079</td> <td>   -0.851</td>\n",
       "</tr>\n",
       "<tr>\n",
       "  <th>Last Notable Activity_SMS Sent</th>                 <td>    1.4378</td> <td>    0.083</td> <td>   17.234</td> <td> 0.000</td> <td>    1.274</td> <td>    1.601</td>\n",
       "</tr>\n",
       "<tr>\n",
       "  <th>Last Notable Activity_Unreachable</th>              <td>    1.6814</td> <td>    0.465</td> <td>    3.616</td> <td> 0.000</td> <td>    0.770</td> <td>    2.593</td>\n",
       "</tr>\n",
       "<tr>\n",
       "  <th>Last Notable Activity_Unsubscribed</th>             <td>    1.4436</td> <td>    0.491</td> <td>    2.938</td> <td> 0.003</td> <td>    0.481</td> <td>    2.407</td>\n",
       "</tr>\n",
       "</table>"
      ],
      "text/plain": [
       "<class 'statsmodels.iolib.summary.Summary'>\n",
       "\"\"\"\n",
       "                 Generalized Linear Model Regression Results                  \n",
       "==============================================================================\n",
       "Dep. Variable:              Converted   No. Observations:                 6351\n",
       "Model:                            GLM   Df Residuals:                     6336\n",
       "Model Family:                Binomial   Df Model:                           14\n",
       "Link Function:                  logit   Scale:                          1.0000\n",
       "Method:                          IRLS   Log-Likelihood:                -2827.4\n",
       "Date:                Mon, 06 Jan 2020   Deviance:                       5654.8\n",
       "Time:                        18:34:10   Pearson chi2:                 6.61e+03\n",
       "No. Iterations:                     7   Covariance Type:             nonrobust\n",
       "==================================================================================================================\n",
       "                                                     coef    std err          z      P>|z|      [0.025      0.975]\n",
       "------------------------------------------------------------------------------------------------------------------\n",
       "const                                             -1.6166      0.202     -7.995      0.000      -2.013      -1.220\n",
       "TimeOnWebsite                                      1.1551      0.039     29.315      0.000       1.078       1.232\n",
       "Lead Source_Direct Traffic                        -1.2353      0.109    -11.298      0.000      -1.450      -1.021\n",
       "Lead Source_Google                                -0.8640      0.103     -8.368      0.000      -1.066      -0.662\n",
       "Lead Source_Organic Search                        -1.0598      0.128     -8.310      0.000      -1.310      -0.810\n",
       "Lead Source_Reference                              3.3825      0.227     14.875      0.000       2.937       3.828\n",
       "Lead Source_Referral Sites                        -1.2307      0.316     -3.897      0.000      -1.850      -0.612\n",
       "Lead Source_Welingak Website                       4.9695      0.732      6.786      0.000       3.534       6.405\n",
       "Do Not Email_No                                    1.5974      0.182      8.756      0.000       1.240       1.955\n",
       "Last Notable Activity_Had a Phone Conversation     3.2832      1.092      3.006      0.003       1.143       5.424\n",
       "Last Notable Activity_Modified                    -0.7350      0.080     -9.138      0.000      -0.893      -0.577\n",
       "Last Notable Activity_Olark Chat Conversation     -1.4650      0.313     -4.674      0.000      -2.079      -0.851\n",
       "Last Notable Activity_SMS Sent                     1.4378      0.083     17.234      0.000       1.274       1.601\n",
       "Last Notable Activity_Unreachable                  1.6814      0.465      3.616      0.000       0.770       2.593\n",
       "Last Notable Activity_Unsubscribed                 1.4436      0.491      2.938      0.003       0.481       2.407\n",
       "==================================================================================================================\n",
       "\"\"\""
      ]
     },
     "execution_count": 318,
     "metadata": {},
     "output_type": "execute_result"
    }
   ],
   "source": [
    "# Make the model again with 14 columns/features\n",
    "X_train_sm = sm.add_constant(X_train[col])\n",
    "logm3 = sm.GLM(y_train,X_train_sm, family = sm.families.Binomial())\n",
    "res = logm3.fit()\n",
    "res.summary()"
   ]
  },
  {
   "cell_type": "code",
   "execution_count": 319,
   "metadata": {},
   "outputs": [
    {
     "name": "stdout",
     "output_type": "stream",
     "text": [
      "3009    0.191597\n",
      "1012    0.030010\n",
      "9226    0.144216\n",
      "4750    0.889074\n",
      "7987    0.584392\n",
      "dtype: float64\n",
      "[0.19159684 0.03001039 0.14421618 0.88907407 0.58439192]\n"
     ]
    }
   ],
   "source": [
    "# Get the predicted values for train set\n",
    "y_train_pred = res.predict(X_train_sm)\n",
    "print(y_train_pred[:5])\n",
    "print(y_train_pred.values[:5])"
   ]
  },
  {
   "cell_type": "markdown",
   "metadata": {},
   "source": [
    "#### Create Data Frame with predicted and actual conversions"
   ]
  },
  {
   "cell_type": "code",
   "execution_count": 320,
   "metadata": {},
   "outputs": [
    {
     "data": {
      "text/html": [
       "<div>\n",
       "<style scoped>\n",
       "    .dataframe tbody tr th:only-of-type {\n",
       "        vertical-align: middle;\n",
       "    }\n",
       "\n",
       "    .dataframe tbody tr th {\n",
       "        vertical-align: top;\n",
       "    }\n",
       "\n",
       "    .dataframe thead th {\n",
       "        text-align: right;\n",
       "    }\n",
       "</style>\n",
       "<table border=\"1\" class=\"dataframe\">\n",
       "  <thead>\n",
       "    <tr style=\"text-align: right;\">\n",
       "      <th></th>\n",
       "      <th>Converted</th>\n",
       "      <th>ConversionProb</th>\n",
       "      <th>LeadID</th>\n",
       "    </tr>\n",
       "  </thead>\n",
       "  <tbody>\n",
       "    <tr>\n",
       "      <th>0</th>\n",
       "      <td>0</td>\n",
       "      <td>0.191597</td>\n",
       "      <td>3009</td>\n",
       "    </tr>\n",
       "    <tr>\n",
       "      <th>1</th>\n",
       "      <td>0</td>\n",
       "      <td>0.030010</td>\n",
       "      <td>1012</td>\n",
       "    </tr>\n",
       "    <tr>\n",
       "      <th>2</th>\n",
       "      <td>0</td>\n",
       "      <td>0.144216</td>\n",
       "      <td>9226</td>\n",
       "    </tr>\n",
       "    <tr>\n",
       "      <th>3</th>\n",
       "      <td>1</td>\n",
       "      <td>0.889074</td>\n",
       "      <td>4750</td>\n",
       "    </tr>\n",
       "    <tr>\n",
       "      <th>4</th>\n",
       "      <td>1</td>\n",
       "      <td>0.584392</td>\n",
       "      <td>7987</td>\n",
       "    </tr>\n",
       "  </tbody>\n",
       "</table>\n",
       "</div>"
      ],
      "text/plain": [
       "   Converted  ConversionProb  LeadID\n",
       "0          0        0.191597    3009\n",
       "1          0        0.030010    1012\n",
       "2          0        0.144216    9226\n",
       "3          1        0.889074    4750\n",
       "4          1        0.584392    7987"
      ]
     },
     "execution_count": 320,
     "metadata": {},
     "output_type": "execute_result"
    }
   ],
   "source": [
    "# Create initial Data Frame\n",
    "y_train_pred_final = pd.DataFrame({'Converted':y_train.values, 'ConversionProb':y_train_pred.values})\n",
    "y_train_pred_final['LeadID'] = y_train_pred.index\n",
    "y_train_pred_final.head()"
   ]
  },
  {
   "cell_type": "code",
   "execution_count": 321,
   "metadata": {},
   "outputs": [
    {
     "data": {
      "text/html": [
       "<div>\n",
       "<style scoped>\n",
       "    .dataframe tbody tr th:only-of-type {\n",
       "        vertical-align: middle;\n",
       "    }\n",
       "\n",
       "    .dataframe tbody tr th {\n",
       "        vertical-align: top;\n",
       "    }\n",
       "\n",
       "    .dataframe thead th {\n",
       "        text-align: right;\n",
       "    }\n",
       "</style>\n",
       "<table border=\"1\" class=\"dataframe\">\n",
       "  <thead>\n",
       "    <tr style=\"text-align: right;\">\n",
       "      <th></th>\n",
       "      <th>Converted</th>\n",
       "      <th>ConversionProb</th>\n",
       "      <th>LeadID</th>\n",
       "      <th>Predicted</th>\n",
       "    </tr>\n",
       "  </thead>\n",
       "  <tbody>\n",
       "    <tr>\n",
       "      <th>0</th>\n",
       "      <td>0</td>\n",
       "      <td>0.191597</td>\n",
       "      <td>3009</td>\n",
       "      <td>0</td>\n",
       "    </tr>\n",
       "    <tr>\n",
       "      <th>1</th>\n",
       "      <td>0</td>\n",
       "      <td>0.030010</td>\n",
       "      <td>1012</td>\n",
       "      <td>0</td>\n",
       "    </tr>\n",
       "    <tr>\n",
       "      <th>2</th>\n",
       "      <td>0</td>\n",
       "      <td>0.144216</td>\n",
       "      <td>9226</td>\n",
       "      <td>0</td>\n",
       "    </tr>\n",
       "    <tr>\n",
       "      <th>3</th>\n",
       "      <td>1</td>\n",
       "      <td>0.889074</td>\n",
       "      <td>4750</td>\n",
       "      <td>1</td>\n",
       "    </tr>\n",
       "    <tr>\n",
       "      <th>4</th>\n",
       "      <td>1</td>\n",
       "      <td>0.584392</td>\n",
       "      <td>7987</td>\n",
       "      <td>1</td>\n",
       "    </tr>\n",
       "  </tbody>\n",
       "</table>\n",
       "</div>"
      ],
      "text/plain": [
       "   Converted  ConversionProb  LeadID  Predicted\n",
       "0          0        0.191597    3009          0\n",
       "1          0        0.030010    1012          0\n",
       "2          0        0.144216    9226          0\n",
       "3          1        0.889074    4750          1\n",
       "4          1        0.584392    7987          1"
      ]
     },
     "execution_count": 321,
     "metadata": {},
     "output_type": "execute_result"
    }
   ],
   "source": [
    "# For start lets choose the threshold ConversionProb for conversion =0.4 . Create predicted column using this treshold\n",
    "y_train_pred_final['Predicted'] = y_train_pred_final.ConversionProb.map(lambda x: 1 if x > 0.4 else 0)\n",
    "y_train_pred_final.head()"
   ]
  },
  {
   "cell_type": "code",
   "execution_count": 322,
   "metadata": {},
   "outputs": [
    {
     "name": "stdout",
     "output_type": "stream",
     "text": [
      "[[3216  689]\n",
      " [ 572 1874]]\n"
     ]
    }
   ],
   "source": [
    "# Get the confusion matrix and metrics like Accuracy and Sensitivity\n",
    "confusion_matrix=metrics.confusion_matrix(y_train_pred_final.Converted,y_train_pred_final.Predicted)\n",
    "print(confusion_matrix)"
   ]
  },
  {
   "cell_type": "code",
   "execution_count": 323,
   "metadata": {},
   "outputs": [],
   "source": [
    "# Assign confursion matrix values as TP,TN,FN,FP\n",
    "TP = confusion_matrix[1,1] # true positive \n",
    "TN = confusion_matrix[0,0] # true negatives\n",
    "FP = confusion_matrix[0,1] # false positives\n",
    "FN = confusion_matrix[1,0] # false negatives"
   ]
  },
  {
   "cell_type": "code",
   "execution_count": 324,
   "metadata": {},
   "outputs": [
    {
     "name": "stdout",
     "output_type": "stream",
     "text": [
      "Sensitivity: 0.7661488143908421\n",
      "Accuracy: 0.8014485907731066\n"
     ]
    }
   ],
   "source": [
    "#print Accuracy and Sensitivity\n",
    "print('Sensitivity:',TP / float(TP+FN))\n",
    "print('Accuracy:',(TP+TN)/(TP+TN+FN+FP))"
   ]
  },
  {
   "cell_type": "code",
   "execution_count": 325,
   "metadata": {},
   "outputs": [
    {
     "data": {
      "text/html": [
       "<div>\n",
       "<style scoped>\n",
       "    .dataframe tbody tr th:only-of-type {\n",
       "        vertical-align: middle;\n",
       "    }\n",
       "\n",
       "    .dataframe tbody tr th {\n",
       "        vertical-align: top;\n",
       "    }\n",
       "\n",
       "    .dataframe thead th {\n",
       "        text-align: right;\n",
       "    }\n",
       "</style>\n",
       "<table border=\"1\" class=\"dataframe\">\n",
       "  <thead>\n",
       "    <tr style=\"text-align: right;\">\n",
       "      <th></th>\n",
       "      <th>Features</th>\n",
       "      <th>VIF</th>\n",
       "    </tr>\n",
       "  </thead>\n",
       "  <tbody>\n",
       "    <tr>\n",
       "      <th>7</th>\n",
       "      <td>Do Not Email_No</td>\n",
       "      <td>4.76</td>\n",
       "    </tr>\n",
       "    <tr>\n",
       "      <th>2</th>\n",
       "      <td>Lead Source_Google</td>\n",
       "      <td>2.54</td>\n",
       "    </tr>\n",
       "    <tr>\n",
       "      <th>1</th>\n",
       "      <td>Lead Source_Direct Traffic</td>\n",
       "      <td>2.11</td>\n",
       "    </tr>\n",
       "    <tr>\n",
       "      <th>9</th>\n",
       "      <td>Last Notable Activity_Modified</td>\n",
       "      <td>1.76</td>\n",
       "    </tr>\n",
       "    <tr>\n",
       "      <th>11</th>\n",
       "      <td>Last Notable Activity_SMS Sent</td>\n",
       "      <td>1.61</td>\n",
       "    </tr>\n",
       "    <tr>\n",
       "      <th>3</th>\n",
       "      <td>Lead Source_Organic Search</td>\n",
       "      <td>1.55</td>\n",
       "    </tr>\n",
       "    <tr>\n",
       "      <th>4</th>\n",
       "      <td>Lead Source_Reference</td>\n",
       "      <td>1.24</td>\n",
       "    </tr>\n",
       "    <tr>\n",
       "      <th>0</th>\n",
       "      <td>TimeOnWebsite</td>\n",
       "      <td>1.23</td>\n",
       "    </tr>\n",
       "    <tr>\n",
       "      <th>6</th>\n",
       "      <td>Lead Source_Welingak Website</td>\n",
       "      <td>1.07</td>\n",
       "    </tr>\n",
       "    <tr>\n",
       "      <th>5</th>\n",
       "      <td>Lead Source_Referral Sites</td>\n",
       "      <td>1.06</td>\n",
       "    </tr>\n",
       "    <tr>\n",
       "      <th>10</th>\n",
       "      <td>Last Notable Activity_Olark Chat Conversation</td>\n",
       "      <td>1.05</td>\n",
       "    </tr>\n",
       "    <tr>\n",
       "      <th>13</th>\n",
       "      <td>Last Notable Activity_Unsubscribed</td>\n",
       "      <td>1.02</td>\n",
       "    </tr>\n",
       "    <tr>\n",
       "      <th>8</th>\n",
       "      <td>Last Notable Activity_Had a Phone Conversation</td>\n",
       "      <td>1.01</td>\n",
       "    </tr>\n",
       "    <tr>\n",
       "      <th>12</th>\n",
       "      <td>Last Notable Activity_Unreachable</td>\n",
       "      <td>1.01</td>\n",
       "    </tr>\n",
       "  </tbody>\n",
       "</table>\n",
       "</div>"
      ],
      "text/plain": [
       "                                          Features   VIF\n",
       "7                                  Do Not Email_No  4.76\n",
       "2                               Lead Source_Google  2.54\n",
       "1                       Lead Source_Direct Traffic  2.11\n",
       "9                   Last Notable Activity_Modified  1.76\n",
       "11                  Last Notable Activity_SMS Sent  1.61\n",
       "3                       Lead Source_Organic Search  1.55\n",
       "4                            Lead Source_Reference  1.24\n",
       "0                                    TimeOnWebsite  1.23\n",
       "6                     Lead Source_Welingak Website  1.07\n",
       "5                       Lead Source_Referral Sites  1.06\n",
       "10   Last Notable Activity_Olark Chat Conversation  1.05\n",
       "13              Last Notable Activity_Unsubscribed  1.02\n",
       "8   Last Notable Activity_Had a Phone Conversation  1.01\n",
       "12               Last Notable Activity_Unreachable  1.01"
      ]
     },
     "execution_count": 325,
     "metadata": {},
     "output_type": "execute_result"
    }
   ],
   "source": [
    "# Create a dataframe that will contain the names of all the feature variables and their respective VIFs\n",
    "vif = pd.DataFrame()\n",
    "vif['Features'] = X_train[col].columns\n",
    "vif['VIF'] = [variance_inflation_factor(X_train[col].values, i) for i in range(X_train[col].shape[1])]\n",
    "vif['VIF'] = round(vif['VIF'], 2)\n",
    "vif = vif.sort_values(by = \"VIF\", ascending = False)\n",
    "vif"
   ]
  },
  {
   "cell_type": "code",
   "execution_count": 326,
   "metadata": {},
   "outputs": [
    {
     "data": {
      "text/plain": [
       "Index(['TimeOnWebsite', 'Lead Source_Direct Traffic', 'Lead Source_Google',\n",
       "       'Lead Source_Organic Search', 'Lead Source_Reference',\n",
       "       'Lead Source_Referral Sites', 'Lead Source_Welingak Website',\n",
       "       'Last Notable Activity_Had a Phone Conversation',\n",
       "       'Last Notable Activity_Modified',\n",
       "       'Last Notable Activity_Olark Chat Conversation',\n",
       "       'Last Notable Activity_SMS Sent', 'Last Notable Activity_Unreachable',\n",
       "       'Last Notable Activity_Unsubscribed'],\n",
       "      dtype='object')"
      ]
     },
     "execution_count": 326,
     "metadata": {},
     "output_type": "execute_result"
    }
   ],
   "source": [
    "# Drop the column having highest VIF score 'Do Not Email_No'. Value is near 5 and also business wise NOT important\n",
    "col=col.drop('Do Not Email_No',1)\n",
    "col"
   ]
  },
  {
   "cell_type": "markdown",
   "metadata": {},
   "source": [
    "#### Next Iteration"
   ]
  },
  {
   "cell_type": "code",
   "execution_count": 327,
   "metadata": {},
   "outputs": [
    {
     "data": {
      "text/html": [
       "<table class=\"simpletable\">\n",
       "<caption>Generalized Linear Model Regression Results</caption>\n",
       "<tr>\n",
       "  <th>Dep. Variable:</th>      <td>Converted</td>    <th>  No. Observations:  </th>  <td>  6351</td>  \n",
       "</tr>\n",
       "<tr>\n",
       "  <th>Model:</th>                 <td>GLM</td>       <th>  Df Residuals:      </th>  <td>  6337</td>  \n",
       "</tr>\n",
       "<tr>\n",
       "  <th>Model Family:</th>       <td>Binomial</td>     <th>  Df Model:          </th>  <td>    13</td>  \n",
       "</tr>\n",
       "<tr>\n",
       "  <th>Link Function:</th>        <td>logit</td>      <th>  Scale:             </th> <td>  1.0000</td> \n",
       "</tr>\n",
       "<tr>\n",
       "  <th>Method:</th>               <td>IRLS</td>       <th>  Log-Likelihood:    </th> <td> -2875.9</td> \n",
       "</tr>\n",
       "<tr>\n",
       "  <th>Date:</th>           <td>Mon, 06 Jan 2020</td> <th>  Deviance:          </th> <td>  5751.8</td> \n",
       "</tr>\n",
       "<tr>\n",
       "  <th>Time:</th>               <td>18:34:13</td>     <th>  Pearson chi2:      </th> <td>6.70e+03</td> \n",
       "</tr>\n",
       "<tr>\n",
       "  <th>No. Iterations:</th>         <td>7</td>        <th>  Covariance Type:   </th> <td>nonrobust</td>\n",
       "</tr>\n",
       "</table>\n",
       "<table class=\"simpletable\">\n",
       "<tr>\n",
       "                         <td></td>                           <th>coef</th>     <th>std err</th>      <th>z</th>      <th>P>|z|</th>  <th>[0.025</th>    <th>0.975]</th>  \n",
       "</tr>\n",
       "<tr>\n",
       "  <th>const</th>                                          <td>   -0.0206</td> <td>    0.089</td> <td>   -0.232</td> <td> 0.816</td> <td>   -0.194</td> <td>    0.153</td>\n",
       "</tr>\n",
       "<tr>\n",
       "  <th>TimeOnWebsite</th>                                  <td>    1.1607</td> <td>    0.039</td> <td>   29.760</td> <td> 0.000</td> <td>    1.084</td> <td>    1.237</td>\n",
       "</tr>\n",
       "<tr>\n",
       "  <th>Lead Source_Direct Traffic</th>                     <td>   -1.3237</td> <td>    0.108</td> <td>  -12.224</td> <td> 0.000</td> <td>   -1.536</td> <td>   -1.111</td>\n",
       "</tr>\n",
       "<tr>\n",
       "  <th>Lead Source_Google</th>                             <td>   -0.8736</td> <td>    0.103</td> <td>   -8.508</td> <td> 0.000</td> <td>   -1.075</td> <td>   -0.672</td>\n",
       "</tr>\n",
       "<tr>\n",
       "  <th>Lead Source_Organic Search</th>                     <td>   -1.1309</td> <td>    0.126</td> <td>   -8.956</td> <td> 0.000</td> <td>   -1.378</td> <td>   -0.883</td>\n",
       "</tr>\n",
       "<tr>\n",
       "  <th>Lead Source_Reference</th>                          <td>    3.3603</td> <td>    0.226</td> <td>   14.852</td> <td> 0.000</td> <td>    2.917</td> <td>    3.804</td>\n",
       "</tr>\n",
       "<tr>\n",
       "  <th>Lead Source_Referral Sites</th>                     <td>   -1.2125</td> <td>    0.315</td> <td>   -3.851</td> <td> 0.000</td> <td>   -1.829</td> <td>   -0.595</td>\n",
       "</tr>\n",
       "<tr>\n",
       "  <th>Lead Source_Welingak Website</th>                   <td>    4.7813</td> <td>    0.724</td> <td>    6.601</td> <td> 0.000</td> <td>    3.362</td> <td>    6.201</td>\n",
       "</tr>\n",
       "<tr>\n",
       "  <th>Last Notable Activity_Had a Phone Conversation</th> <td>    3.3178</td> <td>    1.094</td> <td>    3.032</td> <td> 0.002</td> <td>    1.173</td> <td>    5.462</td>\n",
       "</tr>\n",
       "<tr>\n",
       "  <th>Last Notable Activity_Modified</th>                 <td>   -0.8140</td> <td>    0.080</td> <td>  -10.222</td> <td> 0.000</td> <td>   -0.970</td> <td>   -0.658</td>\n",
       "</tr>\n",
       "<tr>\n",
       "  <th>Last Notable Activity_Olark Chat Conversation</th>  <td>   -1.5139</td> <td>    0.314</td> <td>   -4.828</td> <td> 0.000</td> <td>   -2.128</td> <td>   -0.899</td>\n",
       "</tr>\n",
       "<tr>\n",
       "  <th>Last Notable Activity_SMS Sent</th>                 <td>    1.3729</td> <td>    0.082</td> <td>   16.711</td> <td> 0.000</td> <td>    1.212</td> <td>    1.534</td>\n",
       "</tr>\n",
       "<tr>\n",
       "  <th>Last Notable Activity_Unreachable</th>              <td>    1.6662</td> <td>    0.458</td> <td>    3.641</td> <td> 0.000</td> <td>    0.769</td> <td>    2.563</td>\n",
       "</tr>\n",
       "<tr>\n",
       "  <th>Last Notable Activity_Unsubscribed</th>             <td>   -0.1187</td> <td>    0.457</td> <td>   -0.260</td> <td> 0.795</td> <td>   -1.015</td> <td>    0.778</td>\n",
       "</tr>\n",
       "</table>"
      ],
      "text/plain": [
       "<class 'statsmodels.iolib.summary.Summary'>\n",
       "\"\"\"\n",
       "                 Generalized Linear Model Regression Results                  \n",
       "==============================================================================\n",
       "Dep. Variable:              Converted   No. Observations:                 6351\n",
       "Model:                            GLM   Df Residuals:                     6337\n",
       "Model Family:                Binomial   Df Model:                           13\n",
       "Link Function:                  logit   Scale:                          1.0000\n",
       "Method:                          IRLS   Log-Likelihood:                -2875.9\n",
       "Date:                Mon, 06 Jan 2020   Deviance:                       5751.8\n",
       "Time:                        18:34:13   Pearson chi2:                 6.70e+03\n",
       "No. Iterations:                     7   Covariance Type:             nonrobust\n",
       "==================================================================================================================\n",
       "                                                     coef    std err          z      P>|z|      [0.025      0.975]\n",
       "------------------------------------------------------------------------------------------------------------------\n",
       "const                                             -0.0206      0.089     -0.232      0.816      -0.194       0.153\n",
       "TimeOnWebsite                                      1.1607      0.039     29.760      0.000       1.084       1.237\n",
       "Lead Source_Direct Traffic                        -1.3237      0.108    -12.224      0.000      -1.536      -1.111\n",
       "Lead Source_Google                                -0.8736      0.103     -8.508      0.000      -1.075      -0.672\n",
       "Lead Source_Organic Search                        -1.1309      0.126     -8.956      0.000      -1.378      -0.883\n",
       "Lead Source_Reference                              3.3603      0.226     14.852      0.000       2.917       3.804\n",
       "Lead Source_Referral Sites                        -1.2125      0.315     -3.851      0.000      -1.829      -0.595\n",
       "Lead Source_Welingak Website                       4.7813      0.724      6.601      0.000       3.362       6.201\n",
       "Last Notable Activity_Had a Phone Conversation     3.3178      1.094      3.032      0.002       1.173       5.462\n",
       "Last Notable Activity_Modified                    -0.8140      0.080    -10.222      0.000      -0.970      -0.658\n",
       "Last Notable Activity_Olark Chat Conversation     -1.5139      0.314     -4.828      0.000      -2.128      -0.899\n",
       "Last Notable Activity_SMS Sent                     1.3729      0.082     16.711      0.000       1.212       1.534\n",
       "Last Notable Activity_Unreachable                  1.6662      0.458      3.641      0.000       0.769       2.563\n",
       "Last Notable Activity_Unsubscribed                -0.1187      0.457     -0.260      0.795      -1.015       0.778\n",
       "==================================================================================================================\n",
       "\"\"\""
      ]
     },
     "execution_count": 327,
     "metadata": {},
     "output_type": "execute_result"
    }
   ],
   "source": [
    "# Lets build the model again and check for VIF\n",
    "X_train_sm = sm.add_constant(X_train[col])\n",
    "logm4 = sm.GLM(y_train,X_train_sm, family = sm.families.Binomial())\n",
    "res = logm4.fit()\n",
    "res.summary()"
   ]
  },
  {
   "cell_type": "code",
   "execution_count": 328,
   "metadata": {},
   "outputs": [
    {
     "name": "stdout",
     "output_type": "stream",
     "text": [
      "3009    0.177958\n",
      "1012    0.122273\n",
      "9226    0.134000\n",
      "4750    0.873922\n",
      "7987    0.545775\n",
      "dtype: float64\n",
      "[0.17795785 0.12227317 0.13400048 0.87392226 0.54577539]\n"
     ]
    }
   ],
   "source": [
    "# Get the predicted values for train set\n",
    "y_train_pred = res.predict(X_train_sm)\n",
    "print(y_train_pred[:5])\n",
    "print(y_train_pred.values[:5])"
   ]
  },
  {
   "cell_type": "markdown",
   "metadata": {},
   "source": [
    "#### Create Data Frame with predicted and actual conversions"
   ]
  },
  {
   "cell_type": "code",
   "execution_count": 329,
   "metadata": {},
   "outputs": [
    {
     "data": {
      "text/html": [
       "<div>\n",
       "<style scoped>\n",
       "    .dataframe tbody tr th:only-of-type {\n",
       "        vertical-align: middle;\n",
       "    }\n",
       "\n",
       "    .dataframe tbody tr th {\n",
       "        vertical-align: top;\n",
       "    }\n",
       "\n",
       "    .dataframe thead th {\n",
       "        text-align: right;\n",
       "    }\n",
       "</style>\n",
       "<table border=\"1\" class=\"dataframe\">\n",
       "  <thead>\n",
       "    <tr style=\"text-align: right;\">\n",
       "      <th></th>\n",
       "      <th>Converted</th>\n",
       "      <th>ConversionProb</th>\n",
       "      <th>LeadID</th>\n",
       "    </tr>\n",
       "  </thead>\n",
       "  <tbody>\n",
       "    <tr>\n",
       "      <th>0</th>\n",
       "      <td>0</td>\n",
       "      <td>0.177958</td>\n",
       "      <td>3009</td>\n",
       "    </tr>\n",
       "    <tr>\n",
       "      <th>1</th>\n",
       "      <td>0</td>\n",
       "      <td>0.122273</td>\n",
       "      <td>1012</td>\n",
       "    </tr>\n",
       "    <tr>\n",
       "      <th>2</th>\n",
       "      <td>0</td>\n",
       "      <td>0.134000</td>\n",
       "      <td>9226</td>\n",
       "    </tr>\n",
       "    <tr>\n",
       "      <th>3</th>\n",
       "      <td>1</td>\n",
       "      <td>0.873922</td>\n",
       "      <td>4750</td>\n",
       "    </tr>\n",
       "    <tr>\n",
       "      <th>4</th>\n",
       "      <td>1</td>\n",
       "      <td>0.545775</td>\n",
       "      <td>7987</td>\n",
       "    </tr>\n",
       "  </tbody>\n",
       "</table>\n",
       "</div>"
      ],
      "text/plain": [
       "   Converted  ConversionProb  LeadID\n",
       "0          0        0.177958    3009\n",
       "1          0        0.122273    1012\n",
       "2          0        0.134000    9226\n",
       "3          1        0.873922    4750\n",
       "4          1        0.545775    7987"
      ]
     },
     "execution_count": 329,
     "metadata": {},
     "output_type": "execute_result"
    }
   ],
   "source": [
    "# Create initial Data Frame\n",
    "y_train_pred_final = pd.DataFrame({'Converted':y_train.values, 'ConversionProb':y_train_pred.values})\n",
    "y_train_pred_final['LeadID'] = y_train_pred.index\n",
    "y_train_pred_final.head()"
   ]
  },
  {
   "cell_type": "code",
   "execution_count": 330,
   "metadata": {},
   "outputs": [
    {
     "data": {
      "text/html": [
       "<div>\n",
       "<style scoped>\n",
       "    .dataframe tbody tr th:only-of-type {\n",
       "        vertical-align: middle;\n",
       "    }\n",
       "\n",
       "    .dataframe tbody tr th {\n",
       "        vertical-align: top;\n",
       "    }\n",
       "\n",
       "    .dataframe thead th {\n",
       "        text-align: right;\n",
       "    }\n",
       "</style>\n",
       "<table border=\"1\" class=\"dataframe\">\n",
       "  <thead>\n",
       "    <tr style=\"text-align: right;\">\n",
       "      <th></th>\n",
       "      <th>Converted</th>\n",
       "      <th>ConversionProb</th>\n",
       "      <th>LeadID</th>\n",
       "      <th>Predicted</th>\n",
       "    </tr>\n",
       "  </thead>\n",
       "  <tbody>\n",
       "    <tr>\n",
       "      <th>0</th>\n",
       "      <td>0</td>\n",
       "      <td>0.177958</td>\n",
       "      <td>3009</td>\n",
       "      <td>0</td>\n",
       "    </tr>\n",
       "    <tr>\n",
       "      <th>1</th>\n",
       "      <td>0</td>\n",
       "      <td>0.122273</td>\n",
       "      <td>1012</td>\n",
       "      <td>0</td>\n",
       "    </tr>\n",
       "    <tr>\n",
       "      <th>2</th>\n",
       "      <td>0</td>\n",
       "      <td>0.134000</td>\n",
       "      <td>9226</td>\n",
       "      <td>0</td>\n",
       "    </tr>\n",
       "    <tr>\n",
       "      <th>3</th>\n",
       "      <td>1</td>\n",
       "      <td>0.873922</td>\n",
       "      <td>4750</td>\n",
       "      <td>1</td>\n",
       "    </tr>\n",
       "    <tr>\n",
       "      <th>4</th>\n",
       "      <td>1</td>\n",
       "      <td>0.545775</td>\n",
       "      <td>7987</td>\n",
       "      <td>1</td>\n",
       "    </tr>\n",
       "  </tbody>\n",
       "</table>\n",
       "</div>"
      ],
      "text/plain": [
       "   Converted  ConversionProb  LeadID  Predicted\n",
       "0          0        0.177958    3009          0\n",
       "1          0        0.122273    1012          0\n",
       "2          0        0.134000    9226          0\n",
       "3          1        0.873922    4750          1\n",
       "4          1        0.545775    7987          1"
      ]
     },
     "execution_count": 330,
     "metadata": {},
     "output_type": "execute_result"
    }
   ],
   "source": [
    "# For start lets choose the threshold ConversionProb for conversion =0.4 . Create predicted column using this treshold\n",
    "y_train_pred_final['Predicted'] = y_train_pred_final.ConversionProb.map(lambda x: 1 if x > 0.4 else 0)\n",
    "y_train_pred_final.head()"
   ]
  },
  {
   "cell_type": "code",
   "execution_count": 331,
   "metadata": {},
   "outputs": [
    {
     "name": "stdout",
     "output_type": "stream",
     "text": [
      "[[3210  695]\n",
      " [ 597 1849]]\n"
     ]
    }
   ],
   "source": [
    "# Get the confusion matrix and metrics like Accuracy and Sensitivity\n",
    "confusion_matrix=metrics.confusion_matrix(y_train_pred_final.Converted,y_train_pred_final.Predicted)\n",
    "print(confusion_matrix)"
   ]
  },
  {
   "cell_type": "code",
   "execution_count": 332,
   "metadata": {},
   "outputs": [],
   "source": [
    "# Assign confursion matrix values as TP,TN,FN,FP\n",
    "TP = confusion_matrix[1,1] # true positive \n",
    "TN = confusion_matrix[0,0] # true negatives\n",
    "FP = confusion_matrix[0,1] # false positives\n",
    "FN = confusion_matrix[1,0] # false negatives"
   ]
  },
  {
   "cell_type": "code",
   "execution_count": 333,
   "metadata": {},
   "outputs": [
    {
     "name": "stdout",
     "output_type": "stream",
     "text": [
      "Sensitivity: 0.7559280457890434\n",
      "Accuracy: 0.7965674696898126\n"
     ]
    }
   ],
   "source": [
    "#print Accuracy and Sensitivity\n",
    "print('Sensitivity:',TP / float(TP+FN))\n",
    "print('Accuracy:',(TP+TN)/(TP+TN+FN+FP))"
   ]
  },
  {
   "cell_type": "markdown",
   "metadata": {},
   "source": [
    "#### There is no significant drop in Accuracy and Sensitivity"
   ]
  },
  {
   "cell_type": "markdown",
   "metadata": {},
   "source": [
    "####  The P-Value of 'Last Notable Activity_Unsubscribed' is very high , lets remove it and build the model again"
   ]
  },
  {
   "cell_type": "code",
   "execution_count": 334,
   "metadata": {},
   "outputs": [
    {
     "data": {
      "text/plain": [
       "Index(['TimeOnWebsite', 'Lead Source_Direct Traffic', 'Lead Source_Google',\n",
       "       'Lead Source_Organic Search', 'Lead Source_Reference',\n",
       "       'Lead Source_Referral Sites', 'Lead Source_Welingak Website',\n",
       "       'Last Notable Activity_Had a Phone Conversation',\n",
       "       'Last Notable Activity_Modified',\n",
       "       'Last Notable Activity_Olark Chat Conversation',\n",
       "       'Last Notable Activity_SMS Sent', 'Last Notable Activity_Unreachable'],\n",
       "      dtype='object')"
      ]
     },
     "execution_count": 334,
     "metadata": {},
     "output_type": "execute_result"
    }
   ],
   "source": [
    "# Drop column 'Last Notable Activity_Unsubscribed'\n",
    "col=col.drop('Last Notable Activity_Unsubscribed',1)\n",
    "col"
   ]
  },
  {
   "cell_type": "markdown",
   "metadata": {},
   "source": [
    "#### Next Iteration"
   ]
  },
  {
   "cell_type": "code",
   "execution_count": 335,
   "metadata": {},
   "outputs": [
    {
     "data": {
      "text/html": [
       "<table class=\"simpletable\">\n",
       "<caption>Generalized Linear Model Regression Results</caption>\n",
       "<tr>\n",
       "  <th>Dep. Variable:</th>      <td>Converted</td>    <th>  No. Observations:  </th>  <td>  6351</td>  \n",
       "</tr>\n",
       "<tr>\n",
       "  <th>Model:</th>                 <td>GLM</td>       <th>  Df Residuals:      </th>  <td>  6338</td>  \n",
       "</tr>\n",
       "<tr>\n",
       "  <th>Model Family:</th>       <td>Binomial</td>     <th>  Df Model:          </th>  <td>    12</td>  \n",
       "</tr>\n",
       "<tr>\n",
       "  <th>Link Function:</th>        <td>logit</td>      <th>  Scale:             </th> <td>  1.0000</td> \n",
       "</tr>\n",
       "<tr>\n",
       "  <th>Method:</th>               <td>IRLS</td>       <th>  Log-Likelihood:    </th> <td> -2875.9</td> \n",
       "</tr>\n",
       "<tr>\n",
       "  <th>Date:</th>           <td>Mon, 06 Jan 2020</td> <th>  Deviance:          </th> <td>  5751.8</td> \n",
       "</tr>\n",
       "<tr>\n",
       "  <th>Time:</th>               <td>18:34:15</td>     <th>  Pearson chi2:      </th> <td>6.70e+03</td> \n",
       "</tr>\n",
       "<tr>\n",
       "  <th>No. Iterations:</th>         <td>7</td>        <th>  Covariance Type:   </th> <td>nonrobust</td>\n",
       "</tr>\n",
       "</table>\n",
       "<table class=\"simpletable\">\n",
       "<tr>\n",
       "                         <td></td>                           <th>coef</th>     <th>std err</th>      <th>z</th>      <th>P>|z|</th>  <th>[0.025</th>    <th>0.975]</th>  \n",
       "</tr>\n",
       "<tr>\n",
       "  <th>const</th>                                          <td>   -0.0224</td> <td>    0.088</td> <td>   -0.253</td> <td> 0.800</td> <td>   -0.195</td> <td>    0.151</td>\n",
       "</tr>\n",
       "<tr>\n",
       "  <th>TimeOnWebsite</th>                                  <td>    1.1605</td> <td>    0.039</td> <td>   29.761</td> <td> 0.000</td> <td>    1.084</td> <td>    1.237</td>\n",
       "</tr>\n",
       "<tr>\n",
       "  <th>Lead Source_Direct Traffic</th>                     <td>   -1.3231</td> <td>    0.108</td> <td>  -12.222</td> <td> 0.000</td> <td>   -1.535</td> <td>   -1.111</td>\n",
       "</tr>\n",
       "<tr>\n",
       "  <th>Lead Source_Google</th>                             <td>   -0.8730</td> <td>    0.103</td> <td>   -8.505</td> <td> 0.000</td> <td>   -1.074</td> <td>   -0.672</td>\n",
       "</tr>\n",
       "<tr>\n",
       "  <th>Lead Source_Organic Search</th>                     <td>   -1.1310</td> <td>    0.126</td> <td>   -8.957</td> <td> 0.000</td> <td>   -1.378</td> <td>   -0.884</td>\n",
       "</tr>\n",
       "<tr>\n",
       "  <th>Lead Source_Reference</th>                          <td>    3.3610</td> <td>    0.226</td> <td>   14.856</td> <td> 0.000</td> <td>    2.918</td> <td>    3.804</td>\n",
       "</tr>\n",
       "<tr>\n",
       "  <th>Lead Source_Referral Sites</th>                     <td>   -1.2141</td> <td>    0.315</td> <td>   -3.855</td> <td> 0.000</td> <td>   -1.831</td> <td>   -0.597</td>\n",
       "</tr>\n",
       "<tr>\n",
       "  <th>Lead Source_Welingak Website</th>                   <td>    4.7819</td> <td>    0.724</td> <td>    6.602</td> <td> 0.000</td> <td>    3.362</td> <td>    6.202</td>\n",
       "</tr>\n",
       "<tr>\n",
       "  <th>Last Notable Activity_Had a Phone Conversation</th> <td>    3.3190</td> <td>    1.094</td> <td>    3.033</td> <td> 0.002</td> <td>    1.174</td> <td>    5.464</td>\n",
       "</tr>\n",
       "<tr>\n",
       "  <th>Last Notable Activity_Modified</th>                 <td>   -0.8125</td> <td>    0.079</td> <td>  -10.231</td> <td> 0.000</td> <td>   -0.968</td> <td>   -0.657</td>\n",
       "</tr>\n",
       "<tr>\n",
       "  <th>Last Notable Activity_Olark Chat Conversation</th>  <td>   -1.5122</td> <td>    0.313</td> <td>   -4.824</td> <td> 0.000</td> <td>   -2.127</td> <td>   -0.898</td>\n",
       "</tr>\n",
       "<tr>\n",
       "  <th>Last Notable Activity_SMS Sent</th>                 <td>    1.3744</td> <td>    0.082</td> <td>   16.767</td> <td> 0.000</td> <td>    1.214</td> <td>    1.535</td>\n",
       "</tr>\n",
       "<tr>\n",
       "  <th>Last Notable Activity_Unreachable</th>              <td>    1.6677</td> <td>    0.458</td> <td>    3.644</td> <td> 0.000</td> <td>    0.771</td> <td>    2.565</td>\n",
       "</tr>\n",
       "</table>"
      ],
      "text/plain": [
       "<class 'statsmodels.iolib.summary.Summary'>\n",
       "\"\"\"\n",
       "                 Generalized Linear Model Regression Results                  \n",
       "==============================================================================\n",
       "Dep. Variable:              Converted   No. Observations:                 6351\n",
       "Model:                            GLM   Df Residuals:                     6338\n",
       "Model Family:                Binomial   Df Model:                           12\n",
       "Link Function:                  logit   Scale:                          1.0000\n",
       "Method:                          IRLS   Log-Likelihood:                -2875.9\n",
       "Date:                Mon, 06 Jan 2020   Deviance:                       5751.8\n",
       "Time:                        18:34:15   Pearson chi2:                 6.70e+03\n",
       "No. Iterations:                     7   Covariance Type:             nonrobust\n",
       "==================================================================================================================\n",
       "                                                     coef    std err          z      P>|z|      [0.025      0.975]\n",
       "------------------------------------------------------------------------------------------------------------------\n",
       "const                                             -0.0224      0.088     -0.253      0.800      -0.195       0.151\n",
       "TimeOnWebsite                                      1.1605      0.039     29.761      0.000       1.084       1.237\n",
       "Lead Source_Direct Traffic                        -1.3231      0.108    -12.222      0.000      -1.535      -1.111\n",
       "Lead Source_Google                                -0.8730      0.103     -8.505      0.000      -1.074      -0.672\n",
       "Lead Source_Organic Search                        -1.1310      0.126     -8.957      0.000      -1.378      -0.884\n",
       "Lead Source_Reference                              3.3610      0.226     14.856      0.000       2.918       3.804\n",
       "Lead Source_Referral Sites                        -1.2141      0.315     -3.855      0.000      -1.831      -0.597\n",
       "Lead Source_Welingak Website                       4.7819      0.724      6.602      0.000       3.362       6.202\n",
       "Last Notable Activity_Had a Phone Conversation     3.3190      1.094      3.033      0.002       1.174       5.464\n",
       "Last Notable Activity_Modified                    -0.8125      0.079    -10.231      0.000      -0.968      -0.657\n",
       "Last Notable Activity_Olark Chat Conversation     -1.5122      0.313     -4.824      0.000      -2.127      -0.898\n",
       "Last Notable Activity_SMS Sent                     1.3744      0.082     16.767      0.000       1.214       1.535\n",
       "Last Notable Activity_Unreachable                  1.6677      0.458      3.644      0.000       0.771       2.565\n",
       "==================================================================================================================\n",
       "\"\"\""
      ]
     },
     "execution_count": 335,
     "metadata": {},
     "output_type": "execute_result"
    }
   ],
   "source": [
    "# Lets build the model again and check for VIF\n",
    "X_train_sm = sm.add_constant(X_train[col])\n",
    "logm5 = sm.GLM(y_train,X_train_sm, family = sm.families.Binomial())\n",
    "res = logm5.fit()\n",
    "res.summary()"
   ]
  },
  {
   "cell_type": "code",
   "execution_count": 336,
   "metadata": {},
   "outputs": [
    {
     "name": "stdout",
     "output_type": "stream",
     "text": [
      "3009    0.177784\n",
      "1012    0.122154\n",
      "9226    0.133987\n",
      "4750    0.873913\n",
      "7987    0.545754\n",
      "dtype: float64\n",
      "[0.17778393 0.12215356 0.13398738 0.87391293 0.54575414]\n"
     ]
    }
   ],
   "source": [
    "# Get the predicted values for train set\n",
    "y_train_pred = res.predict(X_train_sm)\n",
    "print(y_train_pred[:5])\n",
    "print(y_train_pred.values[:5])"
   ]
  },
  {
   "cell_type": "markdown",
   "metadata": {},
   "source": [
    "#### Create Data Frame with predicted and actual conversions"
   ]
  },
  {
   "cell_type": "code",
   "execution_count": 337,
   "metadata": {},
   "outputs": [
    {
     "data": {
      "text/html": [
       "<div>\n",
       "<style scoped>\n",
       "    .dataframe tbody tr th:only-of-type {\n",
       "        vertical-align: middle;\n",
       "    }\n",
       "\n",
       "    .dataframe tbody tr th {\n",
       "        vertical-align: top;\n",
       "    }\n",
       "\n",
       "    .dataframe thead th {\n",
       "        text-align: right;\n",
       "    }\n",
       "</style>\n",
       "<table border=\"1\" class=\"dataframe\">\n",
       "  <thead>\n",
       "    <tr style=\"text-align: right;\">\n",
       "      <th></th>\n",
       "      <th>Converted</th>\n",
       "      <th>ConversionProb</th>\n",
       "      <th>LeadID</th>\n",
       "    </tr>\n",
       "  </thead>\n",
       "  <tbody>\n",
       "    <tr>\n",
       "      <th>0</th>\n",
       "      <td>0</td>\n",
       "      <td>0.177784</td>\n",
       "      <td>3009</td>\n",
       "    </tr>\n",
       "    <tr>\n",
       "      <th>1</th>\n",
       "      <td>0</td>\n",
       "      <td>0.122154</td>\n",
       "      <td>1012</td>\n",
       "    </tr>\n",
       "    <tr>\n",
       "      <th>2</th>\n",
       "      <td>0</td>\n",
       "      <td>0.133987</td>\n",
       "      <td>9226</td>\n",
       "    </tr>\n",
       "    <tr>\n",
       "      <th>3</th>\n",
       "      <td>1</td>\n",
       "      <td>0.873913</td>\n",
       "      <td>4750</td>\n",
       "    </tr>\n",
       "    <tr>\n",
       "      <th>4</th>\n",
       "      <td>1</td>\n",
       "      <td>0.545754</td>\n",
       "      <td>7987</td>\n",
       "    </tr>\n",
       "  </tbody>\n",
       "</table>\n",
       "</div>"
      ],
      "text/plain": [
       "   Converted  ConversionProb  LeadID\n",
       "0          0        0.177784    3009\n",
       "1          0        0.122154    1012\n",
       "2          0        0.133987    9226\n",
       "3          1        0.873913    4750\n",
       "4          1        0.545754    7987"
      ]
     },
     "execution_count": 337,
     "metadata": {},
     "output_type": "execute_result"
    }
   ],
   "source": [
    "# Create initial Data Frame\n",
    "y_train_pred_final = pd.DataFrame({'Converted':y_train.values, 'ConversionProb':y_train_pred.values})\n",
    "y_train_pred_final['LeadID'] = y_train_pred.index\n",
    "y_train_pred_final.head()"
   ]
  },
  {
   "cell_type": "code",
   "execution_count": 338,
   "metadata": {},
   "outputs": [
    {
     "data": {
      "text/html": [
       "<div>\n",
       "<style scoped>\n",
       "    .dataframe tbody tr th:only-of-type {\n",
       "        vertical-align: middle;\n",
       "    }\n",
       "\n",
       "    .dataframe tbody tr th {\n",
       "        vertical-align: top;\n",
       "    }\n",
       "\n",
       "    .dataframe thead th {\n",
       "        text-align: right;\n",
       "    }\n",
       "</style>\n",
       "<table border=\"1\" class=\"dataframe\">\n",
       "  <thead>\n",
       "    <tr style=\"text-align: right;\">\n",
       "      <th></th>\n",
       "      <th>Converted</th>\n",
       "      <th>ConversionProb</th>\n",
       "      <th>LeadID</th>\n",
       "      <th>Predicted</th>\n",
       "    </tr>\n",
       "  </thead>\n",
       "  <tbody>\n",
       "    <tr>\n",
       "      <th>0</th>\n",
       "      <td>0</td>\n",
       "      <td>0.177784</td>\n",
       "      <td>3009</td>\n",
       "      <td>0</td>\n",
       "    </tr>\n",
       "    <tr>\n",
       "      <th>1</th>\n",
       "      <td>0</td>\n",
       "      <td>0.122154</td>\n",
       "      <td>1012</td>\n",
       "      <td>0</td>\n",
       "    </tr>\n",
       "    <tr>\n",
       "      <th>2</th>\n",
       "      <td>0</td>\n",
       "      <td>0.133987</td>\n",
       "      <td>9226</td>\n",
       "      <td>0</td>\n",
       "    </tr>\n",
       "    <tr>\n",
       "      <th>3</th>\n",
       "      <td>1</td>\n",
       "      <td>0.873913</td>\n",
       "      <td>4750</td>\n",
       "      <td>1</td>\n",
       "    </tr>\n",
       "    <tr>\n",
       "      <th>4</th>\n",
       "      <td>1</td>\n",
       "      <td>0.545754</td>\n",
       "      <td>7987</td>\n",
       "      <td>1</td>\n",
       "    </tr>\n",
       "  </tbody>\n",
       "</table>\n",
       "</div>"
      ],
      "text/plain": [
       "   Converted  ConversionProb  LeadID  Predicted\n",
       "0          0        0.177784    3009          0\n",
       "1          0        0.122154    1012          0\n",
       "2          0        0.133987    9226          0\n",
       "3          1        0.873913    4750          1\n",
       "4          1        0.545754    7987          1"
      ]
     },
     "execution_count": 338,
     "metadata": {},
     "output_type": "execute_result"
    }
   ],
   "source": [
    "# For start lets choose the threshold ConversionProb for conversion =0.4 . Create predicted column using this treshold\n",
    "y_train_pred_final['Predicted'] = y_train_pred_final.ConversionProb.map(lambda x: 1 if x > 0.4 else 0)\n",
    "y_train_pred_final.head()"
   ]
  },
  {
   "cell_type": "code",
   "execution_count": 339,
   "metadata": {},
   "outputs": [
    {
     "name": "stdout",
     "output_type": "stream",
     "text": [
      "[[3211  694]\n",
      " [ 598 1848]]\n"
     ]
    }
   ],
   "source": [
    "# Get the confusion matrix and metrics like Accuracy and Sensitivity\n",
    "confusion_matrix=metrics.confusion_matrix(y_train_pred_final.Converted,y_train_pred_final.Predicted)\n",
    "print(confusion_matrix)"
   ]
  },
  {
   "cell_type": "code",
   "execution_count": 340,
   "metadata": {},
   "outputs": [],
   "source": [
    "# Assign confursion matrix values as TP,TN,FN,FP\n",
    "TP = confusion_matrix[1,1] # true positive \n",
    "TN = confusion_matrix[0,0] # true negatives\n",
    "FP = confusion_matrix[0,1] # false positives\n",
    "FN = confusion_matrix[1,0] # false negatives"
   ]
  },
  {
   "cell_type": "code",
   "execution_count": 341,
   "metadata": {},
   "outputs": [
    {
     "name": "stdout",
     "output_type": "stream",
     "text": [
      "Sensitivity: 0.7555192150449714\n",
      "Accuracy: 0.7965674696898126\n"
     ]
    }
   ],
   "source": [
    "#print Accuracy and Sensitivity\n",
    "print('Sensitivity:',TP / float(TP+FN))\n",
    "print('Accuracy:',(TP+TN)/(TP+TN+FN+FP))"
   ]
  },
  {
   "cell_type": "markdown",
   "metadata": {},
   "source": [
    "#### There is no significant drop in Accuracy and Sensitivity . The P-values look good.\n",
    "#### Lets check VIF again"
   ]
  },
  {
   "cell_type": "code",
   "execution_count": 342,
   "metadata": {},
   "outputs": [
    {
     "data": {
      "text/html": [
       "<div>\n",
       "<style scoped>\n",
       "    .dataframe tbody tr th:only-of-type {\n",
       "        vertical-align: middle;\n",
       "    }\n",
       "\n",
       "    .dataframe tbody tr th {\n",
       "        vertical-align: top;\n",
       "    }\n",
       "\n",
       "    .dataframe thead th {\n",
       "        text-align: right;\n",
       "    }\n",
       "</style>\n",
       "<table border=\"1\" class=\"dataframe\">\n",
       "  <thead>\n",
       "    <tr style=\"text-align: right;\">\n",
       "      <th></th>\n",
       "      <th>Features</th>\n",
       "      <th>VIF</th>\n",
       "    </tr>\n",
       "  </thead>\n",
       "  <tbody>\n",
       "    <tr>\n",
       "      <th>8</th>\n",
       "      <td>Last Notable Activity_Modified</td>\n",
       "      <td>1.60</td>\n",
       "    </tr>\n",
       "    <tr>\n",
       "      <th>10</th>\n",
       "      <td>Last Notable Activity_SMS Sent</td>\n",
       "      <td>1.48</td>\n",
       "    </tr>\n",
       "    <tr>\n",
       "      <th>2</th>\n",
       "      <td>Lead Source_Google</td>\n",
       "      <td>1.47</td>\n",
       "    </tr>\n",
       "    <tr>\n",
       "      <th>1</th>\n",
       "      <td>Lead Source_Direct Traffic</td>\n",
       "      <td>1.37</td>\n",
       "    </tr>\n",
       "    <tr>\n",
       "      <th>3</th>\n",
       "      <td>Lead Source_Organic Search</td>\n",
       "      <td>1.20</td>\n",
       "    </tr>\n",
       "    <tr>\n",
       "      <th>0</th>\n",
       "      <td>TimeOnWebsite</td>\n",
       "      <td>1.18</td>\n",
       "    </tr>\n",
       "    <tr>\n",
       "      <th>4</th>\n",
       "      <td>Lead Source_Reference</td>\n",
       "      <td>1.11</td>\n",
       "    </tr>\n",
       "    <tr>\n",
       "      <th>6</th>\n",
       "      <td>Lead Source_Welingak Website</td>\n",
       "      <td>1.04</td>\n",
       "    </tr>\n",
       "    <tr>\n",
       "      <th>5</th>\n",
       "      <td>Lead Source_Referral Sites</td>\n",
       "      <td>1.02</td>\n",
       "    </tr>\n",
       "    <tr>\n",
       "      <th>9</th>\n",
       "      <td>Last Notable Activity_Olark Chat Conversation</td>\n",
       "      <td>1.01</td>\n",
       "    </tr>\n",
       "    <tr>\n",
       "      <th>11</th>\n",
       "      <td>Last Notable Activity_Unreachable</td>\n",
       "      <td>1.01</td>\n",
       "    </tr>\n",
       "    <tr>\n",
       "      <th>7</th>\n",
       "      <td>Last Notable Activity_Had a Phone Conversation</td>\n",
       "      <td>1.00</td>\n",
       "    </tr>\n",
       "  </tbody>\n",
       "</table>\n",
       "</div>"
      ],
      "text/plain": [
       "                                          Features   VIF\n",
       "8                   Last Notable Activity_Modified  1.60\n",
       "10                  Last Notable Activity_SMS Sent  1.48\n",
       "2                               Lead Source_Google  1.47\n",
       "1                       Lead Source_Direct Traffic  1.37\n",
       "3                       Lead Source_Organic Search  1.20\n",
       "0                                    TimeOnWebsite  1.18\n",
       "4                            Lead Source_Reference  1.11\n",
       "6                     Lead Source_Welingak Website  1.04\n",
       "5                       Lead Source_Referral Sites  1.02\n",
       "9    Last Notable Activity_Olark Chat Conversation  1.01\n",
       "11               Last Notable Activity_Unreachable  1.01\n",
       "7   Last Notable Activity_Had a Phone Conversation  1.00"
      ]
     },
     "execution_count": 342,
     "metadata": {},
     "output_type": "execute_result"
    }
   ],
   "source": [
    "# Create a dataframe that will contain the names of all the feature variables and their respective VIFs\n",
    "vif = pd.DataFrame()\n",
    "vif['Features'] = X_train[col].columns\n",
    "vif['VIF'] = [variance_inflation_factor(X_train[col].values, i) for i in range(X_train[col].shape[1])]\n",
    "vif['VIF'] = round(vif['VIF'], 2)\n",
    "vif = vif.sort_values(by = \"VIF\", ascending = False)\n",
    "vif"
   ]
  },
  {
   "cell_type": "markdown",
   "metadata": {},
   "source": [
    "#### The highest value of VIF is less than 5 , hence there is no need to drop features further\n"
   ]
  },
  {
   "cell_type": "markdown",
   "metadata": {},
   "source": [
    "#### Lets try to adjust threshold such that  both Accuracy  near 0.8 and Sensitivity greater than 0.8"
   ]
  },
  {
   "cell_type": "code",
   "execution_count": 343,
   "metadata": {},
   "outputs": [
    {
     "data": {
      "text/html": [
       "<div>\n",
       "<style scoped>\n",
       "    .dataframe tbody tr th:only-of-type {\n",
       "        vertical-align: middle;\n",
       "    }\n",
       "\n",
       "    .dataframe tbody tr th {\n",
       "        vertical-align: top;\n",
       "    }\n",
       "\n",
       "    .dataframe thead th {\n",
       "        text-align: right;\n",
       "    }\n",
       "</style>\n",
       "<table border=\"1\" class=\"dataframe\">\n",
       "  <thead>\n",
       "    <tr style=\"text-align: right;\">\n",
       "      <th></th>\n",
       "      <th>Converted</th>\n",
       "      <th>ConversionProb</th>\n",
       "      <th>LeadID</th>\n",
       "      <th>Predicted</th>\n",
       "    </tr>\n",
       "  </thead>\n",
       "  <tbody>\n",
       "    <tr>\n",
       "      <th>0</th>\n",
       "      <td>0</td>\n",
       "      <td>0.177784</td>\n",
       "      <td>3009</td>\n",
       "      <td>0</td>\n",
       "    </tr>\n",
       "    <tr>\n",
       "      <th>1</th>\n",
       "      <td>0</td>\n",
       "      <td>0.122154</td>\n",
       "      <td>1012</td>\n",
       "      <td>0</td>\n",
       "    </tr>\n",
       "    <tr>\n",
       "      <th>2</th>\n",
       "      <td>0</td>\n",
       "      <td>0.133987</td>\n",
       "      <td>9226</td>\n",
       "      <td>0</td>\n",
       "    </tr>\n",
       "    <tr>\n",
       "      <th>3</th>\n",
       "      <td>1</td>\n",
       "      <td>0.873913</td>\n",
       "      <td>4750</td>\n",
       "      <td>1</td>\n",
       "    </tr>\n",
       "    <tr>\n",
       "      <th>4</th>\n",
       "      <td>1</td>\n",
       "      <td>0.545754</td>\n",
       "      <td>7987</td>\n",
       "      <td>1</td>\n",
       "    </tr>\n",
       "  </tbody>\n",
       "</table>\n",
       "</div>"
      ],
      "text/plain": [
       "   Converted  ConversionProb  LeadID  Predicted\n",
       "0          0        0.177784    3009          0\n",
       "1          0        0.122154    1012          0\n",
       "2          0        0.133987    9226          0\n",
       "3          1        0.873913    4750          1\n",
       "4          1        0.545754    7987          1"
      ]
     },
     "execution_count": 343,
     "metadata": {},
     "output_type": "execute_result"
    }
   ],
   "source": [
    "# Adjust threshold ConversionProb for conversion =0.32(reached this value after 5 trials) .\n",
    "#Create predicted column using this treshold\n",
    "y_train_pred_final['Predicted'] = y_train_pred_final.ConversionProb.map(lambda x: 1 if x > 0.32 else 0)\n",
    "y_train_pred_final.head()"
   ]
  },
  {
   "cell_type": "code",
   "execution_count": 344,
   "metadata": {},
   "outputs": [
    {
     "name": "stdout",
     "output_type": "stream",
     "text": [
      "[[3023  882]\n",
      " [ 461 1985]]\n"
     ]
    }
   ],
   "source": [
    "# Get the confusion matrix and metrics like Accuracy and Sensitivity\n",
    "confusion_matrix=metrics.confusion_matrix(y_train_pred_final.Converted,y_train_pred_final.Predicted)\n",
    "print(confusion_matrix)"
   ]
  },
  {
   "cell_type": "code",
   "execution_count": 345,
   "metadata": {},
   "outputs": [],
   "source": [
    "# Assign confursion matrix values as TP,TN,FN,FP\n",
    "TP = confusion_matrix[1,1] # true positive \n",
    "TN = confusion_matrix[0,0] # true negatives\n",
    "FP = confusion_matrix[0,1] # false positives\n",
    "FN = confusion_matrix[1,0] # false negatives"
   ]
  },
  {
   "cell_type": "code",
   "execution_count": 346,
   "metadata": {},
   "outputs": [
    {
     "name": "stdout",
     "output_type": "stream",
     "text": [
      "Sensitivity: 0.8115290269828291\n",
      "Accuracy: 0.7885372382301999\n"
     ]
    }
   ],
   "source": [
    "#print Accuracy and Sensitivity\n",
    "print('Sensitivity:',TP / float(TP+FN))\n",
    "print('Accuracy:',(TP+TN)/(TP+TN+FN+FP))"
   ]
  },
  {
   "cell_type": "markdown",
   "metadata": {},
   "source": [
    "#### After 5  trials, the threshold of 0.32 gives both accuracy near 0.8 and Sensitivity  >  0.8\n",
    "\n",
    "### Plot the ROC curve"
   ]
  },
  {
   "cell_type": "code",
   "execution_count": 347,
   "metadata": {},
   "outputs": [],
   "source": [
    "# function for plotting RIC curve\n",
    "def draw_roc( actual, probs ):\n",
    "    fpr, tpr, thresholds = metrics.roc_curve( actual, probs,\n",
    "                                              drop_intermediate = False )\n",
    "    auc_score = metrics.roc_auc_score( actual, probs )\n",
    "    plt.figure(figsize=(5, 5))\n",
    "    plt.plot( fpr, tpr, label='ROC curve (area = %0.2f)' % auc_score )\n",
    "    plt.plot([0, 1], [0, 1], 'k--')\n",
    "    plt.xlim([0.0, 1.0])\n",
    "    plt.ylim([0.0, 1.05])\n",
    "    plt.xlabel('False Positive Rate or [1 - True Negative Rate]')\n",
    "    plt.ylabel('True Positive Rate')\n",
    "    plt.title('Receiver operating characteristic example')\n",
    "    plt.legend(loc=\"lower right\")\n",
    "    plt.show()\n",
    "\n",
    "    return None"
   ]
  },
  {
   "cell_type": "code",
   "execution_count": 348,
   "metadata": {},
   "outputs": [
    {
     "data": {
      "image/png": "[encoded data removed]",
      "text/plain": [
       "<Figure size 360x360 with 1 Axes>"
      ]
     },
     "metadata": {
      "needs_background": "light"
     },
     "output_type": "display_data"
    }
   ],
   "source": [
    "draw_roc(y_train_pred_final.Converted, y_train_pred_final.ConversionProb)"
   ]
  },
  {
   "cell_type": "markdown",
   "metadata": {},
   "source": [
    "### Finding optimal threshold point"
   ]
  },
  {
   "cell_type": "code",
   "execution_count": 349,
   "metadata": {},
   "outputs": [
    {
     "data": {
      "text/html": [
       "<div>\n",
       "<style scoped>\n",
       "    .dataframe tbody tr th:only-of-type {\n",
       "        vertical-align: middle;\n",
       "    }\n",
       "\n",
       "    .dataframe tbody tr th {\n",
       "        vertical-align: top;\n",
       "    }\n",
       "\n",
       "    .dataframe thead th {\n",
       "        text-align: right;\n",
       "    }\n",
       "</style>\n",
       "<table border=\"1\" class=\"dataframe\">\n",
       "  <thead>\n",
       "    <tr style=\"text-align: right;\">\n",
       "      <th></th>\n",
       "      <th>Converted</th>\n",
       "      <th>ConversionProb</th>\n",
       "      <th>LeadID</th>\n",
       "      <th>Predicted</th>\n",
       "      <th>0.0</th>\n",
       "      <th>0.1</th>\n",
       "      <th>0.2</th>\n",
       "      <th>0.3</th>\n",
       "      <th>0.4</th>\n",
       "      <th>0.5</th>\n",
       "      <th>0.6</th>\n",
       "      <th>0.7</th>\n",
       "      <th>0.8</th>\n",
       "      <th>0.9</th>\n",
       "    </tr>\n",
       "  </thead>\n",
       "  <tbody>\n",
       "    <tr>\n",
       "      <th>0</th>\n",
       "      <td>0</td>\n",
       "      <td>0.177784</td>\n",
       "      <td>3009</td>\n",
       "      <td>0</td>\n",
       "      <td>1</td>\n",
       "      <td>1</td>\n",
       "      <td>0</td>\n",
       "      <td>0</td>\n",
       "      <td>0</td>\n",
       "      <td>0</td>\n",
       "      <td>0</td>\n",
       "      <td>0</td>\n",
       "      <td>0</td>\n",
       "      <td>0</td>\n",
       "    </tr>\n",
       "    <tr>\n",
       "      <th>1</th>\n",
       "      <td>0</td>\n",
       "      <td>0.122154</td>\n",
       "      <td>1012</td>\n",
       "      <td>0</td>\n",
       "      <td>1</td>\n",
       "      <td>1</td>\n",
       "      <td>0</td>\n",
       "      <td>0</td>\n",
       "      <td>0</td>\n",
       "      <td>0</td>\n",
       "      <td>0</td>\n",
       "      <td>0</td>\n",
       "      <td>0</td>\n",
       "      <td>0</td>\n",
       "    </tr>\n",
       "    <tr>\n",
       "      <th>2</th>\n",
       "      <td>0</td>\n",
       "      <td>0.133987</td>\n",
       "      <td>9226</td>\n",
       "      <td>0</td>\n",
       "      <td>1</td>\n",
       "      <td>1</td>\n",
       "      <td>0</td>\n",
       "      <td>0</td>\n",
       "      <td>0</td>\n",
       "      <td>0</td>\n",
       "      <td>0</td>\n",
       "      <td>0</td>\n",
       "      <td>0</td>\n",
       "      <td>0</td>\n",
       "    </tr>\n",
       "    <tr>\n",
       "      <th>3</th>\n",
       "      <td>1</td>\n",
       "      <td>0.873913</td>\n",
       "      <td>4750</td>\n",
       "      <td>1</td>\n",
       "      <td>1</td>\n",
       "      <td>1</td>\n",
       "      <td>1</td>\n",
       "      <td>1</td>\n",
       "      <td>1</td>\n",
       "      <td>1</td>\n",
       "      <td>1</td>\n",
       "      <td>1</td>\n",
       "      <td>1</td>\n",
       "      <td>0</td>\n",
       "    </tr>\n",
       "    <tr>\n",
       "      <th>4</th>\n",
       "      <td>1</td>\n",
       "      <td>0.545754</td>\n",
       "      <td>7987</td>\n",
       "      <td>1</td>\n",
       "      <td>1</td>\n",
       "      <td>1</td>\n",
       "      <td>1</td>\n",
       "      <td>1</td>\n",
       "      <td>1</td>\n",
       "      <td>1</td>\n",
       "      <td>0</td>\n",
       "      <td>0</td>\n",
       "      <td>0</td>\n",
       "      <td>0</td>\n",
       "    </tr>\n",
       "  </tbody>\n",
       "</table>\n",
       "</div>"
      ],
      "text/plain": [
       "   Converted  ConversionProb  LeadID  Predicted  0.0  0.1  0.2  0.3  0.4  0.5  \\\n",
       "0          0        0.177784    3009          0    1    1    0    0    0    0   \n",
       "1          0        0.122154    1012          0    1    1    0    0    0    0   \n",
       "2          0        0.133987    9226          0    1    1    0    0    0    0   \n",
       "3          1        0.873913    4750          1    1    1    1    1    1    1   \n",
       "4          1        0.545754    7987          1    1    1    1    1    1    1   \n",
       "\n",
       "   0.6  0.7  0.8  0.9  \n",
       "0    0    0    0    0  \n",
       "1    0    0    0    0  \n",
       "2    0    0    0    0  \n",
       "3    1    1    1    0  \n",
       "4    0    0    0    0  "
      ]
     },
     "execution_count": 349,
     "metadata": {},
     "output_type": "execute_result"
    }
   ],
   "source": [
    "# Let's add columns with different probability cutoffs \n",
    "numbers = [float(x)/10 for x in range(10)]\n",
    "for i in numbers:\n",
    "    y_train_pred_final[i]= y_train_pred_final.ConversionProb.map(lambda x: 1 if x > i else 0)\n",
    "y_train_pred_final.head()"
   ]
  },
  {
   "cell_type": "code",
   "execution_count": 350,
   "metadata": {},
   "outputs": [
    {
     "data": {
      "text/html": [
       "<div>\n",
       "<style scoped>\n",
       "    .dataframe tbody tr th:only-of-type {\n",
       "        vertical-align: middle;\n",
       "    }\n",
       "\n",
       "    .dataframe tbody tr th {\n",
       "        vertical-align: top;\n",
       "    }\n",
       "\n",
       "    .dataframe thead th {\n",
       "        text-align: right;\n",
       "    }\n",
       "</style>\n",
       "<table border=\"1\" class=\"dataframe\">\n",
       "  <thead>\n",
       "    <tr style=\"text-align: right;\">\n",
       "      <th></th>\n",
       "      <th>prob_treshold</th>\n",
       "      <th>accuracy</th>\n",
       "      <th>sensitivity</th>\n",
       "      <th>specificity</th>\n",
       "    </tr>\n",
       "  </thead>\n",
       "  <tbody>\n",
       "    <tr>\n",
       "      <th>0.0</th>\n",
       "      <td>0.0</td>\n",
       "      <td>0.385136</td>\n",
       "      <td>1.000000</td>\n",
       "      <td>0.000000</td>\n",
       "    </tr>\n",
       "    <tr>\n",
       "      <th>0.1</th>\n",
       "      <td>0.1</td>\n",
       "      <td>0.530940</td>\n",
       "      <td>0.970973</td>\n",
       "      <td>0.255314</td>\n",
       "    </tr>\n",
       "    <tr>\n",
       "      <th>0.2</th>\n",
       "      <td>0.2</td>\n",
       "      <td>0.726185</td>\n",
       "      <td>0.903925</td>\n",
       "      <td>0.614853</td>\n",
       "    </tr>\n",
       "    <tr>\n",
       "      <th>0.3</th>\n",
       "      <td>0.3</td>\n",
       "      <td>0.787593</td>\n",
       "      <td>0.825429</td>\n",
       "      <td>0.763892</td>\n",
       "    </tr>\n",
       "    <tr>\n",
       "      <th>0.4</th>\n",
       "      <td>0.4</td>\n",
       "      <td>0.796567</td>\n",
       "      <td>0.755519</td>\n",
       "      <td>0.822279</td>\n",
       "    </tr>\n",
       "    <tr>\n",
       "      <th>0.5</th>\n",
       "      <td>0.5</td>\n",
       "      <td>0.798457</td>\n",
       "      <td>0.668847</td>\n",
       "      <td>0.879641</td>\n",
       "    </tr>\n",
       "    <tr>\n",
       "      <th>0.6</th>\n",
       "      <td>0.6</td>\n",
       "      <td>0.772004</td>\n",
       "      <td>0.536795</td>\n",
       "      <td>0.919334</td>\n",
       "    </tr>\n",
       "    <tr>\n",
       "      <th>0.7</th>\n",
       "      <td>0.7</td>\n",
       "      <td>0.759251</td>\n",
       "      <td>0.461979</td>\n",
       "      <td>0.945455</td>\n",
       "    </tr>\n",
       "    <tr>\n",
       "      <th>0.8</th>\n",
       "      <td>0.8</td>\n",
       "      <td>0.736262</td>\n",
       "      <td>0.366312</td>\n",
       "      <td>0.967990</td>\n",
       "    </tr>\n",
       "    <tr>\n",
       "      <th>0.9</th>\n",
       "      <td>0.9</td>\n",
       "      <td>0.694536</td>\n",
       "      <td>0.229763</td>\n",
       "      <td>0.985659</td>\n",
       "    </tr>\n",
       "  </tbody>\n",
       "</table>\n",
       "</div>"
      ],
      "text/plain": [
       "     prob_treshold  accuracy  sensitivity  specificity\n",
       "0.0            0.0  0.385136     1.000000     0.000000\n",
       "0.1            0.1  0.530940     0.970973     0.255314\n",
       "0.2            0.2  0.726185     0.903925     0.614853\n",
       "0.3            0.3  0.787593     0.825429     0.763892\n",
       "0.4            0.4  0.796567     0.755519     0.822279\n",
       "0.5            0.5  0.798457     0.668847     0.879641\n",
       "0.6            0.6  0.772004     0.536795     0.919334\n",
       "0.7            0.7  0.759251     0.461979     0.945455\n",
       "0.8            0.8  0.736262     0.366312     0.967990\n",
       "0.9            0.9  0.694536     0.229763     0.985659"
      ]
     },
     "execution_count": 350,
     "metadata": {},
     "output_type": "execute_result"
    }
   ],
   "source": [
    "# Now let's create a chart for accuracy , sensitivity and specificity for various probability cutoffs.\n",
    "\n",
    "cutoff_df = pd.DataFrame( columns = ['prob_treshold','accuracy','sensitivity','specificity'])\n",
    "num = [0.0,0.1,0.2,0.3,0.4,0.5,0.6,0.7,0.8,0.9]\n",
    "for i in num:\n",
    "    cm = metrics.confusion_matrix(y_train_pred_final.Converted, y_train_pred_final[i] )\n",
    "    total=sum(sum(cm))\n",
    "    accuracy = (cm[0,0]+cm[1,1])/total\n",
    "    \n",
    "    speci = cm[0,0]/(cm[0,0]+cm[0,1])\n",
    "    sensi = cm[1,1]/(cm[1,0]+cm[1,1])\n",
    "    cutoff_df.loc[i] =[ i ,accuracy,sensi,speci]\n",
    "cutoff_df"
   ]
  },
  {
   "cell_type": "code",
   "execution_count": 351,
   "metadata": {},
   "outputs": [
    {
     "data": {
      "image/png": "[encoded data removed]",
      "text/plain": [
       "<Figure size 432x288 with 1 Axes>"
      ]
     },
     "metadata": {
      "needs_background": "light"
     },
     "output_type": "display_data"
    }
   ],
   "source": [
    "# Let's plot accuracy sensitivity and specificity for various probability thresholds.\n",
    "cutoff_df.plot.line(x='prob_treshold', y=['accuracy','sensitivity','specificity'])\n",
    "plt.show()"
   ]
  },
  {
   "cell_type": "markdown",
   "metadata": {},
   "source": [
    "#### As per above chart Probability threshold of 0.34 seems best for balancing trade-offs between senisitivity, accuracy and specificity .\n",
    "#### But experimentally 0.31 is the best threshold till now , as we focus on Sensitivity greater than 0.8"
   ]
  },
  {
   "cell_type": "markdown",
   "metadata": {},
   "source": [
    "#### As per suggested graph , lets again try out thresholds from 0.31 to 0.34"
   ]
  },
  {
   "cell_type": "code",
   "execution_count": 352,
   "metadata": {},
   "outputs": [
    {
     "data": {
      "text/html": [
       "<div>\n",
       "<style scoped>\n",
       "    .dataframe tbody tr th:only-of-type {\n",
       "        vertical-align: middle;\n",
       "    }\n",
       "\n",
       "    .dataframe tbody tr th {\n",
       "        vertical-align: top;\n",
       "    }\n",
       "\n",
       "    .dataframe thead th {\n",
       "        text-align: right;\n",
       "    }\n",
       "</style>\n",
       "<table border=\"1\" class=\"dataframe\">\n",
       "  <thead>\n",
       "    <tr style=\"text-align: right;\">\n",
       "      <th></th>\n",
       "      <th>Converted</th>\n",
       "      <th>ConversionProb</th>\n",
       "      <th>LeadID</th>\n",
       "      <th>Predicted</th>\n",
       "      <th>0.0</th>\n",
       "      <th>0.1</th>\n",
       "      <th>0.2</th>\n",
       "      <th>0.3</th>\n",
       "      <th>0.4</th>\n",
       "      <th>0.5</th>\n",
       "      <th>0.6</th>\n",
       "      <th>0.7</th>\n",
       "      <th>0.8</th>\n",
       "      <th>0.9</th>\n",
       "    </tr>\n",
       "  </thead>\n",
       "  <tbody>\n",
       "    <tr>\n",
       "      <th>0</th>\n",
       "      <td>0</td>\n",
       "      <td>0.177784</td>\n",
       "      <td>3009</td>\n",
       "      <td>0</td>\n",
       "      <td>1</td>\n",
       "      <td>1</td>\n",
       "      <td>0</td>\n",
       "      <td>0</td>\n",
       "      <td>0</td>\n",
       "      <td>0</td>\n",
       "      <td>0</td>\n",
       "      <td>0</td>\n",
       "      <td>0</td>\n",
       "      <td>0</td>\n",
       "    </tr>\n",
       "    <tr>\n",
       "      <th>1</th>\n",
       "      <td>0</td>\n",
       "      <td>0.122154</td>\n",
       "      <td>1012</td>\n",
       "      <td>0</td>\n",
       "      <td>1</td>\n",
       "      <td>1</td>\n",
       "      <td>0</td>\n",
       "      <td>0</td>\n",
       "      <td>0</td>\n",
       "      <td>0</td>\n",
       "      <td>0</td>\n",
       "      <td>0</td>\n",
       "      <td>0</td>\n",
       "      <td>0</td>\n",
       "    </tr>\n",
       "    <tr>\n",
       "      <th>2</th>\n",
       "      <td>0</td>\n",
       "      <td>0.133987</td>\n",
       "      <td>9226</td>\n",
       "      <td>0</td>\n",
       "      <td>1</td>\n",
       "      <td>1</td>\n",
       "      <td>0</td>\n",
       "      <td>0</td>\n",
       "      <td>0</td>\n",
       "      <td>0</td>\n",
       "      <td>0</td>\n",
       "      <td>0</td>\n",
       "      <td>0</td>\n",
       "      <td>0</td>\n",
       "    </tr>\n",
       "    <tr>\n",
       "      <th>3</th>\n",
       "      <td>1</td>\n",
       "      <td>0.873913</td>\n",
       "      <td>4750</td>\n",
       "      <td>1</td>\n",
       "      <td>1</td>\n",
       "      <td>1</td>\n",
       "      <td>1</td>\n",
       "      <td>1</td>\n",
       "      <td>1</td>\n",
       "      <td>1</td>\n",
       "      <td>1</td>\n",
       "      <td>1</td>\n",
       "      <td>1</td>\n",
       "      <td>0</td>\n",
       "    </tr>\n",
       "    <tr>\n",
       "      <th>4</th>\n",
       "      <td>1</td>\n",
       "      <td>0.545754</td>\n",
       "      <td>7987</td>\n",
       "      <td>1</td>\n",
       "      <td>1</td>\n",
       "      <td>1</td>\n",
       "      <td>1</td>\n",
       "      <td>1</td>\n",
       "      <td>1</td>\n",
       "      <td>1</td>\n",
       "      <td>0</td>\n",
       "      <td>0</td>\n",
       "      <td>0</td>\n",
       "      <td>0</td>\n",
       "    </tr>\n",
       "  </tbody>\n",
       "</table>\n",
       "</div>"
      ],
      "text/plain": [
       "   Converted  ConversionProb  LeadID  Predicted  0.0  0.1  0.2  0.3  0.4  0.5  \\\n",
       "0          0        0.177784    3009          0    1    1    0    0    0    0   \n",
       "1          0        0.122154    1012          0    1    1    0    0    0    0   \n",
       "2          0        0.133987    9226          0    1    1    0    0    0    0   \n",
       "3          1        0.873913    4750          1    1    1    1    1    1    1   \n",
       "4          1        0.545754    7987          1    1    1    1    1    1    1   \n",
       "\n",
       "   0.6  0.7  0.8  0.9  \n",
       "0    0    0    0    0  \n",
       "1    0    0    0    0  \n",
       "2    0    0    0    0  \n",
       "3    1    1    1    0  \n",
       "4    0    0    0    0  "
      ]
     },
     "execution_count": 352,
     "metadata": {},
     "output_type": "execute_result"
    }
   ],
   "source": [
    "# Try with threshold 0.31 to 0.34\n",
    "y_train_pred_final['Predicted'] = y_train_pred_final.ConversionProb.map(lambda x: 1 if x > 0.34 else 0)\n",
    "y_train_pred_final.head()"
   ]
  },
  {
   "cell_type": "code",
   "execution_count": 353,
   "metadata": {},
   "outputs": [
    {
     "name": "stdout",
     "output_type": "stream",
     "text": [
      "[[3068  837]\n",
      " [ 489 1957]]\n"
     ]
    }
   ],
   "source": [
    "# Get the confusion matrix and metrics like Accuracy and Sensitivity\n",
    "confusion_matrix=metrics.confusion_matrix(y_train_pred_final.Converted,y_train_pred_final.Predicted)\n",
    "print(confusion_matrix)"
   ]
  },
  {
   "cell_type": "code",
   "execution_count": 354,
   "metadata": {},
   "outputs": [],
   "source": [
    "# Assign confursion matrix values as TP,TN,FN,FP\n",
    "TP = confusion_matrix[1,1] # true positive \n",
    "TN = confusion_matrix[0,0] # true negatives\n",
    "FP = confusion_matrix[0,1] # false positives\n",
    "FN = confusion_matrix[1,0] # false negatives"
   ]
  },
  {
   "cell_type": "code",
   "execution_count": 355,
   "metadata": {},
   "outputs": [
    {
     "name": "stdout",
     "output_type": "stream",
     "text": [
      "Sensitivity: 0.8000817661488144\n",
      "Accuracy: 0.7912139820500709\n"
     ]
    }
   ],
   "source": [
    "#print Accuracy and Sensitivity\n",
    "print('Sensitivity:',TP / float(TP+FN))\n",
    "print('Accuracy:',(TP+TN)/(TP+TN+FN+FP))"
   ]
  },
  {
   "cell_type": "markdown",
   "metadata": {},
   "source": [
    "#### After fine tuning threshold , I arrive threshold probability of 0.31 to be optimum.\n",
    "#### Sensitivity is > 0.8 as desired by CEO , and also  greatest for threshold=0.31 ( in range of 0.31 to 0.34)\n",
    "#### Accuracy is near to 0.8 for given value of sensitivity ( Its near 0.8 for all thresholds )"
   ]
  },
  {
   "cell_type": "markdown",
   "metadata": {},
   "source": [
    "### Make predictions on Test Set"
   ]
  },
  {
   "cell_type": "code",
   "execution_count": 356,
   "metadata": {},
   "outputs": [
    {
     "data": {
      "text/html": [
       "<div>\n",
       "<style scoped>\n",
       "    .dataframe tbody tr th:only-of-type {\n",
       "        vertical-align: middle;\n",
       "    }\n",
       "\n",
       "    .dataframe tbody tr th {\n",
       "        vertical-align: top;\n",
       "    }\n",
       "\n",
       "    .dataframe thead th {\n",
       "        text-align: right;\n",
       "    }\n",
       "</style>\n",
       "<table border=\"1\" class=\"dataframe\">\n",
       "  <thead>\n",
       "    <tr style=\"text-align: right;\">\n",
       "      <th></th>\n",
       "      <th>TotalVisits</th>\n",
       "      <th>TimeOnWebsite</th>\n",
       "      <th>PVPV</th>\n",
       "      <th>Lead Origin_API</th>\n",
       "      <th>Lead Origin_Lead Add Form</th>\n",
       "      <th>Lead Source_Click2call</th>\n",
       "      <th>Lead Source_Direct Traffic</th>\n",
       "      <th>Lead Source_Facebook</th>\n",
       "      <th>Lead Source_Google</th>\n",
       "      <th>Lead Source_Live Chat</th>\n",
       "      <th>...</th>\n",
       "      <th>Last Notable Activity_Email Received</th>\n",
       "      <th>Last Notable Activity_Form Submitted on Website</th>\n",
       "      <th>Last Notable Activity_Had a Phone Conversation</th>\n",
       "      <th>Last Notable Activity_Modified</th>\n",
       "      <th>Last Notable Activity_Olark Chat Conversation</th>\n",
       "      <th>Last Notable Activity_Page Visited on Website</th>\n",
       "      <th>Last Notable Activity_Resubscribed to emails</th>\n",
       "      <th>Last Notable Activity_SMS Sent</th>\n",
       "      <th>Last Notable Activity_Unreachable</th>\n",
       "      <th>Last Notable Activity_Unsubscribed</th>\n",
       "    </tr>\n",
       "  </thead>\n",
       "  <tbody>\n",
       "    <tr>\n",
       "      <th>3271</th>\n",
       "      <td>0.304501</td>\n",
       "      <td>-0.591008</td>\n",
       "      <td>0.998931</td>\n",
       "      <td>1</td>\n",
       "      <td>0</td>\n",
       "      <td>0</td>\n",
       "      <td>0</td>\n",
       "      <td>0</td>\n",
       "      <td>1</td>\n",
       "      <td>0</td>\n",
       "      <td>...</td>\n",
       "      <td>0</td>\n",
       "      <td>0</td>\n",
       "      <td>0</td>\n",
       "      <td>0</td>\n",
       "      <td>0</td>\n",
       "      <td>0</td>\n",
       "      <td>0</td>\n",
       "      <td>0</td>\n",
       "      <td>0</td>\n",
       "      <td>0</td>\n",
       "    </tr>\n",
       "    <tr>\n",
       "      <th>1490</th>\n",
       "      <td>0.666261</td>\n",
       "      <td>1.894051</td>\n",
       "      <td>1.564920</td>\n",
       "      <td>0</td>\n",
       "      <td>0</td>\n",
       "      <td>0</td>\n",
       "      <td>1</td>\n",
       "      <td>0</td>\n",
       "      <td>0</td>\n",
       "      <td>0</td>\n",
       "      <td>...</td>\n",
       "      <td>0</td>\n",
       "      <td>0</td>\n",
       "      <td>0</td>\n",
       "      <td>0</td>\n",
       "      <td>0</td>\n",
       "      <td>0</td>\n",
       "      <td>0</td>\n",
       "      <td>0</td>\n",
       "      <td>0</td>\n",
       "      <td>0</td>\n",
       "    </tr>\n",
       "    <tr>\n",
       "      <th>7936</th>\n",
       "      <td>-0.419021</td>\n",
       "      <td>-0.743117</td>\n",
       "      <td>-0.133048</td>\n",
       "      <td>1</td>\n",
       "      <td>0</td>\n",
       "      <td>0</td>\n",
       "      <td>0</td>\n",
       "      <td>0</td>\n",
       "      <td>1</td>\n",
       "      <td>0</td>\n",
       "      <td>...</td>\n",
       "      <td>0</td>\n",
       "      <td>0</td>\n",
       "      <td>0</td>\n",
       "      <td>0</td>\n",
       "      <td>0</td>\n",
       "      <td>0</td>\n",
       "      <td>0</td>\n",
       "      <td>0</td>\n",
       "      <td>0</td>\n",
       "      <td>0</td>\n",
       "    </tr>\n",
       "    <tr>\n",
       "      <th>4216</th>\n",
       "      <td>-1.142542</td>\n",
       "      <td>-0.878732</td>\n",
       "      <td>-1.265027</td>\n",
       "      <td>0</td>\n",
       "      <td>1</td>\n",
       "      <td>0</td>\n",
       "      <td>0</td>\n",
       "      <td>0</td>\n",
       "      <td>0</td>\n",
       "      <td>0</td>\n",
       "      <td>...</td>\n",
       "      <td>0</td>\n",
       "      <td>0</td>\n",
       "      <td>0</td>\n",
       "      <td>1</td>\n",
       "      <td>0</td>\n",
       "      <td>0</td>\n",
       "      <td>0</td>\n",
       "      <td>0</td>\n",
       "      <td>0</td>\n",
       "      <td>0</td>\n",
       "    </tr>\n",
       "    <tr>\n",
       "      <th>3830</th>\n",
       "      <td>1.751544</td>\n",
       "      <td>-0.578179</td>\n",
       "      <td>2.130909</td>\n",
       "      <td>0</td>\n",
       "      <td>0</td>\n",
       "      <td>0</td>\n",
       "      <td>0</td>\n",
       "      <td>0</td>\n",
       "      <td>0</td>\n",
       "      <td>0</td>\n",
       "      <td>...</td>\n",
       "      <td>0</td>\n",
       "      <td>0</td>\n",
       "      <td>0</td>\n",
       "      <td>0</td>\n",
       "      <td>0</td>\n",
       "      <td>0</td>\n",
       "      <td>0</td>\n",
       "      <td>0</td>\n",
       "      <td>0</td>\n",
       "      <td>0</td>\n",
       "    </tr>\n",
       "  </tbody>\n",
       "</table>\n",
       "<p>5 rows × 42 columns</p>\n",
       "</div>"
      ],
      "text/plain": [
       "      TotalVisits  TimeOnWebsite      PVPV  Lead Origin_API  \\\n",
       "3271     0.304501      -0.591008  0.998931                1   \n",
       "1490     0.666261       1.894051  1.564920                0   \n",
       "7936    -0.419021      -0.743117 -0.133048                1   \n",
       "4216    -1.142542      -0.878732 -1.265027                0   \n",
       "3830     1.751544      -0.578179  2.130909                0   \n",
       "\n",
       "      Lead Origin_Lead Add Form  Lead Source_Click2call  \\\n",
       "3271                          0                       0   \n",
       "1490                          0                       0   \n",
       "7936                          0                       0   \n",
       "4216                          1                       0   \n",
       "3830                          0                       0   \n",
       "\n",
       "      Lead Source_Direct Traffic  Lead Source_Facebook  Lead Source_Google  \\\n",
       "3271                           0                     0                   1   \n",
       "1490                           1                     0                   0   \n",
       "7936                           0                     0                   1   \n",
       "4216                           0                     0                   0   \n",
       "3830                           0                     0                   0   \n",
       "\n",
       "      Lead Source_Live Chat  ...  Last Notable Activity_Email Received  \\\n",
       "3271                      0  ...                                     0   \n",
       "1490                      0  ...                                     0   \n",
       "7936                      0  ...                                     0   \n",
       "4216                      0  ...                                     0   \n",
       "3830                      0  ...                                     0   \n",
       "\n",
       "      Last Notable Activity_Form Submitted on Website  \\\n",
       "3271                                                0   \n",
       "1490                                                0   \n",
       "7936                                                0   \n",
       "4216                                                0   \n",
       "3830                                                0   \n",
       "\n",
       "      Last Notable Activity_Had a Phone Conversation  \\\n",
       "3271                                               0   \n",
       "1490                                               0   \n",
       "7936                                               0   \n",
       "4216                                               0   \n",
       "3830                                               0   \n",
       "\n",
       "      Last Notable Activity_Modified  \\\n",
       "3271                               0   \n",
       "1490                               0   \n",
       "7936                               0   \n",
       "4216                               1   \n",
       "3830                               0   \n",
       "\n",
       "      Last Notable Activity_Olark Chat Conversation  \\\n",
       "3271                                              0   \n",
       "1490                                              0   \n",
       "7936                                              0   \n",
       "4216                                              0   \n",
       "3830                                              0   \n",
       "\n",
       "      Last Notable Activity_Page Visited on Website  \\\n",
       "3271                                              0   \n",
       "1490                                              0   \n",
       "7936                                              0   \n",
       "4216                                              0   \n",
       "3830                                              0   \n",
       "\n",
       "      Last Notable Activity_Resubscribed to emails  \\\n",
       "3271                                             0   \n",
       "1490                                             0   \n",
       "7936                                             0   \n",
       "4216                                             0   \n",
       "3830                                             0   \n",
       "\n",
       "      Last Notable Activity_SMS Sent  Last Notable Activity_Unreachable  \\\n",
       "3271                               0                                  0   \n",
       "1490                               0                                  0   \n",
       "7936                               0                                  0   \n",
       "4216                               0                                  0   \n",
       "3830                               0                                  0   \n",
       "\n",
       "      Last Notable Activity_Unsubscribed  \n",
       "3271                                   0  \n",
       "1490                                   0  \n",
       "7936                                   0  \n",
       "4216                                   0  \n",
       "3830                                   0  \n",
       "\n",
       "[5 rows x 42 columns]"
      ]
     },
     "execution_count": 356,
     "metadata": {},
     "output_type": "execute_result"
    }
   ],
   "source": [
    "# Scale the test set columns based on train set scaler\n",
    "X_test[['TotalVisits','TimeOnWebsite','PVPV']]=scaler.fit_transform(X_test[['TotalVisits','TimeOnWebsite','PVPV']])\n",
    "X_test.head()"
   ]
  },
  {
   "cell_type": "code",
   "execution_count": 357,
   "metadata": {},
   "outputs": [
    {
     "data": {
      "text/html": [
       "<div>\n",
       "<style scoped>\n",
       "    .dataframe tbody tr th:only-of-type {\n",
       "        vertical-align: middle;\n",
       "    }\n",
       "\n",
       "    .dataframe tbody tr th {\n",
       "        vertical-align: top;\n",
       "    }\n",
       "\n",
       "    .dataframe thead th {\n",
       "        text-align: right;\n",
       "    }\n",
       "</style>\n",
       "<table border=\"1\" class=\"dataframe\">\n",
       "  <thead>\n",
       "    <tr style=\"text-align: right;\">\n",
       "      <th></th>\n",
       "      <th>TimeOnWebsite</th>\n",
       "      <th>Lead Source_Direct Traffic</th>\n",
       "      <th>Lead Source_Google</th>\n",
       "      <th>Lead Source_Organic Search</th>\n",
       "      <th>Lead Source_Reference</th>\n",
       "      <th>Lead Source_Referral Sites</th>\n",
       "      <th>Lead Source_Welingak Website</th>\n",
       "      <th>Last Notable Activity_Had a Phone Conversation</th>\n",
       "      <th>Last Notable Activity_Modified</th>\n",
       "      <th>Last Notable Activity_Olark Chat Conversation</th>\n",
       "      <th>Last Notable Activity_SMS Sent</th>\n",
       "      <th>Last Notable Activity_Unreachable</th>\n",
       "    </tr>\n",
       "  </thead>\n",
       "  <tbody>\n",
       "    <tr>\n",
       "      <th>3271</th>\n",
       "      <td>-0.591008</td>\n",
       "      <td>0</td>\n",
       "      <td>1</td>\n",
       "      <td>0</td>\n",
       "      <td>0</td>\n",
       "      <td>0</td>\n",
       "      <td>0</td>\n",
       "      <td>0</td>\n",
       "      <td>0</td>\n",
       "      <td>0</td>\n",
       "      <td>0</td>\n",
       "      <td>0</td>\n",
       "    </tr>\n",
       "    <tr>\n",
       "      <th>1490</th>\n",
       "      <td>1.894051</td>\n",
       "      <td>1</td>\n",
       "      <td>0</td>\n",
       "      <td>0</td>\n",
       "      <td>0</td>\n",
       "      <td>0</td>\n",
       "      <td>0</td>\n",
       "      <td>0</td>\n",
       "      <td>0</td>\n",
       "      <td>0</td>\n",
       "      <td>0</td>\n",
       "      <td>0</td>\n",
       "    </tr>\n",
       "    <tr>\n",
       "      <th>7936</th>\n",
       "      <td>-0.743117</td>\n",
       "      <td>0</td>\n",
       "      <td>1</td>\n",
       "      <td>0</td>\n",
       "      <td>0</td>\n",
       "      <td>0</td>\n",
       "      <td>0</td>\n",
       "      <td>0</td>\n",
       "      <td>0</td>\n",
       "      <td>0</td>\n",
       "      <td>0</td>\n",
       "      <td>0</td>\n",
       "    </tr>\n",
       "    <tr>\n",
       "      <th>4216</th>\n",
       "      <td>-0.878732</td>\n",
       "      <td>0</td>\n",
       "      <td>0</td>\n",
       "      <td>0</td>\n",
       "      <td>1</td>\n",
       "      <td>0</td>\n",
       "      <td>0</td>\n",
       "      <td>0</td>\n",
       "      <td>1</td>\n",
       "      <td>0</td>\n",
       "      <td>0</td>\n",
       "      <td>0</td>\n",
       "    </tr>\n",
       "    <tr>\n",
       "      <th>3830</th>\n",
       "      <td>-0.578179</td>\n",
       "      <td>0</td>\n",
       "      <td>0</td>\n",
       "      <td>1</td>\n",
       "      <td>0</td>\n",
       "      <td>0</td>\n",
       "      <td>0</td>\n",
       "      <td>0</td>\n",
       "      <td>0</td>\n",
       "      <td>0</td>\n",
       "      <td>0</td>\n",
       "      <td>0</td>\n",
       "    </tr>\n",
       "  </tbody>\n",
       "</table>\n",
       "</div>"
      ],
      "text/plain": [
       "      TimeOnWebsite  Lead Source_Direct Traffic  Lead Source_Google  \\\n",
       "3271      -0.591008                           0                   1   \n",
       "1490       1.894051                           1                   0   \n",
       "7936      -0.743117                           0                   1   \n",
       "4216      -0.878732                           0                   0   \n",
       "3830      -0.578179                           0                   0   \n",
       "\n",
       "      Lead Source_Organic Search  Lead Source_Reference  \\\n",
       "3271                           0                      0   \n",
       "1490                           0                      0   \n",
       "7936                           0                      0   \n",
       "4216                           0                      1   \n",
       "3830                           1                      0   \n",
       "\n",
       "      Lead Source_Referral Sites  Lead Source_Welingak Website  \\\n",
       "3271                           0                             0   \n",
       "1490                           0                             0   \n",
       "7936                           0                             0   \n",
       "4216                           0                             0   \n",
       "3830                           0                             0   \n",
       "\n",
       "      Last Notable Activity_Had a Phone Conversation  \\\n",
       "3271                                               0   \n",
       "1490                                               0   \n",
       "7936                                               0   \n",
       "4216                                               0   \n",
       "3830                                               0   \n",
       "\n",
       "      Last Notable Activity_Modified  \\\n",
       "3271                               0   \n",
       "1490                               0   \n",
       "7936                               0   \n",
       "4216                               1   \n",
       "3830                               0   \n",
       "\n",
       "      Last Notable Activity_Olark Chat Conversation  \\\n",
       "3271                                              0   \n",
       "1490                                              0   \n",
       "7936                                              0   \n",
       "4216                                              0   \n",
       "3830                                              0   \n",
       "\n",
       "      Last Notable Activity_SMS Sent  Last Notable Activity_Unreachable  \n",
       "3271                               0                                  0  \n",
       "1490                               0                                  0  \n",
       "7936                               0                                  0  \n",
       "4216                               0                                  0  \n",
       "3830                               0                                  0  "
      ]
     },
     "execution_count": 357,
     "metadata": {},
     "output_type": "execute_result"
    }
   ],
   "source": [
    "# Reduce test columns as per train set\n",
    "X_test=X_test[col]\n",
    "X_test.head()"
   ]
  },
  {
   "cell_type": "code",
   "execution_count": 358,
   "metadata": {},
   "outputs": [
    {
     "data": {
      "text/plain": [
       "3271    0.170617\n",
       "1490    0.701119\n",
       "7936    0.147068\n",
       "4216    0.818516\n",
       "3830    0.138910\n",
       "dtype: float64"
      ]
     },
     "execution_count": 358,
     "metadata": {},
     "output_type": "execute_result"
    }
   ],
   "source": [
    "# Make prediction data set on test set\n",
    "\n",
    "X_test_sm = sm.add_constant(X_test)  # Add constant to X_test\n",
    "y_test_pred = res.predict(X_test_sm) # Make predictions of probabilities on test set based on last model logm5\n",
    "y_test_pred[:5]"
   ]
  },
  {
   "cell_type": "code",
   "execution_count": 359,
   "metadata": {},
   "outputs": [
    {
     "data": {
      "text/html": [
       "<div>\n",
       "<style scoped>\n",
       "    .dataframe tbody tr th:only-of-type {\n",
       "        vertical-align: middle;\n",
       "    }\n",
       "\n",
       "    .dataframe tbody tr th {\n",
       "        vertical-align: top;\n",
       "    }\n",
       "\n",
       "    .dataframe thead th {\n",
       "        text-align: right;\n",
       "    }\n",
       "</style>\n",
       "<table border=\"1\" class=\"dataframe\">\n",
       "  <thead>\n",
       "    <tr style=\"text-align: right;\">\n",
       "      <th></th>\n",
       "      <th>0</th>\n",
       "    </tr>\n",
       "  </thead>\n",
       "  <tbody>\n",
       "    <tr>\n",
       "      <th>3271</th>\n",
       "      <td>0.170617</td>\n",
       "    </tr>\n",
       "    <tr>\n",
       "      <th>1490</th>\n",
       "      <td>0.701119</td>\n",
       "    </tr>\n",
       "    <tr>\n",
       "      <th>7936</th>\n",
       "      <td>0.147068</td>\n",
       "    </tr>\n",
       "    <tr>\n",
       "      <th>4216</th>\n",
       "      <td>0.818516</td>\n",
       "    </tr>\n",
       "    <tr>\n",
       "      <th>3830</th>\n",
       "      <td>0.138910</td>\n",
       "    </tr>\n",
       "  </tbody>\n",
       "</table>\n",
       "</div>"
      ],
      "text/plain": [
       "             0\n",
       "3271  0.170617\n",
       "1490  0.701119\n",
       "7936  0.147068\n",
       "4216  0.818516\n",
       "3830  0.138910"
      ]
     },
     "execution_count": 359,
     "metadata": {},
     "output_type": "execute_result"
    }
   ],
   "source": [
    "# Convert y_test_pred into a Data Frame\n",
    "y_test_pred_df=pd.DataFrame(y_test_pred)\n",
    "y_test_pred_df.head()"
   ]
  },
  {
   "cell_type": "code",
   "execution_count": 360,
   "metadata": {},
   "outputs": [
    {
     "data": {
      "text/html": [
       "<div>\n",
       "<style scoped>\n",
       "    .dataframe tbody tr th:only-of-type {\n",
       "        vertical-align: middle;\n",
       "    }\n",
       "\n",
       "    .dataframe tbody tr th {\n",
       "        vertical-align: top;\n",
       "    }\n",
       "\n",
       "    .dataframe thead th {\n",
       "        text-align: right;\n",
       "    }\n",
       "</style>\n",
       "<table border=\"1\" class=\"dataframe\">\n",
       "  <thead>\n",
       "    <tr style=\"text-align: right;\">\n",
       "      <th></th>\n",
       "      <th>Converted</th>\n",
       "    </tr>\n",
       "  </thead>\n",
       "  <tbody>\n",
       "    <tr>\n",
       "      <th>3271</th>\n",
       "      <td>0</td>\n",
       "    </tr>\n",
       "    <tr>\n",
       "      <th>1490</th>\n",
       "      <td>1</td>\n",
       "    </tr>\n",
       "    <tr>\n",
       "      <th>7936</th>\n",
       "      <td>0</td>\n",
       "    </tr>\n",
       "    <tr>\n",
       "      <th>4216</th>\n",
       "      <td>1</td>\n",
       "    </tr>\n",
       "    <tr>\n",
       "      <th>3830</th>\n",
       "      <td>0</td>\n",
       "    </tr>\n",
       "  </tbody>\n",
       "</table>\n",
       "</div>"
      ],
      "text/plain": [
       "      Converted\n",
       "3271          0\n",
       "1490          1\n",
       "7936          0\n",
       "4216          1\n",
       "3830          0"
      ]
     },
     "execution_count": 360,
     "metadata": {},
     "output_type": "execute_result"
    }
   ],
   "source": [
    "# Convert y_test (test set) also into Data Frame\n",
    "y_test_df=pd.DataFrame(y_test)\n",
    "y_test_df.head()"
   ]
  },
  {
   "cell_type": "code",
   "execution_count": 361,
   "metadata": {},
   "outputs": [
    {
     "data": {
      "text/html": [
       "<div>\n",
       "<style scoped>\n",
       "    .dataframe tbody tr th:only-of-type {\n",
       "        vertical-align: middle;\n",
       "    }\n",
       "\n",
       "    .dataframe tbody tr th {\n",
       "        vertical-align: top;\n",
       "    }\n",
       "\n",
       "    .dataframe thead th {\n",
       "        text-align: right;\n",
       "    }\n",
       "</style>\n",
       "<table border=\"1\" class=\"dataframe\">\n",
       "  <thead>\n",
       "    <tr style=\"text-align: right;\">\n",
       "      <th></th>\n",
       "      <th>0</th>\n",
       "      <th>Converted</th>\n",
       "    </tr>\n",
       "  </thead>\n",
       "  <tbody>\n",
       "    <tr>\n",
       "      <th>3271</th>\n",
       "      <td>0.170617</td>\n",
       "      <td>0</td>\n",
       "    </tr>\n",
       "    <tr>\n",
       "      <th>1490</th>\n",
       "      <td>0.701119</td>\n",
       "      <td>1</td>\n",
       "    </tr>\n",
       "    <tr>\n",
       "      <th>7936</th>\n",
       "      <td>0.147068</td>\n",
       "      <td>0</td>\n",
       "    </tr>\n",
       "    <tr>\n",
       "      <th>4216</th>\n",
       "      <td>0.818516</td>\n",
       "      <td>1</td>\n",
       "    </tr>\n",
       "    <tr>\n",
       "      <th>3830</th>\n",
       "      <td>0.138910</td>\n",
       "      <td>0</td>\n",
       "    </tr>\n",
       "  </tbody>\n",
       "</table>\n",
       "</div>"
      ],
      "text/plain": [
       "             0  Converted\n",
       "3271  0.170617          0\n",
       "1490  0.701119          1\n",
       "7936  0.147068          0\n",
       "4216  0.818516          1\n",
       "3830  0.138910          0"
      ]
     },
     "execution_count": 361,
     "metadata": {},
     "output_type": "execute_result"
    }
   ],
   "source": [
    "# Cocatenate the above predicted and test set\n",
    "y_pred_final=pd.concat([y_test_pred_df,y_test_df],axis=1)\n",
    "y_pred_final.head()"
   ]
  },
  {
   "cell_type": "code",
   "execution_count": 362,
   "metadata": {},
   "outputs": [
    {
     "data": {
      "text/html": [
       "<div>\n",
       "<style scoped>\n",
       "    .dataframe tbody tr th:only-of-type {\n",
       "        vertical-align: middle;\n",
       "    }\n",
       "\n",
       "    .dataframe tbody tr th {\n",
       "        vertical-align: top;\n",
       "    }\n",
       "\n",
       "    .dataframe thead th {\n",
       "        text-align: right;\n",
       "    }\n",
       "</style>\n",
       "<table border=\"1\" class=\"dataframe\">\n",
       "  <thead>\n",
       "    <tr style=\"text-align: right;\">\n",
       "      <th></th>\n",
       "      <th>LeadID</th>\n",
       "      <th>Converted</th>\n",
       "      <th>ConversionProb</th>\n",
       "    </tr>\n",
       "  </thead>\n",
       "  <tbody>\n",
       "    <tr>\n",
       "      <th>0</th>\n",
       "      <td>3271</td>\n",
       "      <td>0</td>\n",
       "      <td>0.170617</td>\n",
       "    </tr>\n",
       "    <tr>\n",
       "      <th>1</th>\n",
       "      <td>1490</td>\n",
       "      <td>1</td>\n",
       "      <td>0.701119</td>\n",
       "    </tr>\n",
       "    <tr>\n",
       "      <th>2</th>\n",
       "      <td>7936</td>\n",
       "      <td>0</td>\n",
       "      <td>0.147068</td>\n",
       "    </tr>\n",
       "    <tr>\n",
       "      <th>3</th>\n",
       "      <td>4216</td>\n",
       "      <td>1</td>\n",
       "      <td>0.818516</td>\n",
       "    </tr>\n",
       "    <tr>\n",
       "      <th>4</th>\n",
       "      <td>3830</td>\n",
       "      <td>0</td>\n",
       "      <td>0.138910</td>\n",
       "    </tr>\n",
       "  </tbody>\n",
       "</table>\n",
       "</div>"
      ],
      "text/plain": [
       "   LeadID  Converted  ConversionProb\n",
       "0    3271          0        0.170617\n",
       "1    1490          1        0.701119\n",
       "2    7936          0        0.147068\n",
       "3    4216          1        0.818516\n",
       "4    3830          0        0.138910"
      ]
     },
     "execution_count": 362,
     "metadata": {},
     "output_type": "execute_result"
    }
   ],
   "source": [
    "# Clean the y_pred_final with column names and adding index as column(LeadID)\n",
    "y_pred_final= y_pred_final.rename(columns={ 0 : 'ConversionProb'})  # Rename 0 column\n",
    "y_pred_final['LeadID']=y_pred_final.index  # Create index column LeadID\n",
    "y_pred_final = y_pred_final.reindex_axis(['LeadID','Converted','ConversionProb'], axis=1) # Re-arrange columns\n",
    "y_pred_final.reset_index(drop=True, inplace=True)  # Re-Set index\n",
    "y_pred_final.head()"
   ]
  },
  {
   "cell_type": "code",
   "execution_count": 363,
   "metadata": {},
   "outputs": [
    {
     "data": {
      "text/html": [
       "<div>\n",
       "<style scoped>\n",
       "    .dataframe tbody tr th:only-of-type {\n",
       "        vertical-align: middle;\n",
       "    }\n",
       "\n",
       "    .dataframe tbody tr th {\n",
       "        vertical-align: top;\n",
       "    }\n",
       "\n",
       "    .dataframe thead th {\n",
       "        text-align: right;\n",
       "    }\n",
       "</style>\n",
       "<table border=\"1\" class=\"dataframe\">\n",
       "  <thead>\n",
       "    <tr style=\"text-align: right;\">\n",
       "      <th></th>\n",
       "      <th>LeadID</th>\n",
       "      <th>Converted</th>\n",
       "      <th>ConversionProb</th>\n",
       "      <th>Predicted</th>\n",
       "    </tr>\n",
       "  </thead>\n",
       "  <tbody>\n",
       "    <tr>\n",
       "      <th>0</th>\n",
       "      <td>3271</td>\n",
       "      <td>0</td>\n",
       "      <td>0.170617</td>\n",
       "      <td>0</td>\n",
       "    </tr>\n",
       "    <tr>\n",
       "      <th>1</th>\n",
       "      <td>1490</td>\n",
       "      <td>1</td>\n",
       "      <td>0.701119</td>\n",
       "      <td>1</td>\n",
       "    </tr>\n",
       "    <tr>\n",
       "      <th>2</th>\n",
       "      <td>7936</td>\n",
       "      <td>0</td>\n",
       "      <td>0.147068</td>\n",
       "      <td>0</td>\n",
       "    </tr>\n",
       "    <tr>\n",
       "      <th>3</th>\n",
       "      <td>4216</td>\n",
       "      <td>1</td>\n",
       "      <td>0.818516</td>\n",
       "      <td>1</td>\n",
       "    </tr>\n",
       "    <tr>\n",
       "      <th>4</th>\n",
       "      <td>3830</td>\n",
       "      <td>0</td>\n",
       "      <td>0.138910</td>\n",
       "      <td>0</td>\n",
       "    </tr>\n",
       "  </tbody>\n",
       "</table>\n",
       "</div>"
      ],
      "text/plain": [
       "   LeadID  Converted  ConversionProb  Predicted\n",
       "0    3271          0        0.170617          0\n",
       "1    1490          1        0.701119          1\n",
       "2    7936          0        0.147068          0\n",
       "3    4216          1        0.818516          1\n",
       "4    3830          0        0.138910          0"
      ]
     },
     "execution_count": 363,
     "metadata": {},
     "output_type": "execute_result"
    }
   ],
   "source": [
    "# Add column for Predicted conversion as per threshold=0.31\n",
    "y_pred_final['Predicted'] = y_pred_final.ConversionProb.map(lambda x: 1 if x > 0.31 else 0)\n",
    "y_pred_final.head()"
   ]
  },
  {
   "cell_type": "code",
   "execution_count": 364,
   "metadata": {},
   "outputs": [
    {
     "name": "stdout",
     "output_type": "stream",
     "text": [
      "[[1334  400]\n",
      " [ 198  791]]\n"
     ]
    }
   ],
   "source": [
    "# Get the confusion matrix and metrics like Accuracy and Sensitivity\n",
    "confusion_matrix=metrics.confusion_matrix(y_pred_final.Converted,y_pred_final.Predicted)\n",
    "print(confusion_matrix)"
   ]
  },
  {
   "cell_type": "code",
   "execution_count": 365,
   "metadata": {},
   "outputs": [],
   "source": [
    "# Assign confursion matrix values as TP,TN,FN,FP\n",
    "TP = confusion_matrix[1,1] # true positive \n",
    "TN = confusion_matrix[0,0] # true negatives\n",
    "FP = confusion_matrix[0,1] # false positives\n",
    "FN = confusion_matrix[1,0] # false negatives"
   ]
  },
  {
   "cell_type": "code",
   "execution_count": 366,
   "metadata": {},
   "outputs": [
    {
     "name": "stdout",
     "output_type": "stream",
     "text": [
      "Sensitivity or Recall: 0.8\n",
      "Accuracy: 0.78\n",
      "Specificity: 0.77\n",
      "Precision: 0.66\n"
     ]
    }
   ],
   "source": [
    "#print Accuracy ,Sensitivity, Specificity , Precision \n",
    "print('Sensitivity or Recall:',round(TP / float(TP+FN),2))\n",
    "print('Accuracy:',round((TP+TN)/(TP+TN+FN+FP),2))\n",
    "print('Specificity:',round(TN / float(TN+FP),2))\n",
    "print('Precision:',round(TP / float(TP+FP),2))"
   ]
  },
  {
   "cell_type": "markdown",
   "metadata": {},
   "source": [
    "### Hence we have now reached our final model(logm5) and Probability Threshold(0.31)\n",
    "### Predicted Sensitivity is 0.8 as required by CEO , ie now conversion rate should be greater than 80%\n",
    "### Accuracy and Specificity numbers are good enough keeping in mind we need to have sensitivity above 0.8\n",
    "### Precision is not that high(0.66) , but thats a trade off we accept for high Recall or Sensitivity"
   ]
  }
 ],
 "metadata": {
  "kernelspec": {
   "display_name": "Python 3 (ipykernel)",
   "language": "python",
   "name": "python3"
  },
  "language_info": {
   "codemirror_mode": {
    "name": "ipython",
    "version": 3
   },
   "file_extension": ".py",
   "mimetype": "text/x-python",
   "name": "python",
   "nbconvert_exporter": "python",
   "pygments_lexer": "ipython3",
   "version": "3.10.0"
  }
 },
 "nbformat": 4,
 "nbformat_minor": 2
}
